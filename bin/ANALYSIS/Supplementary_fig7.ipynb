{
 "cells": [
  {
   "cell_type": "code",
   "execution_count": null,
   "metadata": {},
   "outputs": [],
   "source": [
    "import pandas as pd \n",
    "import matplotlib.pyplot as plt\n",
    "import seaborn as sns\n",
    "import os\n",
    "from scipy.stats import spearmanr\n",
    "if os.getcwd().endswith('ALPACA-paper'):\n",
    "    os.chdir('bin/ANALYSIS')\n",
    "primary_metrics_per_tumour = pd.read_csv(f'../../_assets/runtime_input.csv')\n",
    "features = ['Number of clones','Number of segments','Ploidy','Purity']\n",
    "time_colname = 'Runtime in hours'\n",
    "\n",
    "sns.set(style=\"whitegrid\")\n",
    "plt.figure(figsize=(10,10))\n",
    "font_size = 16\n",
    "plt.rcParams.update({'font.size': font_size})\n",
    "sns.set(font_scale=1.3)\n",
    "for idx,feature in enumerate(features):\n",
    "    plt.subplot(2,2,idx+1)\n",
    "    sns.scatterplot(data=primary_metrics_per_tumour,y=time_colname,x=feature)\n",
    "    plt.ylabel('Runtime per tumour (h)')\n",
    "    plt.xlabel(feature)\n",
    "    rho, p_value = spearmanr(primary_metrics_per_tumour[feature], primary_metrics_per_tumour[time_colname])\n",
    "    print(f'{feature} vs {time_colname}: rho={rho}, p={p_value}')\n",
    "    # annotate the plot with the correlation coefficient:\n",
    "    plt.annotate(f'Rho = {rho:.2f}', xy=(0.05, 0.95), xycoords='axes fraction', fontsize=font_size, ha='left', va='top', color='black')\n",
    "    plt.annotate(f'P = {p_value:.3e}', xy=(0.05, 0.9), xycoords='axes fraction', fontsize=font_size, ha='left', va='top', color='black')\n",
    "plt.tight_layout()\n",
    "\n",
    "\n",
    "plt.savefig(f'../../figures/Suppfig7g_runtime_vs_features.pdf',dpi=300)"
   ]
  }
 ],
 "metadata": {
  "kernelspec": {
   "display_name": "main_env",
   "language": "python",
   "name": "python3"
  },
  "language_info": {
   "codemirror_mode": {
    "name": "ipython",
    "version": 3
   },
   "file_extension": ".py",
   "mimetype": "text/x-python",
   "name": "python",
   "nbconvert_exporter": "python",
   "pygments_lexer": "ipython3",
   "version": "3.13.2"
  }
 },
 "nbformat": 4,
 "nbformat_minor": 2
}
