{
 "cells": [
  {
   "cell_type": "code",
   "execution_count": 10,
   "metadata": {
    "ExecuteTime": {
     "end_time": "2024-04-21T15:01:07.948984Z",
     "start_time": "2024-04-21T15:01:07.930585Z"
    }
   },
   "outputs": [],
   "source": [
    "import pandas as pd\n",
    "import numpy as np\n",
    "import warnings\n",
    "warnings.filterwarnings('ignore')\n",
    "import plotly.io as pio\n",
    "try:\n",
    "    pio.kaleido.scope.mathjax = None\n",
    "except:\n",
    "    pass\n",
    "import seaborn as sns\n",
    "import matplotlib.pyplot as plt\n",
    "import os,sys\n",
    "import plotly.graph_objects as go\n",
    "import sigfig\n",
    "import plotly.graph_objects as go\n",
    "from scipy.stats import wilcoxon"
   ]
  },
  {
   "cell_type": "code",
   "execution_count": 11,
   "metadata": {},
   "outputs": [],
   "source": [
    "# set correct wd:\n",
    "cwd = os.getcwd()\n",
    "if not cwd.endswith('ANALYSIS'):\n",
    "    os.chdir('./bin/ANALYSIS')\n",
    "    sys.path.append(os.path.abspath('.'))\n",
    "output_directory = '../../'\n",
    "os.makedirs(f'{output_directory}/figures', exist_ok=True)"
   ]
  },
  {
   "cell_type": "code",
   "execution_count": null,
   "metadata": {},
   "outputs": [
    {
     "name": "stdout",
     "output_type": "stream",
     "text": [
      "accuracy\n",
      "{(0, 1): np.float64(1.7981591168806198e-06), (0, 2): np.float64(5.208452253035007e-10), (1, 2): np.float64(0.0010747534600181409)}\n"
     ]
    },
    {
     "data": {
      "application/vnd.plotly.v1+json": {
       "config": {
        "plotlyServerURL": "https://plot.ly"
       },
       "data": [
        {
         "boxpoints": "all",
         "jitter": 0.5,
         "line": {
          "color": "#B15928",
          "width": 2
         },
         "marker": {
          "size": 4.5
         },
         "name": "cloneHD",
         "orientation": "v",
         "pointpos": 0,
         "type": "box",
         "y": [
          0.987487981015099,
          0.635411737553912,
          0.8856798569112929,
          0.38829785059504135,
          0.9913032651472151,
          0.5359914692969042,
          0.9889074863503806,
          0.8768909275676611,
          0.9847092808976586,
          0.7414170938661886,
          0.5981880063603077,
          0.4951741965937086,
          0.9787104586632407,
          0.39963486160833056,
          0.9042327357594308,
          0.4089091496135682,
          0.996332006378386,
          0.5189650552865868,
          0.9266310341528516,
          0.6656270550100784,
          0.9963434663872883,
          0.5916299671410573,
          0.998801670133401,
          0.5144895520459829,
          0.9902258516851958,
          0.6151492692882992,
          0.9959581820954783,
          0.6029449287586713,
          0.4109175631700863,
          0.7859968385335954,
          0.39546161372238353,
          0.6117407650890578,
          0.5918156468128513,
          0.5545206479646141,
          0.9889139298039775,
          0.49514627237302283,
          0.31625911204331325,
          0.9924481746233517,
          0.883300466543849,
          0.7300042143950488,
          0.9946790498917006,
          0.8282290860833322,
          0.5072307431730589,
          0.8589088548780998,
          0.30032552989656125,
          0.5778339730494823,
          0.9628034846084776,
          0.6110325216751765,
          0.5136433115338778,
          0.7757449770222279,
          0.5296004414702059,
          0.9836368868695459,
          0.9157104834647972,
          0.529023268591586,
          0.995632637057638,
          0.5457667287097941,
          0.5940809881621482,
          0.9826206521225833,
          0.8822010854624269,
          0.9766833773625139,
          0.9943484354390574,
          0.44852350532435675,
          0.9103465943192943,
          0.5349974282710217
         ]
        },
        {
         "boxpoints": "all",
         "jitter": 0.5,
         "line": {
          "color": "#FF7F00",
          "width": 2
         },
         "marker": {
          "size": 4.5
         },
         "name": "HATCHet",
         "orientation": "v",
         "pointpos": 0,
         "type": "box",
         "y": [
          0.9872214110411485,
          0.9918355211185509,
          0.9970969754905793,
          0.989642198148502,
          0.9940789106997209,
          0.9984130427967879,
          0.985415122840812,
          0.9823284506663168,
          0.9402005898108052,
          0.9955946045567781,
          0.9642496210792014,
          0.5081186035067589,
          0.9647911101639693,
          0.971692483628354,
          0.9937602321797204,
          0.9970143331062732,
          0.9865287359274415,
          0.997221707057208,
          0.5757046329804677,
          0.9905408178090361,
          0.9922229355433395,
          0.9964429798529074,
          0.9987353886171961,
          0.9940161101416848,
          0.5821671326198709,
          0.9853292069312882,
          0.9968845904205499,
          0.998694045938318,
          0.9984440366099915,
          0.9770988945898561,
          0.5399949879653797,
          0.9885871801734981,
          0.9964948351852505,
          0.957820618336598,
          0.9924720705603104,
          0.5409274140622876,
          0.9620434730518123,
          0.9921477136582157,
          0.9677184833754482,
          0.9855909201347943,
          0.9964867809460627,
          0.9578838872147244,
          0.8797777801126857,
          0.9898241975285346,
          0.9951818875881402,
          0.997269983006262,
          0.990877961245306,
          0.7293617807288362,
          0.9986215302670167,
          0.9868660852449503,
          0.9772284017677708,
          0.5169261382416712,
          0.9298842842066998,
          0.9972084819088052,
          0.9377391514144318,
          0.9974378070588863,
          0.544573888779788,
          0.5160569518221849,
          0.6287514324201743,
          0.9931260386449454,
          0.9962810233408035,
          0.9359970300419049,
          0.9269936834706142,
          0.9944343806273803
         ]
        },
        {
         "boxpoints": "all",
         "jitter": 0.5,
         "line": {
          "color": "#1F78B4",
          "width": 2
         },
         "marker": {
          "size": 4.5
         },
         "name": "ALPACA",
         "orientation": "v",
         "pointpos": 0,
         "type": "box",
         "y": [
          0.9682264832988459,
          0.947015529878671,
          0.9462386557175414,
          0.9984229973070995,
          0.9986696226717469,
          0.9977321179782872,
          0.9765759108423233,
          0.9824873385442222,
          0.9599356567825128,
          0.9506301746939737,
          0.9991033666002875,
          0.9861171656110602,
          0.9628295533793717,
          0.7815996991027423,
          0.9946857049770765,
          0.9785870701951318,
          0.9985531117202585,
          0.9995431751704277,
          0.9807653460347733,
          0.995116698377595,
          0.9948540480631582,
          0.9995978188132105,
          0.9994053376137535,
          0.9962164153641997,
          0.9659353367067944,
          0.999614895278951,
          0.998337136265086,
          0.998660493946994,
          0.998864062410275,
          0.9826815837202495,
          0.9978405412778798,
          0.8430027538848303,
          0.9966344034805631,
          0.9991936986745112,
          0.9986218442398799,
          0.9968759132637068,
          0.9947124651062556,
          0.9990163703470902,
          0.9929920687731751,
          0.9843271940810916,
          0.9986033241520461,
          0.9612856662103816,
          0.9900594615029329,
          0.9600186413222166,
          0.9992782669474415,
          0.9979046799619412,
          0.9864973472556616,
          0.9575473142171171,
          0.9977045372255751,
          0.9603650641128283,
          0.9990246073980991,
          0.9878129126845521,
          0.9952228905183582,
          0.998222111667676,
          0.9903315373522337,
          0.9949668382198904,
          0.9970196262417697,
          0.978283122744251,
          0.9881416793587161,
          0.99524823159751,
          0.9627944422989941,
          0.9773932430170428,
          0.9760027163995718,
          0.9991155288519195
         ]
        }
       ],
       "layout": {
        "annotations": [
         {
          "font": {
           "color": "black",
           "size": 24
          },
          "showarrow": false,
          "text": "P = 1.80×10<sup>-6</sup>",
          "textangle": 0,
          "x": 0.5,
          "xref": "x",
          "y": 1.06,
          "yref": "y domain"
         },
         {
          "font": {
           "color": "black",
           "size": 24
          },
          "showarrow": false,
          "text": "P = 5.21×10<sup>-10</sup>",
          "textangle": 0,
          "x": 1,
          "xref": "x",
          "y": 1.1500000000000001,
          "yref": "y domain"
         },
         {
          "font": {
           "color": "black",
           "size": 24
          },
          "showarrow": false,
          "text": "P = 0.00107",
          "textangle": 0,
          "x": 1.5,
          "xref": "x",
          "y": 1.2400000000000002,
          "yref": "y domain"
         }
        ],
        "font": {
         "family": "Arial",
         "size": 45
        },
        "height": 800,
        "margin": {
         "b": 0,
         "l": 0,
         "r": 0,
         "t": 130
        },
        "paper_bgcolor": "white",
        "plot_bgcolor": "white",
        "shapes": [
         {
          "line": {
           "color": "black",
           "width": 2
          },
          "type": "line",
          "x0": 0,
          "x1": 1,
          "xref": "x",
          "y0": 1,
          "y1": 1,
          "yref": "y domain"
         },
         {
          "line": {
           "color": "black",
           "width": 2
          },
          "type": "line",
          "x0": 0,
          "x1": 0,
          "xref": "x",
          "y0": 1,
          "y1": 0.975,
          "yref": "y domain"
         },
         {
          "line": {
           "color": "black",
           "width": 2
          },
          "type": "line",
          "x0": 1,
          "x1": 1,
          "xref": "x",
          "y0": 1,
          "y1": 0.975,
          "yref": "y domain"
         },
         {
          "line": {
           "color": "black",
           "width": 2
          },
          "type": "line",
          "x0": 0,
          "x1": 2,
          "xref": "x",
          "y0": 1.09,
          "y1": 1.09,
          "yref": "y domain"
         },
         {
          "line": {
           "color": "black",
           "width": 2
          },
          "type": "line",
          "x0": 0,
          "x1": 0,
          "xref": "x",
          "y0": 1.09,
          "y1": 1.0650000000000002,
          "yref": "y domain"
         },
         {
          "line": {
           "color": "black",
           "width": 2
          },
          "type": "line",
          "x0": 2,
          "x1": 2,
          "xref": "x",
          "y0": 1.09,
          "y1": 1.0650000000000002,
          "yref": "y domain"
         },
         {
          "line": {
           "color": "black",
           "width": 2
          },
          "type": "line",
          "x0": 1,
          "x1": 2,
          "xref": "x",
          "y0": 1.1800000000000002,
          "y1": 1.1800000000000002,
          "yref": "y domain"
         },
         {
          "line": {
           "color": "black",
           "width": 2
          },
          "type": "line",
          "x0": 1,
          "x1": 1,
          "xref": "x",
          "y0": 1.1800000000000002,
          "y1": 1.1550000000000002,
          "yref": "y domain"
         },
         {
          "line": {
           "color": "black",
           "width": 2
          },
          "type": "line",
          "x0": 2,
          "x1": 2,
          "xref": "x",
          "y0": 1.1800000000000002,
          "y1": 1.1550000000000002,
          "yref": "y domain"
         }
        ],
        "showlegend": false,
        "template": {
         "data": {
          "bar": [
           {
            "error_x": {
             "color": "#2a3f5f"
            },
            "error_y": {
             "color": "#2a3f5f"
            },
            "marker": {
             "line": {
              "color": "#E5ECF6",
              "width": 0.5
             },
             "pattern": {
              "fillmode": "overlay",
              "size": 10,
              "solidity": 0.2
             }
            },
            "type": "bar"
           }
          ],
          "barpolar": [
           {
            "marker": {
             "line": {
              "color": "#E5ECF6",
              "width": 0.5
             },
             "pattern": {
              "fillmode": "overlay",
              "size": 10,
              "solidity": 0.2
             }
            },
            "type": "barpolar"
           }
          ],
          "carpet": [
           {
            "aaxis": {
             "endlinecolor": "#2a3f5f",
             "gridcolor": "white",
             "linecolor": "white",
             "minorgridcolor": "white",
             "startlinecolor": "#2a3f5f"
            },
            "baxis": {
             "endlinecolor": "#2a3f5f",
             "gridcolor": "white",
             "linecolor": "white",
             "minorgridcolor": "white",
             "startlinecolor": "#2a3f5f"
            },
            "type": "carpet"
           }
          ],
          "choropleth": [
           {
            "colorbar": {
             "outlinewidth": 0,
             "ticks": ""
            },
            "type": "choropleth"
           }
          ],
          "contour": [
           {
            "colorbar": {
             "outlinewidth": 0,
             "ticks": ""
            },
            "colorscale": [
             [
              0,
              "#0d0887"
             ],
             [
              0.1111111111111111,
              "#46039f"
             ],
             [
              0.2222222222222222,
              "#7201a8"
             ],
             [
              0.3333333333333333,
              "#9c179e"
             ],
             [
              0.4444444444444444,
              "#bd3786"
             ],
             [
              0.5555555555555556,
              "#d8576b"
             ],
             [
              0.6666666666666666,
              "#ed7953"
             ],
             [
              0.7777777777777778,
              "#fb9f3a"
             ],
             [
              0.8888888888888888,
              "#fdca26"
             ],
             [
              1,
              "#f0f921"
             ]
            ],
            "type": "contour"
           }
          ],
          "contourcarpet": [
           {
            "colorbar": {
             "outlinewidth": 0,
             "ticks": ""
            },
            "type": "contourcarpet"
           }
          ],
          "heatmap": [
           {
            "colorbar": {
             "outlinewidth": 0,
             "ticks": ""
            },
            "colorscale": [
             [
              0,
              "#0d0887"
             ],
             [
              0.1111111111111111,
              "#46039f"
             ],
             [
              0.2222222222222222,
              "#7201a8"
             ],
             [
              0.3333333333333333,
              "#9c179e"
             ],
             [
              0.4444444444444444,
              "#bd3786"
             ],
             [
              0.5555555555555556,
              "#d8576b"
             ],
             [
              0.6666666666666666,
              "#ed7953"
             ],
             [
              0.7777777777777778,
              "#fb9f3a"
             ],
             [
              0.8888888888888888,
              "#fdca26"
             ],
             [
              1,
              "#f0f921"
             ]
            ],
            "type": "heatmap"
           }
          ],
          "heatmapgl": [
           {
            "colorbar": {
             "outlinewidth": 0,
             "ticks": ""
            },
            "colorscale": [
             [
              0,
              "#0d0887"
             ],
             [
              0.1111111111111111,
              "#46039f"
             ],
             [
              0.2222222222222222,
              "#7201a8"
             ],
             [
              0.3333333333333333,
              "#9c179e"
             ],
             [
              0.4444444444444444,
              "#bd3786"
             ],
             [
              0.5555555555555556,
              "#d8576b"
             ],
             [
              0.6666666666666666,
              "#ed7953"
             ],
             [
              0.7777777777777778,
              "#fb9f3a"
             ],
             [
              0.8888888888888888,
              "#fdca26"
             ],
             [
              1,
              "#f0f921"
             ]
            ],
            "type": "heatmapgl"
           }
          ],
          "histogram": [
           {
            "marker": {
             "pattern": {
              "fillmode": "overlay",
              "size": 10,
              "solidity": 0.2
             }
            },
            "type": "histogram"
           }
          ],
          "histogram2d": [
           {
            "colorbar": {
             "outlinewidth": 0,
             "ticks": ""
            },
            "colorscale": [
             [
              0,
              "#0d0887"
             ],
             [
              0.1111111111111111,
              "#46039f"
             ],
             [
              0.2222222222222222,
              "#7201a8"
             ],
             [
              0.3333333333333333,
              "#9c179e"
             ],
             [
              0.4444444444444444,
              "#bd3786"
             ],
             [
              0.5555555555555556,
              "#d8576b"
             ],
             [
              0.6666666666666666,
              "#ed7953"
             ],
             [
              0.7777777777777778,
              "#fb9f3a"
             ],
             [
              0.8888888888888888,
              "#fdca26"
             ],
             [
              1,
              "#f0f921"
             ]
            ],
            "type": "histogram2d"
           }
          ],
          "histogram2dcontour": [
           {
            "colorbar": {
             "outlinewidth": 0,
             "ticks": ""
            },
            "colorscale": [
             [
              0,
              "#0d0887"
             ],
             [
              0.1111111111111111,
              "#46039f"
             ],
             [
              0.2222222222222222,
              "#7201a8"
             ],
             [
              0.3333333333333333,
              "#9c179e"
             ],
             [
              0.4444444444444444,
              "#bd3786"
             ],
             [
              0.5555555555555556,
              "#d8576b"
             ],
             [
              0.6666666666666666,
              "#ed7953"
             ],
             [
              0.7777777777777778,
              "#fb9f3a"
             ],
             [
              0.8888888888888888,
              "#fdca26"
             ],
             [
              1,
              "#f0f921"
             ]
            ],
            "type": "histogram2dcontour"
           }
          ],
          "mesh3d": [
           {
            "colorbar": {
             "outlinewidth": 0,
             "ticks": ""
            },
            "type": "mesh3d"
           }
          ],
          "parcoords": [
           {
            "line": {
             "colorbar": {
              "outlinewidth": 0,
              "ticks": ""
             }
            },
            "type": "parcoords"
           }
          ],
          "pie": [
           {
            "automargin": true,
            "type": "pie"
           }
          ],
          "scatter": [
           {
            "fillpattern": {
             "fillmode": "overlay",
             "size": 10,
             "solidity": 0.2
            },
            "type": "scatter"
           }
          ],
          "scatter3d": [
           {
            "line": {
             "colorbar": {
              "outlinewidth": 0,
              "ticks": ""
             }
            },
            "marker": {
             "colorbar": {
              "outlinewidth": 0,
              "ticks": ""
             }
            },
            "type": "scatter3d"
           }
          ],
          "scattercarpet": [
           {
            "marker": {
             "colorbar": {
              "outlinewidth": 0,
              "ticks": ""
             }
            },
            "type": "scattercarpet"
           }
          ],
          "scattergeo": [
           {
            "marker": {
             "colorbar": {
              "outlinewidth": 0,
              "ticks": ""
             }
            },
            "type": "scattergeo"
           }
          ],
          "scattergl": [
           {
            "marker": {
             "colorbar": {
              "outlinewidth": 0,
              "ticks": ""
             }
            },
            "type": "scattergl"
           }
          ],
          "scattermapbox": [
           {
            "marker": {
             "colorbar": {
              "outlinewidth": 0,
              "ticks": ""
             }
            },
            "type": "scattermapbox"
           }
          ],
          "scatterpolar": [
           {
            "marker": {
             "colorbar": {
              "outlinewidth": 0,
              "ticks": ""
             }
            },
            "type": "scatterpolar"
           }
          ],
          "scatterpolargl": [
           {
            "marker": {
             "colorbar": {
              "outlinewidth": 0,
              "ticks": ""
             }
            },
            "type": "scatterpolargl"
           }
          ],
          "scatterternary": [
           {
            "marker": {
             "colorbar": {
              "outlinewidth": 0,
              "ticks": ""
             }
            },
            "type": "scatterternary"
           }
          ],
          "surface": [
           {
            "colorbar": {
             "outlinewidth": 0,
             "ticks": ""
            },
            "colorscale": [
             [
              0,
              "#0d0887"
             ],
             [
              0.1111111111111111,
              "#46039f"
             ],
             [
              0.2222222222222222,
              "#7201a8"
             ],
             [
              0.3333333333333333,
              "#9c179e"
             ],
             [
              0.4444444444444444,
              "#bd3786"
             ],
             [
              0.5555555555555556,
              "#d8576b"
             ],
             [
              0.6666666666666666,
              "#ed7953"
             ],
             [
              0.7777777777777778,
              "#fb9f3a"
             ],
             [
              0.8888888888888888,
              "#fdca26"
             ],
             [
              1,
              "#f0f921"
             ]
            ],
            "type": "surface"
           }
          ],
          "table": [
           {
            "cells": {
             "fill": {
              "color": "#EBF0F8"
             },
             "line": {
              "color": "white"
             }
            },
            "header": {
             "fill": {
              "color": "#C8D4E3"
             },
             "line": {
              "color": "white"
             }
            },
            "type": "table"
           }
          ]
         },
         "layout": {
          "annotationdefaults": {
           "arrowcolor": "#2a3f5f",
           "arrowhead": 0,
           "arrowwidth": 1
          },
          "autotypenumbers": "strict",
          "coloraxis": {
           "colorbar": {
            "outlinewidth": 0,
            "ticks": ""
           }
          },
          "colorscale": {
           "diverging": [
            [
             0,
             "#8e0152"
            ],
            [
             0.1,
             "#c51b7d"
            ],
            [
             0.2,
             "#de77ae"
            ],
            [
             0.3,
             "#f1b6da"
            ],
            [
             0.4,
             "#fde0ef"
            ],
            [
             0.5,
             "#f7f7f7"
            ],
            [
             0.6,
             "#e6f5d0"
            ],
            [
             0.7,
             "#b8e186"
            ],
            [
             0.8,
             "#7fbc41"
            ],
            [
             0.9,
             "#4d9221"
            ],
            [
             1,
             "#276419"
            ]
           ],
           "sequential": [
            [
             0,
             "#0d0887"
            ],
            [
             0.1111111111111111,
             "#46039f"
            ],
            [
             0.2222222222222222,
             "#7201a8"
            ],
            [
             0.3333333333333333,
             "#9c179e"
            ],
            [
             0.4444444444444444,
             "#bd3786"
            ],
            [
             0.5555555555555556,
             "#d8576b"
            ],
            [
             0.6666666666666666,
             "#ed7953"
            ],
            [
             0.7777777777777778,
             "#fb9f3a"
            ],
            [
             0.8888888888888888,
             "#fdca26"
            ],
            [
             1,
             "#f0f921"
            ]
           ],
           "sequentialminus": [
            [
             0,
             "#0d0887"
            ],
            [
             0.1111111111111111,
             "#46039f"
            ],
            [
             0.2222222222222222,
             "#7201a8"
            ],
            [
             0.3333333333333333,
             "#9c179e"
            ],
            [
             0.4444444444444444,
             "#bd3786"
            ],
            [
             0.5555555555555556,
             "#d8576b"
            ],
            [
             0.6666666666666666,
             "#ed7953"
            ],
            [
             0.7777777777777778,
             "#fb9f3a"
            ],
            [
             0.8888888888888888,
             "#fdca26"
            ],
            [
             1,
             "#f0f921"
            ]
           ]
          },
          "colorway": [
           "#636efa",
           "#EF553B",
           "#00cc96",
           "#ab63fa",
           "#FFA15A",
           "#19d3f3",
           "#FF6692",
           "#B6E880",
           "#FF97FF",
           "#FECB52"
          ],
          "font": {
           "color": "#2a3f5f"
          },
          "geo": {
           "bgcolor": "white",
           "lakecolor": "white",
           "landcolor": "#E5ECF6",
           "showlakes": true,
           "showland": true,
           "subunitcolor": "white"
          },
          "hoverlabel": {
           "align": "left"
          },
          "hovermode": "closest",
          "mapbox": {
           "style": "light"
          },
          "paper_bgcolor": "white",
          "plot_bgcolor": "#E5ECF6",
          "polar": {
           "angularaxis": {
            "gridcolor": "white",
            "linecolor": "white",
            "ticks": ""
           },
           "bgcolor": "#E5ECF6",
           "radialaxis": {
            "gridcolor": "white",
            "linecolor": "white",
            "ticks": ""
           }
          },
          "scene": {
           "xaxis": {
            "backgroundcolor": "#E5ECF6",
            "gridcolor": "white",
            "gridwidth": 2,
            "linecolor": "white",
            "showbackground": true,
            "ticks": "",
            "zerolinecolor": "white"
           },
           "yaxis": {
            "backgroundcolor": "#E5ECF6",
            "gridcolor": "white",
            "gridwidth": 2,
            "linecolor": "white",
            "showbackground": true,
            "ticks": "",
            "zerolinecolor": "white"
           },
           "zaxis": {
            "backgroundcolor": "#E5ECF6",
            "gridcolor": "white",
            "gridwidth": 2,
            "linecolor": "white",
            "showbackground": true,
            "ticks": "",
            "zerolinecolor": "white"
           }
          },
          "shapedefaults": {
           "line": {
            "color": "#2a3f5f"
           }
          },
          "ternary": {
           "aaxis": {
            "gridcolor": "white",
            "linecolor": "white",
            "ticks": ""
           },
           "baxis": {
            "gridcolor": "white",
            "linecolor": "white",
            "ticks": ""
           },
           "bgcolor": "#E5ECF6",
           "caxis": {
            "gridcolor": "white",
            "linecolor": "white",
            "ticks": ""
           }
          },
          "title": {
           "x": 0.05
          },
          "xaxis": {
           "automargin": true,
           "gridcolor": "white",
           "linecolor": "white",
           "ticks": "",
           "title": {
            "standoff": 15
           },
           "zerolinecolor": "white",
           "zerolinewidth": 2
          },
          "yaxis": {
           "automargin": true,
           "gridcolor": "white",
           "linecolor": "white",
           "ticks": "",
           "title": {
            "standoff": 15
           },
           "zerolinecolor": "white",
           "zerolinewidth": 2
          }
         }
        },
        "title": {
         "text": ""
        },
        "width": 600,
        "xaxis": {
         "showgrid": false
        },
        "yaxis": {
         "gridcolor": "black",
         "gridwidth": 1,
         "showgrid": true,
         "title": {
          "font": {
           "family": "Arial",
           "size": 36
          },
          "text": "Accuracy"
         },
         "zeroline": true,
         "zerolinecolor": "black",
         "zerolinewidth": 1
        }
       }
      }
     },
     "metadata": {},
     "output_type": "display_data"
    }
   ],
   "source": [
    "# Accuracy comparison between HATCHet1, cloneHD and ALPACA\n",
    "def get_hd_hatchet_alpaca_colours(palette):\n",
    "    import json\n",
    "    with open(palette, \"r\") as f:\n",
    "        palette = json.load(f)\n",
    "    catgorical_palette = palette[\"categorical\"]\n",
    "    colours = {}\n",
    "    colours[\"hd\"] = catgorical_palette[\"c12\"]\n",
    "    colours[\"hatchet\"] = catgorical_palette[\"c8\"]\n",
    "    colours[\"alpaca\"] = catgorical_palette[\"c2\"]\n",
    "    return colours\n",
    "\n",
    "\n",
    "def create_consensus_segments(df1, df2,position_columns_names=['#CHR','START','END']):\n",
    "    chr_colname = position_columns_names[0]\n",
    "    start_colname = position_columns_names[1]\n",
    "    end_colname = position_columns_names[2]\n",
    "    combined = pd.concat([\n",
    "        df1[[chr_colname, start_colname]].rename(columns={start_colname: \"position\"}),\n",
    "        df1[[chr_colname, end_colname]].rename(columns={end_colname: \"position\"}),\n",
    "        df2[[chr_colname, start_colname]].rename(columns={start_colname: \"position\"}),\n",
    "        df2[[chr_colname, end_colname]].rename(columns={end_colname: \"position\"}),\n",
    "    ])\n",
    "    \n",
    "    combined = combined.drop_duplicates().sort_values(by=[chr_colname, \"position\"]).reset_index(drop=True)\n",
    "    \n",
    "    # Create consensus segments\n",
    "    consensus = combined.copy()\n",
    "    consensus[end_colname] = consensus.groupby(chr_colname)[\"position\"].shift(-1)\n",
    "    consensus = consensus.dropna().rename(columns={\"position\": start_colname})\n",
    "    consensus = consensus[[chr_colname, start_colname, end_colname]]\n",
    "    \n",
    "    def map_metadata(consensus, original,metadata_columns):\n",
    "        consensus = consensus.copy()\n",
    "        for col in metadata_columns:\n",
    "            consensus[col] = None\n",
    "        \n",
    "        # Map metadata by checking overlaps\n",
    "        for _, row in original.iterrows():\n",
    "            overlap = (consensus[chr_colname] == row[chr_colname]) & \\\n",
    "                      (consensus[start_colname] >= row[start_colname]) & \\\n",
    "                      (consensus[end_colname] <= row[end_colname])\n",
    "            for col in metadata_columns:\n",
    "                consensus.loc[overlap, col] = row[col]\n",
    "        return consensus\n",
    "\n",
    "    metadata_columns_df1 = [col for col in df1.columns if col not in position_columns_names]\n",
    "    metadata_columns_df2 = [col for col in df2.columns if col not in position_columns_names]\n",
    "    consensus_df1 = map_metadata(consensus, df1,metadata_columns_df1)\n",
    "    consensus_df2 = map_metadata(consensus, df2,metadata_columns_df2)\n",
    "    consensus_df1 = consensus_df1.dropna()\n",
    "    consensus_df2 = consensus_df2.dropna()\n",
    "    \n",
    "    \n",
    "    consensus_df1['segment'] = consensus_df1[position_columns_names].apply(lambda x: f'{x[chr_colname]}_{int(x[start_colname])}_{int(x[end_colname])}',axis=1)\n",
    "    consensus_df2['segment'] = consensus_df2[position_columns_names].apply(lambda x: f'{x[chr_colname]}_{int(x[start_colname])}_{int(x[end_colname])}',axis=1)\n",
    "    \n",
    "    consensus_df1['seg_len'] = consensus_df1[end_colname] - consensus_df1[start_colname]\n",
    "    consensus_df2['seg_len'] = consensus_df2[end_colname] - consensus_df2[start_colname]\n",
    "    \n",
    "    # remove zero-length segments:\n",
    "    consensus_df1 = consensus_df1[consensus_df1['seg_len'] > 0]\n",
    "    consensus_df2 = consensus_df2[consensus_df2['seg_len'] > 0]\n",
    "    \n",
    "    # keep only common segments:\n",
    "    common_segments = set(consensus_df1['segment']).intersection(set(consensus_df2['segment']))\n",
    "    consensus_df1 = consensus_df1[consensus_df1['segment'].isin(common_segments)]\n",
    "    consensus_df2 = consensus_df2[consensus_df2['segment'].isin(common_segments)]\n",
    "    assert consensus_df1.shape[0] == consensus_df2.shape[0]\n",
    "    return consensus_df1, consensus_df2\n",
    "\n",
    "\n",
    "def get_score_for_segment(segment_df_true,segment_df_model,clone_columns_true,clone_columns_model):\n",
    "    set_of_predicted_cns = set(sum([x.split('|') for x in segment_df_model[clone_columns_model].values[0]],[]))\n",
    "    set_of_true_cns = set(sum([x.split('|') for x in segment_df_true[clone_columns_true].values[0]],[]))\n",
    "    assert len(set_of_predicted_cns) > 0\n",
    "    assert len(set_of_true_cns) > 0\n",
    "    seg_len = segment_df_true['seg_len'].values[0]\n",
    "    recovered = len(set_of_predicted_cns.intersection(set_of_true_cns))\n",
    "    all_states = len(set_of_predicted_cns.union(set_of_true_cns))\n",
    "    predicted_denom = len(set_of_predicted_cns)\n",
    "    true_denom = len(set_of_true_cns)\n",
    "    precision = seg_len * (recovered / predicted_denom)\n",
    "    recall = seg_len * (recovered / true_denom)\n",
    "    accuracy = seg_len * (recovered / all_states)\n",
    "    return precision, recall, accuracy\n",
    "\n",
    "\n",
    "def get_metrics_per_case(model_consensus,TRUE_consensus,clone_columns_true,clone_columns_model):\n",
    "    precision_list = []\n",
    "    recall_list = []\n",
    "    accuracy_list = []\n",
    "    for segment in model_consensus['segment']:\n",
    "        segment_df_model = model_consensus[model_consensus['segment']==segment]\n",
    "        segment_df_true = TRUE_consensus[TRUE_consensus['segment']==segment]\n",
    "        precision,recall,accuracy = get_score_for_segment(segment_df_true,segment_df_model,clone_columns_true,clone_columns_model)\n",
    "        precision_list.append(precision)\n",
    "        recall_list.append(recall)\n",
    "        accuracy_list.append(accuracy)\n",
    "    total_len = sum(model_consensus['seg_len'])\n",
    "    precision = sum(precision_list)/total_len\n",
    "    recall = sum(recall_list)/total_len\n",
    "    accuracy = sum(accuracy_list)/total_len\n",
    "    return precision,recall,accuracy\n",
    "\n",
    "\n",
    "def load_H1_results(dataset_name,experiment,hatchet1_output_dir):\n",
    "    wgd_results_path = f'{hatchet1_output_dir}/WGD/{dataset_name}/{experiment}/hatchet/hatchet.seg.ucn.gz'\n",
    "    nowgd_results_path = f'{hatchet1_output_dir}/noWGD/{dataset_name}/{experiment}/hatchet/hatchet.seg.ucn.gz'\n",
    "    if os.path.exists(wgd_results_path):\n",
    "        H1_results = pd.read_csv(wgd_results_path, sep='\\t')\n",
    "    else:\n",
    "        H1_results = pd.read_csv(nowgd_results_path, sep='\\t')\n",
    "    H1_results['#CHR'] = H1_results['#CHR'].apply(lambda x: x.replace('chr',''))\n",
    "    H1_results['START'] = H1_results['START'].astype(int)\n",
    "    H1_results['END'] = H1_results['END'].astype(int)\n",
    "    H1_results.rename(columns={'cn_normal':'cn_clone100'},inplace=True)\n",
    "    position_columns_names=['#CHR','START','END']\n",
    "    H1_results_clones = [x for x in H1_results.columns if x.startswith('cn_')]\n",
    "    H1_results = H1_results[position_columns_names + H1_results_clones].drop_duplicates() \n",
    "    return H1_results\n",
    "\n",
    "\n",
    "def load_clone_HD_results(dataset_name,experiment,hatchet1_output_dir):\n",
    "    wgd_results_path = f'{hatchet1_output_dir}/WGD/{dataset_name}/{experiment}/clonehd/cloneHD.BEST.results.gz'\n",
    "    nowgd_results_path = f'{hatchet1_output_dir}/noWGD/{dataset_name}/{experiment}/clonehd/cloneHD.BEST.results.gz'\n",
    "    if os.path.exists(wgd_results_path):\n",
    "        clone_hd_results = pd.read_csv(wgd_results_path, sep='\\t')\n",
    "    else:\n",
    "        clone_hd_results = pd.read_csv(nowgd_results_path, sep='\\t')\n",
    "    # fix column names:\n",
    "    clone_hd_results.rename(columns={'END':'SAMPLE','SAMPLE':'END'},inplace=True)\n",
    "    assert clone_hd_results['END'].dtype.type == np.int64\n",
    "    assert clone_hd_results['SAMPLE'].dtype.type == np.object_\n",
    "    \n",
    "    clone_hd_results['#CHR'] = clone_hd_results['#CHR'].apply(lambda x: x.replace('chr',''))\n",
    "    clone_hd_results['START'] = clone_hd_results['START'].astype(int)\n",
    "    clone_hd_results['END'] = clone_hd_results['END'].astype(int)\n",
    "    clone_hd_results.rename(columns={'cn_normal':'cn_clone100'},inplace=True)\n",
    "    position_columns_names=['#CHR','START','END']\n",
    "    clone_hd_results_clones = [x for x in clone_hd_results.columns if x.startswith('cn_')]\n",
    "    clone_hd_results = clone_hd_results[position_columns_names + clone_hd_results_clones].drop_duplicates() \n",
    "    return clone_hd_results\n",
    "\n",
    "\n",
    "def load_alpaca_hatchet_format(alpaca_output_dir,tumour_id):\n",
    "    alpaca_results = pd.read_csv(f'{alpaca_output_dir}/patient_outputs/{tumour_id}/final_{tumour_id}.csv')[['clone','pred_CN_A','pred_CN_B','segment']]\n",
    "    normal_clones = ['diploid']\n",
    "    alpaca_results = alpaca_results[~alpaca_results.clone.isin(normal_clones)]\n",
    "    alpaca_results['cn'] = alpaca_results[['pred_CN_A','pred_CN_B']].apply(lambda x: f'{x[0]}|{x[1]}',axis=1)\n",
    "    alpaca_results.drop(['pred_CN_A','pred_CN_B'],axis=1,inplace=True)\n",
    "    # to wide format:\n",
    "    alpaca_results_wide = alpaca_results.pivot(index='segment',columns='clone',values='cn').reset_index()\n",
    "    alpaca_results_wide['#CHR'] = alpaca_results_wide['segment'].apply(lambda x: x.split('_')[0])\n",
    "    alpaca_results_wide['START'] = alpaca_results_wide['segment'].apply(lambda x: int(x.split('_')[1]))\n",
    "    alpaca_results_wide['END'] = alpaca_results_wide['segment'].apply(lambda x: int(x.split('_')[2]))\n",
    "    alpaca_results_wide.drop(['segment'],axis=1,inplace=True)\n",
    "    return alpaca_results_wide\n",
    "\n",
    "\n",
    "def load_true_copynumber_states(hatchet_sim_true_cns,h2_name_no_suffix):\n",
    "    true_copynumber_states_nowgd_path = f'{hatchet_sim_true_cns}/noWGD/{h2_name_no_suffix}/tumor/copynumbers.csv'\n",
    "    true_copynumber_states_wgd_path = f'{hatchet_sim_true_cns}/WGD/{h2_name_no_suffix}/tumor/copynumbers.csv'\n",
    "    true_copynumber_states = pd.read_table(true_copynumber_states_nowgd_path, sep='\\t') if os.path.exists(true_copynumber_states_nowgd_path) else pd.read_csv(true_copynumber_states_wgd_path, sep='\\t')\n",
    "    true_copynumber_states['#CHR'] = true_copynumber_states['#CHR'].apply(lambda x: x.replace('chr',''))\n",
    "    true_copynumber_states['START'] = true_copynumber_states['START'].astype(int)\n",
    "    true_copynumber_states['END'] = true_copynumber_states['END'].astype(int)\n",
    "    true_copynumber_states['clone100'] = '1|1'\n",
    "    return true_copynumber_states\n",
    "\n",
    "\n",
    "def get_model_metrics(model_results, true_copynumber_states):\n",
    "    MODEL_consensus,TRUE_consensus = create_consensus_segments(model_results, true_copynumber_states)\n",
    "    clone_columns_model = [x for x in MODEL_consensus.columns if 'clone' in x]\n",
    "    if len(clone_columns_model) == 0:\n",
    "        clone_columns_model = [x for x in MODEL_consensus.columns if 'cn_' in x]\n",
    "    clone_columns_true = [x for x in TRUE_consensus.columns if 'clone' in x]\n",
    "    precision,recall,accuracy = get_metrics_per_case(MODEL_consensus,TRUE_consensus,clone_columns_true,clone_columns_model,)\n",
    "    return {'precision':precision,'recall':recall,'accuracy':accuracy}\n",
    "\n",
    "\n",
    "def make_plot(results_H1_df=pd.Series(),results_ALPACA_df=pd.Series(),results_cloneHD_df=pd.Series(),colours={},metric='accuracy', font_size=45,w=600,h=800,fonts='Arial'):\n",
    "    y_axis_title = metric.capitalize()\n",
    "\n",
    "\n",
    "    fig = go.Figure()\n",
    "    fig.update_layout(title='', font=dict(family=fonts, size=font_size), width=w, height=h, showlegend=False, plot_bgcolor='rgba(0,0,0,0)', paper_bgcolor='rgba(0,0,0,0)',)\n",
    "    fig.update_xaxes(showgrid=False)\n",
    "    fig.update_yaxes(showgrid=True, gridwidth=1, gridcolor='black', zeroline=True, zerolinecolor='black', zerolinewidth=1, title=y_axis_title, title_font=dict(family=fonts, size=font_size*0.8),)\n",
    "    jitter_value = 0.5\n",
    "    point_size = font_size/10\n",
    "    line_width = 2\n",
    "    if len(colours) == 0:\n",
    "        hatchet_colour = 'blue'\n",
    "        alpaca_colour = 'orange'\n",
    "        clonehd_colour = 'green'\n",
    "    else:\n",
    "        alpaca_colour = colours['alpaca']\n",
    "        hatchet_colour = colours['hatchet']\n",
    "        clonehd_colour = colours['hd']\n",
    "    \n",
    "    if len(results_cloneHD_df)>0:\n",
    "        cloneHD_trace = go.Box(y=results_cloneHD_df[metric], orientation='v', boxpoints='all', jitter=jitter_value, pointpos=0, line=dict(color=clonehd_colour, width=line_width), marker=dict(size=point_size),name='cloneHD')\n",
    "        fig.add_trace(cloneHD_trace)\n",
    "        \n",
    "    if len(results_H1_df)>0:\n",
    "        hatchet1_trace = go.Box(y=results_H1_df[metric], orientation='v', boxpoints='all', jitter=jitter_value, pointpos=0, line=dict(color=hatchet_colour, width=line_width), marker=dict(size=point_size), name='HATCHet')\n",
    "        fig.add_trace(hatchet1_trace)\n",
    "    \n",
    "    if len(results_ALPACA_df)>0:\n",
    "        alpaca_trace = go.Box(y=results_ALPACA_df[metric], orientation='v', boxpoints='all', jitter=jitter_value, pointpos=0, line=dict(color=alpaca_colour, width=line_width), marker=dict(size=point_size),name='ALPACA')\n",
    "        fig.add_trace(alpaca_trace)\n",
    "    \n",
    "    fig.update_layout(\n",
    "        font=dict(family=fonts, size=font_size),\n",
    "        width=w, height=h,\n",
    "        paper_bgcolor='white',\n",
    "        plot_bgcolor='white'\n",
    "        )\n",
    "    return fig\n",
    "\n",
    "\n",
    "def add_p_value_annotation(fig, pvals, _format=dict(interline=0.07, text_height=1.07, color='black'),gap_offset = 0.025, row_offset= 0.05, pvals_type = 'numbers',annotation_font_size=12,add_brackets=True):    \n",
    "    y_loc = 1\n",
    "    for box_pair in pvals.keys():\n",
    "        # add horizontal line:\n",
    "        pvalue = pvals[box_pair]\n",
    "        \n",
    "        if pvals_type == 'numbers':\n",
    "            if pvalue < 0.001:\n",
    "                formatted = sigfig.round(pvalue, sigfigs=3, notation='scientific')\n",
    "                base, exponent = formatted.split('E')\n",
    "                symbol = f\"P = {base}×10<sup>{int(exponent)}</sup>\"\n",
    "            else:\n",
    "                symbol = f\"P = {sigfig.round(pvalue, sigfigs=3)}\"                \n",
    "        elif pvals_type == 'stars':\n",
    "            if pvalue >= 0.05:\n",
    "                symbol = 'ns'\n",
    "            elif pvalue >= 0.01: \n",
    "                symbol = '*'\n",
    "            elif pvalue >= 0.001:\n",
    "                symbol = '**'\n",
    "            else:\n",
    "                symbol = '***'\n",
    "        if add_brackets:                \n",
    "            fig.add_shape(type=\"line\",\n",
    "                        xref=\"x\", yref=\"y domain\",\n",
    "                        x0=box_pair[0], y0=y_loc, \n",
    "                        x1=box_pair[1], y1=y_loc,\n",
    "                        line=dict(color=_format['color'], width=2,)\n",
    "                    )\n",
    "            # Vertical line\n",
    "            fig.add_shape(type=\"line\",\n",
    "                xref=\"x\", yref=\"y domain\",\n",
    "                x0=box_pair[0], y0=y_loc, \n",
    "                x1=box_pair[0], y1=y_loc-0.025,\n",
    "                line=dict(color=_format['color'], width=2,)\n",
    "            )\n",
    "            # Vertical line\n",
    "            fig.add_shape(type=\"line\",\n",
    "                xref=\"x\", yref=\"y domain\",\n",
    "                x0=box_pair[1], y0=y_loc, \n",
    "                x1=box_pair[1], y1=y_loc-0.025,\n",
    "                line=dict(color=_format['color'], width=2,)\n",
    "        )\n",
    "\n",
    "        annotation_x = (box_pair[0] + box_pair[1])/2\n",
    "        annotation_y = y_loc + gap_offset\n",
    "        fig.add_annotation(dict(font=dict(color=_format['color'],size=annotation_font_size),\n",
    "            x=annotation_x,\n",
    "            y=annotation_y,\n",
    "            showarrow=False,\n",
    "            text=symbol,\n",
    "            textangle=0,\n",
    "            xref=\"x\",\n",
    "            yref=\"y domain\"\n",
    "        ))\n",
    "        y_loc += row_offset\n",
    "    return fig\n",
    "\n",
    "\n",
    "def wilcoxon_test(list_of_series):\n",
    "    results = {}\n",
    "    for i in range(len(list_of_series)):\n",
    "        for j in range(i + 1, len(list_of_series)):\n",
    "            col1 = list_of_series[i]\n",
    "            col2 = list_of_series[j]\n",
    "            t_stat, p_value = wilcoxon(col1, col2)\n",
    "            results[(i, j)] = p_value\n",
    "    return results\n",
    "\n",
    "\n",
    "def get_H2_alpaca_name_mapping(H2_output_dir):\n",
    "    datasets_original_names = [x for x in os.listdir(H2_output_dir) if 'dataset' in x]\n",
    "    formatted_names = {}\n",
    "    for h2_dataset in datasets_original_names:\n",
    "        file_path = f'{H2_output_dir}/{h2_dataset}/hatchet.ini'\n",
    "        with open(file_path, 'r') as file:\n",
    "            for line in file:\n",
    "                if line.startswith('bam'):\n",
    "                    bam_line = line\n",
    "                    break\n",
    "        # find experiment name:\n",
    "        bam_line_split = bam_line.split('/')\n",
    "        h2_dataset_without_suffix = '_'.join(h2_dataset.split('_')[:3])\n",
    "        dataset_index = bam_line_split.index(h2_dataset_without_suffix)\n",
    "        experiment_name = bam_line_split[dataset_index+1]\n",
    "        dataset_name_formatted = h2_dataset_without_suffix.replace('_','-')\n",
    "        experiment_name_formatted = experiment_name.replace('_','-')\n",
    "        formatted_names[h2_dataset] = f'{dataset_name_formatted}.{experiment_name_formatted}'\n",
    "    return formatted_names\n",
    "    \n",
    "    \n",
    "def load_H2_results(h2_name,hatchet2_output_dir):\n",
    "    H2_results = pd.read_csv(f'{hatchet2_output_dir}/{h2_name}/results/best.seg.ucn', sep='\\t')\n",
    "    H2_results['#CHR'] = H2_results['#CHR'].apply(lambda x: x.replace('chr',''))\n",
    "    H2_results['START'] = H2_results['START'].astype(int)\n",
    "    H2_results['END'] = H2_results['END'].astype(int)\n",
    "    H2_results.rename(columns={'cn_normal':'cn_clone100'},inplace=True)\n",
    "    position_columns_names=['#CHR','START','END']\n",
    "    H2_results_clones = [x for x in H2_results.columns if x.startswith('cn_')]\n",
    "    H2_results = H2_results[position_columns_names + H2_results_clones].drop_duplicates() \n",
    "    return H2_results\n",
    "\n",
    "\n",
    "\n",
    "cohort = 'mascote'\n",
    "run_name='mascote_default'\n",
    "os.chdir(f'../..')\n",
    "processed_files_path = f'temp/alpaca_H2_cloneHD_mascote'\n",
    "os.makedirs(processed_files_path, exist_ok=True)\n",
    "\n",
    "hatchet_sim_true_cns = f'_assets/hatchet-paper/simulation/data'\n",
    "alpaca_output_dir = f'output/{cohort}/{run_name}'\n",
    "hatchet1_output_dir_h1_repo = f'_assets/hatchet-paper/simulation/free/'\n",
    "hatchet1_sim_input = f'_assets/hatchet-paper/simulation/data'\n",
    "hatchet2_output_dir = f'_assets/hatchet2'\n",
    "H2_alpaca_mapping = get_H2_alpaca_name_mapping(hatchet2_output_dir)\n",
    "colours_path = f'_assets/publication_palette.json'\n",
    "colours = get_hd_hatchet_alpaca_colours(colours_path)\n",
    "\n",
    "results = {}\n",
    "results['results_H1'] = {}\n",
    "results['results_ALPACA'] = {}\n",
    "results['results_cloneHD'] = {}\n",
    "results['results_H2'] = {}\n",
    "tumour_ids = [x for x in os.listdir(f'{alpaca_output_dir}/patient_outputs') if 'dataset' in x]\n",
    "for tumour_id in tumour_ids:\n",
    "    dataset_name = tumour_id.split('.')[0].replace('-','_')\n",
    "    experiment = tumour_id.split('.')[1].replace('-','_')\n",
    "    alpaca_results = load_alpaca_hatchet_format(alpaca_output_dir,tumour_id)\n",
    "    true_copynumber_states = load_true_copynumber_states(hatchet1_sim_input,dataset_name)\n",
    "    H1_results = load_H1_results(dataset_name,experiment,hatchet1_output_dir_h1_repo)\n",
    "    clone_HD_results = load_clone_HD_results(dataset_name,experiment,hatchet1_output_dir_h1_repo)\n",
    "    results['results_ALPACA'][tumour_id] = get_model_metrics(alpaca_results, true_copynumber_states)\n",
    "    results['results_H1'][tumour_id] = get_model_metrics(H1_results, true_copynumber_states)\n",
    "    results['results_cloneHD'][tumour_id] = get_model_metrics(clone_HD_results, true_copynumber_states)\n",
    "    if tumour_id in list(H2_alpaca_mapping.values()):\n",
    "        results['results_ALPACA'][tumour_id] = get_model_metrics(alpaca_results, true_copynumber_states)\n",
    "        reverse_dict = {v: k for k, v in H2_alpaca_mapping.items()}\n",
    "        h2_name = reverse_dict[tumour_id]\n",
    "        h2_name_no_suffix = '_'.join(h2_name.split('_')[:3])\n",
    "        H2_results = load_H2_results(h2_name,hatchet2_output_dir)\n",
    "        results['results_H2'][tumour_id] = get_model_metrics(H2_results, true_copynumber_states)\n",
    "    \n",
    "results_df_H1 = pd.DataFrame(results['results_H1']).T\n",
    "results_df_ALPACA = pd.DataFrame(results['results_ALPACA']).T\n",
    "results_df_cloneHD = pd.DataFrame(results['results_cloneHD']).T  \n",
    "\n",
    "w=200\n",
    "h=600\n",
    "lables_font_size=25\n",
    "annotation_font_size=24\n",
    "metric='accuracy'\n",
    "paired_p_vals = wilcoxon_test([results_df_cloneHD[metric],results_df_H1[metric],results_df_ALPACA[metric]])\n",
    "print(metric)\n",
    "print(paired_p_vals)\n",
    "fig = make_plot(results_H1_df=results_df_H1,\n",
    "                results_ALPACA_df=results_df_ALPACA,\n",
    "                results_cloneHD_df=results_df_cloneHD,\n",
    "                colours=colours,\n",
    "                )\n",
    "add_p_value_annotation(fig, paired_p_vals,gap_offset = 0.06, row_offset= 0.09,annotation_font_size=annotation_font_size)\n",
    "fig.update_layout(\n",
    "    margin=dict(l=0, r=0, t=130, b=0),\n",
    ")\n",
    "fig.show()\n",
    "fig.write_image(f'figures/Fig1b_accuracy_comparison_boxplot.pdf')\n",
    "os.chdir(f'bin/ANALYSIS')"
   ]
  },
  {
   "cell_type": "code",
   "execution_count": 63,
   "metadata": {
    "ExecuteTime": {
     "end_time": "2024-04-21T15:05:03.039863Z",
     "start_time": "2024-04-21T15:05:00.883927Z"
    }
   },
   "outputs": [
    {
     "name": "stdout",
     "output_type": "stream",
     "text": [
      "Number of simulated tumours: 148\n",
      "Number of simulated clones: 2651\n",
      "Number of simulated segments: 86282\n",
      "Number of clone- and allele-specific segments: 3122888\n"
     ]
    }
   ],
   "source": [
    "# Figure 1: Describe simulated cohort:\n",
    "simulation_cohort = 'simulations'\n",
    "simulation_run = 'simulations_default'\n",
    "simulations_results = pd.read_csv(f'{output_directory}/output/{simulation_cohort}/{simulation_run}/cohort_outputs/combined.csv')\n",
    "simulations_results = simulations_results[simulations_results.clone!='diploid']\n",
    "unique_tumours = len(simulations_results.tumour_id.unique())\n",
    "unique_clones = len(simulations_results[['tumour_id','clone']].drop_duplicates())\n",
    "unique_segments = len(simulations_results[['tumour_id','segment']].drop_duplicates())\n",
    "unique_clone_and_allele_specific_segments = len(simulations_results[['tumour_id','clone','segment']].drop_duplicates()) * 2 # double to account for both alleles\n",
    "print(f'Number of simulated tumours: {unique_tumours}')\n",
    "print(f'Number of simulated clones: {unique_clones}')\n",
    "print(f'Number of simulated segments: {unique_segments}')\n",
    "print(f'Number of clone- and allele-specific segments: {unique_clone_and_allele_specific_segments}')"
   ]
  },
  {
   "cell_type": "code",
   "execution_count": 74,
   "metadata": {},
   "outputs": [
    {
     "data": {
      "text/plain": [
       "[]"
      ]
     },
     "execution_count": 74,
     "metadata": {},
     "output_type": "execute_result"
    }
   ],
   "source": [
    "[ y for y in list(int(x) for x in simulations_results['tumour_id'].str.replace('LTXSIM','').astype(int).sort_values(ascending=True).unique()) if y not in list(range(1,151))] # check if all tumours are present"
   ]
  },
  {
   "cell_type": "code",
   "execution_count": 64,
   "metadata": {
    "ExecuteTime": {
     "end_time": "2024-04-21T15:21:03.904643Z",
     "start_time": "2024-04-21T15:20:52.559496Z"
    }
   },
   "outputs": [
    {
     "data": {
      "application/vnd.plotly.v1+json": {
       "config": {
        "plotlyServerURL": "https://plot.ly"
       },
       "data": [
        {
         "arrangement": "snap",
         "link": {
          "color": [
           "rgba(31, 120, 180, 0.5)",
           "rgba(31, 120, 180, 0.5)",
           "rgba(31, 120, 180, 0.5)",
           "rgba(31, 120, 180, 0.5)",
           "rgba(31, 120, 180, 0.5)",
           "rgba(31, 120, 180, 0.5)",
           "rgba(168, 168, 168, 0.5)",
           "rgba(168, 168, 168, 0.5)",
           "rgba(168, 168, 168, 0.5)",
           "rgba(168, 168, 168, 0.5)",
           "rgba(168, 168, 168, 0.5)",
           "rgba(168, 168, 168, 0.5)",
           "rgba(178, 223, 138, 0.5)",
           "rgba(178, 223, 138, 0.5)",
           "rgba(178, 223, 138, 0.5)",
           "rgba(178, 223, 138, 0.5)",
           "rgba(178, 223, 138, 0.5)",
           "rgba(178, 223, 138, 0.5)",
           "rgba(251, 154, 153, 0.5)",
           "rgba(251, 154, 153, 0.5)",
           "rgba(251, 154, 153, 0.5)",
           "rgba(251, 154, 153, 0.5)",
           "rgba(251, 154, 153, 0.5)",
           "rgba(251, 154, 153, 0.5)",
           "rgba(227, 26, 28, 0.5)",
           "rgba(227, 26, 28, 0.5)",
           "rgba(227, 26, 28, 0.5)",
           "rgba(227, 26, 28, 0.5)",
           "rgba(227, 26, 28, 0.5)",
           "rgba(227, 26, 28, 0.5)",
           "rgba(227, 227, 227, 1)",
           "rgba(227, 227, 227, 1)",
           "rgba(227, 227, 227, 1)",
           "rgba(227, 227, 227, 1)",
           "rgba(227, 227, 227, 1)",
           "rgba(227, 227, 227, 1)"
          ],
          "source": [
           0,
           0,
           0,
           0,
           0,
           0,
           1,
           1,
           1,
           1,
           1,
           1,
           2,
           2,
           2,
           2,
           2,
           2,
           3,
           3,
           3,
           3,
           3,
           3,
           4,
           4,
           4,
           4,
           4,
           4,
           5,
           5,
           5,
           5,
           5,
           5
          ],
          "target": [
           6,
           7,
           8,
           9,
           10,
           11,
           6,
           7,
           8,
           9,
           10,
           11,
           6,
           7,
           8,
           9,
           10,
           11,
           6,
           7,
           8,
           9,
           10,
           11,
           6,
           7,
           8,
           9,
           10,
           11,
           6,
           7,
           8,
           9,
           10,
           11
          ],
          "value": [
           236305,
           3254,
           2558,
           1,
           0,
           0,
           697,
           971102,
           6525,
           28,
           21,
           0,
           359,
           10567,
           1594991,
           3139,
           901,
           0,
           0,
           1,
           3177,
           106343,
           0,
           0,
           0,
           9,
           4039,
           868,
           178003,
           0,
           0,
           0,
           0,
           0,
           0,
           100000
          ]
         },
         "node": {
          "color": "white",
          "label": [
           "",
           "",
           "",
           "",
           "",
           "",
           "",
           "",
           "",
           "",
           "",
           ""
          ],
          "line": {
           "color": "black",
           "width": 1
          },
          "pad": 20,
          "thickness": 60,
          "x": [
           0,
           0,
           0,
           0,
           0,
           0,
           1,
           1,
           1,
           1,
           1,
           1
          ],
          "y": [
           0,
           0.2,
           0.4,
           0.6,
           0.8,
           0.8,
           0,
           0.16,
           0.33,
           0.5,
           0.66,
           0.73
          ]
         },
         "type": "sankey"
        }
       ],
       "layout": {
        "font": {
         "family": "helvetica",
         "size": 28
        },
        "height": 1000,
        "template": {
         "data": {
          "bar": [
           {
            "error_x": {
             "color": "#2a3f5f"
            },
            "error_y": {
             "color": "#2a3f5f"
            },
            "marker": {
             "line": {
              "color": "#E5ECF6",
              "width": 0.5
             },
             "pattern": {
              "fillmode": "overlay",
              "size": 10,
              "solidity": 0.2
             }
            },
            "type": "bar"
           }
          ],
          "barpolar": [
           {
            "marker": {
             "line": {
              "color": "#E5ECF6",
              "width": 0.5
             },
             "pattern": {
              "fillmode": "overlay",
              "size": 10,
              "solidity": 0.2
             }
            },
            "type": "barpolar"
           }
          ],
          "carpet": [
           {
            "aaxis": {
             "endlinecolor": "#2a3f5f",
             "gridcolor": "white",
             "linecolor": "white",
             "minorgridcolor": "white",
             "startlinecolor": "#2a3f5f"
            },
            "baxis": {
             "endlinecolor": "#2a3f5f",
             "gridcolor": "white",
             "linecolor": "white",
             "minorgridcolor": "white",
             "startlinecolor": "#2a3f5f"
            },
            "type": "carpet"
           }
          ],
          "choropleth": [
           {
            "colorbar": {
             "outlinewidth": 0,
             "ticks": ""
            },
            "type": "choropleth"
           }
          ],
          "contour": [
           {
            "colorbar": {
             "outlinewidth": 0,
             "ticks": ""
            },
            "colorscale": [
             [
              0,
              "#0d0887"
             ],
             [
              0.1111111111111111,
              "#46039f"
             ],
             [
              0.2222222222222222,
              "#7201a8"
             ],
             [
              0.3333333333333333,
              "#9c179e"
             ],
             [
              0.4444444444444444,
              "#bd3786"
             ],
             [
              0.5555555555555556,
              "#d8576b"
             ],
             [
              0.6666666666666666,
              "#ed7953"
             ],
             [
              0.7777777777777778,
              "#fb9f3a"
             ],
             [
              0.8888888888888888,
              "#fdca26"
             ],
             [
              1,
              "#f0f921"
             ]
            ],
            "type": "contour"
           }
          ],
          "contourcarpet": [
           {
            "colorbar": {
             "outlinewidth": 0,
             "ticks": ""
            },
            "type": "contourcarpet"
           }
          ],
          "heatmap": [
           {
            "colorbar": {
             "outlinewidth": 0,
             "ticks": ""
            },
            "colorscale": [
             [
              0,
              "#0d0887"
             ],
             [
              0.1111111111111111,
              "#46039f"
             ],
             [
              0.2222222222222222,
              "#7201a8"
             ],
             [
              0.3333333333333333,
              "#9c179e"
             ],
             [
              0.4444444444444444,
              "#bd3786"
             ],
             [
              0.5555555555555556,
              "#d8576b"
             ],
             [
              0.6666666666666666,
              "#ed7953"
             ],
             [
              0.7777777777777778,
              "#fb9f3a"
             ],
             [
              0.8888888888888888,
              "#fdca26"
             ],
             [
              1,
              "#f0f921"
             ]
            ],
            "type": "heatmap"
           }
          ],
          "heatmapgl": [
           {
            "colorbar": {
             "outlinewidth": 0,
             "ticks": ""
            },
            "colorscale": [
             [
              0,
              "#0d0887"
             ],
             [
              0.1111111111111111,
              "#46039f"
             ],
             [
              0.2222222222222222,
              "#7201a8"
             ],
             [
              0.3333333333333333,
              "#9c179e"
             ],
             [
              0.4444444444444444,
              "#bd3786"
             ],
             [
              0.5555555555555556,
              "#d8576b"
             ],
             [
              0.6666666666666666,
              "#ed7953"
             ],
             [
              0.7777777777777778,
              "#fb9f3a"
             ],
             [
              0.8888888888888888,
              "#fdca26"
             ],
             [
              1,
              "#f0f921"
             ]
            ],
            "type": "heatmapgl"
           }
          ],
          "histogram": [
           {
            "marker": {
             "pattern": {
              "fillmode": "overlay",
              "size": 10,
              "solidity": 0.2
             }
            },
            "type": "histogram"
           }
          ],
          "histogram2d": [
           {
            "colorbar": {
             "outlinewidth": 0,
             "ticks": ""
            },
            "colorscale": [
             [
              0,
              "#0d0887"
             ],
             [
              0.1111111111111111,
              "#46039f"
             ],
             [
              0.2222222222222222,
              "#7201a8"
             ],
             [
              0.3333333333333333,
              "#9c179e"
             ],
             [
              0.4444444444444444,
              "#bd3786"
             ],
             [
              0.5555555555555556,
              "#d8576b"
             ],
             [
              0.6666666666666666,
              "#ed7953"
             ],
             [
              0.7777777777777778,
              "#fb9f3a"
             ],
             [
              0.8888888888888888,
              "#fdca26"
             ],
             [
              1,
              "#f0f921"
             ]
            ],
            "type": "histogram2d"
           }
          ],
          "histogram2dcontour": [
           {
            "colorbar": {
             "outlinewidth": 0,
             "ticks": ""
            },
            "colorscale": [
             [
              0,
              "#0d0887"
             ],
             [
              0.1111111111111111,
              "#46039f"
             ],
             [
              0.2222222222222222,
              "#7201a8"
             ],
             [
              0.3333333333333333,
              "#9c179e"
             ],
             [
              0.4444444444444444,
              "#bd3786"
             ],
             [
              0.5555555555555556,
              "#d8576b"
             ],
             [
              0.6666666666666666,
              "#ed7953"
             ],
             [
              0.7777777777777778,
              "#fb9f3a"
             ],
             [
              0.8888888888888888,
              "#fdca26"
             ],
             [
              1,
              "#f0f921"
             ]
            ],
            "type": "histogram2dcontour"
           }
          ],
          "mesh3d": [
           {
            "colorbar": {
             "outlinewidth": 0,
             "ticks": ""
            },
            "type": "mesh3d"
           }
          ],
          "parcoords": [
           {
            "line": {
             "colorbar": {
              "outlinewidth": 0,
              "ticks": ""
             }
            },
            "type": "parcoords"
           }
          ],
          "pie": [
           {
            "automargin": true,
            "type": "pie"
           }
          ],
          "scatter": [
           {
            "fillpattern": {
             "fillmode": "overlay",
             "size": 10,
             "solidity": 0.2
            },
            "type": "scatter"
           }
          ],
          "scatter3d": [
           {
            "line": {
             "colorbar": {
              "outlinewidth": 0,
              "ticks": ""
             }
            },
            "marker": {
             "colorbar": {
              "outlinewidth": 0,
              "ticks": ""
             }
            },
            "type": "scatter3d"
           }
          ],
          "scattercarpet": [
           {
            "marker": {
             "colorbar": {
              "outlinewidth": 0,
              "ticks": ""
             }
            },
            "type": "scattercarpet"
           }
          ],
          "scattergeo": [
           {
            "marker": {
             "colorbar": {
              "outlinewidth": 0,
              "ticks": ""
             }
            },
            "type": "scattergeo"
           }
          ],
          "scattergl": [
           {
            "marker": {
             "colorbar": {
              "outlinewidth": 0,
              "ticks": ""
             }
            },
            "type": "scattergl"
           }
          ],
          "scattermapbox": [
           {
            "marker": {
             "colorbar": {
              "outlinewidth": 0,
              "ticks": ""
             }
            },
            "type": "scattermapbox"
           }
          ],
          "scatterpolar": [
           {
            "marker": {
             "colorbar": {
              "outlinewidth": 0,
              "ticks": ""
             }
            },
            "type": "scatterpolar"
           }
          ],
          "scatterpolargl": [
           {
            "marker": {
             "colorbar": {
              "outlinewidth": 0,
              "ticks": ""
             }
            },
            "type": "scatterpolargl"
           }
          ],
          "scatterternary": [
           {
            "marker": {
             "colorbar": {
              "outlinewidth": 0,
              "ticks": ""
             }
            },
            "type": "scatterternary"
           }
          ],
          "surface": [
           {
            "colorbar": {
             "outlinewidth": 0,
             "ticks": ""
            },
            "colorscale": [
             [
              0,
              "#0d0887"
             ],
             [
              0.1111111111111111,
              "#46039f"
             ],
             [
              0.2222222222222222,
              "#7201a8"
             ],
             [
              0.3333333333333333,
              "#9c179e"
             ],
             [
              0.4444444444444444,
              "#bd3786"
             ],
             [
              0.5555555555555556,
              "#d8576b"
             ],
             [
              0.6666666666666666,
              "#ed7953"
             ],
             [
              0.7777777777777778,
              "#fb9f3a"
             ],
             [
              0.8888888888888888,
              "#fdca26"
             ],
             [
              1,
              "#f0f921"
             ]
            ],
            "type": "surface"
           }
          ],
          "table": [
           {
            "cells": {
             "fill": {
              "color": "#EBF0F8"
             },
             "line": {
              "color": "white"
             }
            },
            "header": {
             "fill": {
              "color": "#C8D4E3"
             },
             "line": {
              "color": "white"
             }
            },
            "type": "table"
           }
          ]
         },
         "layout": {
          "annotationdefaults": {
           "arrowcolor": "#2a3f5f",
           "arrowhead": 0,
           "arrowwidth": 1
          },
          "autotypenumbers": "strict",
          "coloraxis": {
           "colorbar": {
            "outlinewidth": 0,
            "ticks": ""
           }
          },
          "colorscale": {
           "diverging": [
            [
             0,
             "#8e0152"
            ],
            [
             0.1,
             "#c51b7d"
            ],
            [
             0.2,
             "#de77ae"
            ],
            [
             0.3,
             "#f1b6da"
            ],
            [
             0.4,
             "#fde0ef"
            ],
            [
             0.5,
             "#f7f7f7"
            ],
            [
             0.6,
             "#e6f5d0"
            ],
            [
             0.7,
             "#b8e186"
            ],
            [
             0.8,
             "#7fbc41"
            ],
            [
             0.9,
             "#4d9221"
            ],
            [
             1,
             "#276419"
            ]
           ],
           "sequential": [
            [
             0,
             "#0d0887"
            ],
            [
             0.1111111111111111,
             "#46039f"
            ],
            [
             0.2222222222222222,
             "#7201a8"
            ],
            [
             0.3333333333333333,
             "#9c179e"
            ],
            [
             0.4444444444444444,
             "#bd3786"
            ],
            [
             0.5555555555555556,
             "#d8576b"
            ],
            [
             0.6666666666666666,
             "#ed7953"
            ],
            [
             0.7777777777777778,
             "#fb9f3a"
            ],
            [
             0.8888888888888888,
             "#fdca26"
            ],
            [
             1,
             "#f0f921"
            ]
           ],
           "sequentialminus": [
            [
             0,
             "#0d0887"
            ],
            [
             0.1111111111111111,
             "#46039f"
            ],
            [
             0.2222222222222222,
             "#7201a8"
            ],
            [
             0.3333333333333333,
             "#9c179e"
            ],
            [
             0.4444444444444444,
             "#bd3786"
            ],
            [
             0.5555555555555556,
             "#d8576b"
            ],
            [
             0.6666666666666666,
             "#ed7953"
            ],
            [
             0.7777777777777778,
             "#fb9f3a"
            ],
            [
             0.8888888888888888,
             "#fdca26"
            ],
            [
             1,
             "#f0f921"
            ]
           ]
          },
          "colorway": [
           "#636efa",
           "#EF553B",
           "#00cc96",
           "#ab63fa",
           "#FFA15A",
           "#19d3f3",
           "#FF6692",
           "#B6E880",
           "#FF97FF",
           "#FECB52"
          ],
          "font": {
           "color": "#2a3f5f"
          },
          "geo": {
           "bgcolor": "white",
           "lakecolor": "white",
           "landcolor": "#E5ECF6",
           "showlakes": true,
           "showland": true,
           "subunitcolor": "white"
          },
          "hoverlabel": {
           "align": "left"
          },
          "hovermode": "closest",
          "mapbox": {
           "style": "light"
          },
          "paper_bgcolor": "white",
          "plot_bgcolor": "#E5ECF6",
          "polar": {
           "angularaxis": {
            "gridcolor": "white",
            "linecolor": "white",
            "ticks": ""
           },
           "bgcolor": "#E5ECF6",
           "radialaxis": {
            "gridcolor": "white",
            "linecolor": "white",
            "ticks": ""
           }
          },
          "scene": {
           "xaxis": {
            "backgroundcolor": "#E5ECF6",
            "gridcolor": "white",
            "gridwidth": 2,
            "linecolor": "white",
            "showbackground": true,
            "ticks": "",
            "zerolinecolor": "white"
           },
           "yaxis": {
            "backgroundcolor": "#E5ECF6",
            "gridcolor": "white",
            "gridwidth": 2,
            "linecolor": "white",
            "showbackground": true,
            "ticks": "",
            "zerolinecolor": "white"
           },
           "zaxis": {
            "backgroundcolor": "#E5ECF6",
            "gridcolor": "white",
            "gridwidth": 2,
            "linecolor": "white",
            "showbackground": true,
            "ticks": "",
            "zerolinecolor": "white"
           }
          },
          "shapedefaults": {
           "line": {
            "color": "#2a3f5f"
           }
          },
          "ternary": {
           "aaxis": {
            "gridcolor": "white",
            "linecolor": "white",
            "ticks": ""
           },
           "baxis": {
            "gridcolor": "white",
            "linecolor": "white",
            "ticks": ""
           },
           "bgcolor": "#E5ECF6",
           "caxis": {
            "gridcolor": "white",
            "linecolor": "white",
            "ticks": ""
           }
          },
          "title": {
           "x": 0.05
          },
          "xaxis": {
           "automargin": true,
           "gridcolor": "white",
           "linecolor": "white",
           "ticks": "",
           "title": {
            "standoff": 15
           },
           "zerolinecolor": "white",
           "zerolinewidth": 2
          },
          "yaxis": {
           "automargin": true,
           "gridcolor": "white",
           "linecolor": "white",
           "ticks": "",
           "title": {
            "standoff": 15
           },
           "zerolinecolor": "white",
           "zerolinewidth": 2
          }
         }
        },
        "title": {
         "text": ""
        },
        "width": 600
       }
      }
     },
     "metadata": {},
     "output_type": "display_data"
    },
    {
     "name": "stdout",
     "output_type": "stream",
     "text": [
      "Fraction of clone- and allele-specific segments assigned correct copy number:\n",
      "0.988\n",
      "Fraction of clone- and allele-specific segments assigned correct copy number:\n",
      "3086744/3122888\n"
     ]
    }
   ],
   "source": [
    "# Figure 1: Sankey plot for simulated cohort\n",
    "from SIMULATIONS_sankey_plot import *\n",
    "scores_all_tumours = f'{output_directory}/output/{simulation_cohort}/{simulation_run}/cohort_outputs/scores/scores_all_tumours.csv'\n",
    "scores_all_tumours = pd.read_csv(scores_all_tumours)\n",
    "scores_all_tumours = scores_all_tumours[['clone','allele','segment','tumour_id','cn_true','cn_alpaca','correct']].drop_duplicates()\n",
    "scores_all_tumours.cn_alpaca.clip(upper=5,inplace=True)\n",
    "sankey = plotFlowDiagram(scores_all_tumours,'',hide_labels=True)\n",
    "sankey.write_image(f'{output_directory}/figures/Fig1c_simulations_sankey.pdf')\n",
    "sankey.show()\n",
    "print('Fraction of clone- and allele-specific segments assigned correct copy number:')\n",
    "print(round(scores_all_tumours.correct.sum()/len(scores_all_tumours),3))\n",
    "print('Fraction of clone- and allele-specific segments assigned correct copy number:')\n",
    "print(str(scores_all_tumours.correct.sum())+\"/\"+str(len(scores_all_tumours)))"
   ]
  },
  {
   "cell_type": "code",
   "execution_count": 7,
   "metadata": {
    "ExecuteTime": {
     "end_time": "2024-04-21T15:21:48.304883Z",
     "start_time": "2024-04-21T15:21:48.004481Z"
    }
   },
   "outputs": [],
   "source": [
    "# Sankey plot labels:\n",
    "# labels for illustrator:\n",
    "zero = f' Zero predicted as zero {((scores_all_tumours.cn_alpaca == 0) & (scores_all_tumours.cn_true == 0)).sum()}'\n",
    "one = f' One predicted as one {((scores_all_tumours.cn_alpaca == 1 )& (scores_all_tumours.cn_true == 1)).sum()}'\n",
    "two = f' Two predicted as two {((scores_all_tumours.cn_alpaca == 2) & (scores_all_tumours.cn_true == 2)).sum()}'\n",
    "three = f' Three predicted as three {((scores_all_tumours.cn_alpaca == 3) & (scores_all_tumours.cn_true == 3)).sum()}'\n",
    "four = f' Four predicted as four {((scores_all_tumours.cn_alpaca == 4) & (scores_all_tumours.cn_true == 4)).sum()}'\n",
    "# labels for illustrator - fractions:\n",
    "zero_fr = f' Zero predicted as zero {((scores_all_tumours.cn_alpaca == 0) & (scores_all_tumours.cn_true == 0)).sum()/(scores_all_tumours.cn_true == 0).sum()}'\n",
    "one_fr = f' One predicted as one {((scores_all_tumours.cn_alpaca == 1 )& (scores_all_tumours.cn_true == 1)).sum()/(scores_all_tumours.cn_true == 1).sum()}'\n",
    "two_fr = f' Two predicted as two {((scores_all_tumours.cn_alpaca == 2) & (scores_all_tumours.cn_true == 2)).sum()/(scores_all_tumours.cn_true == 2).sum()}'\n",
    "three_fr = f' Three predicted as three {((scores_all_tumours.cn_alpaca == 3) & (scores_all_tumours.cn_true == 3)).sum()/(scores_all_tumours.cn_true == 3).sum()}'\n",
    "four_fr = f' Four predicted as four {((scores_all_tumours.cn_alpaca == 4) & (scores_all_tumours.cn_true == 4)).sum()/(scores_all_tumours.cn_true == 4).sum()}'\n",
    "with open(f'{output_directory}/figures/Fig1e_sankey_plot_publication_metrics.txt','w') as f:\n",
    "    f.write('labels for illustrator:'+'\\n')\n",
    "    f.write('zero as zero: '+zero+'\\n')\n",
    "    f.write('one as one: '+one+'\\n')\n",
    "    f.write('two as two: '+two+'\\n')\n",
    "    f.write('three as three: '+three+'\\n')\n",
    "    f.write('four as four: '+four+'\\n')\n",
    "    f.write('labels for illustrator - fractions:'+'\\n')\n",
    "    f.write('zero as zero: '+zero_fr+'\\n')\n",
    "    f.write('one as one: '+one_fr+'\\n')\n",
    "    f.write('two as two: '+two_fr+'\\n')\n",
    "    f.write('three as three: '+three_fr+'\\n')\n",
    "    f.write('four as four: '+four_fr+'\\n')"
   ]
  },
  {
   "cell_type": "code",
   "execution_count": null,
   "metadata": {},
   "outputs": [],
   "source": [
    "# HATCHET2+MEDICC2 vs ALPACA on simulations\n",
    "import pandas as pd\n",
    "import json\n",
    "import os\n",
    "import plotly.express as px\n",
    "import plotly.graph_objects as go\n",
    "from functions import cast_HATCHET_to_ALPACA,compare_copynumber_profiles,cast_MEDICC_to_ALPACA,get_proportions_whole_tumour,get_HATCHET_proportions\n",
    "from metrics_functions import get_distance_metrics,get_comparison_dfs\n",
    "\n",
    "mount_point='../..'\n",
    "overwrite = False\n",
    "hatchet_output = f'{mount_point}/_assets/benchmarking/tx421sims'\n",
    "alpaca_input_dir = f'{mount_point}/_assets/benchmarking/simulations/alpaca_input/'\n",
    "alpaca_output_dir = f'{mount_point}/_assets/benchmarking/simulations/alpaca_output/'\n",
    "simulations_input_path = f'{mount_point}/_assets/benchmarking/tx_analysis'\n",
    "true_tree_simulations = f'{mount_point}/_assets/benchmarking/simulations'\n",
    "processed_files_path = f'{mount_point}/_assets/benchmarking/H2_alpaca_comparison/data'\n",
    "os.makedirs(processed_files_path, exist_ok=True)\n",
    "tumour_ids = [ x for x in os.listdir(alpaca_input_dir) if 'LTX' in x]\n",
    "all_tumour_results = []\n",
    "for tumour_id in tumour_ids:\n",
    "    results_dict = {}\n",
    "    processed_output_name = f'{processed_files_path}/{tumour_id}_matching_comparison.csv'\n",
    "    tumour_dir = f'{hatchet_output}/{tumour_id}'\n",
    "    medicc_dir = f'{tumour_dir}/medicc'\n",
    "    if os.path.exists(processed_output_name) and not overwrite:\n",
    "        results_df = pd.read_csv(processed_output_name)\n",
    "        all_tumour_results.append(results_df)\n",
    "    else:\n",
    "        ALPACA_input = pd.read_csv(f'{alpaca_input_dir}/{tumour_id}/ALPACA_input_table.csv')\n",
    "        ALPACA_output = pd.read_csv(f'{alpaca_output_dir}/patient_outputs/{tumour_id}/final_{tumour_id}.csv').drop_duplicates()\n",
    "        ALPACA_output = ALPACA_output[ALPACA_output.clone!='diploid']\n",
    "        # Use medicc output instead:\n",
    "        comparator_name = 'MEDICC2'\n",
    "        if comparator_name == 'MEDICC2':\n",
    "            MEDICC_output_raw_path = f'{medicc_dir}/{tumour_id}_final_cn_profiles.tsv'\n",
    "            if not os.path.exists(MEDICC_output_raw_path):\n",
    "                continue\n",
    "            MEDICC_output_raw = pd.read_table(MEDICC_output_raw_path)\n",
    "            MEDICC_output = cast_MEDICC_to_ALPACA(MEDICC_output_raw)\n",
    "            # hatchet or meddic:\n",
    "            COMPARATOR_output = MEDICC_output\n",
    "        else:\n",
    "            HATCHET_output_raw = pd.read_csv(f'{hatchet_output}/{tumour_id}/results/best.seg.ucn', sep='\\t')\n",
    "            HATCHET_output = cast_HATCHET_to_ALPACA(HATCHET_output_raw)\n",
    "            COMPARATOR_output = HATCHET_output\n",
    "        COMPARATOR_output = COMPARATOR_output[COMPARATOR_output['clone']!='diploid']\n",
    "        TRUE_copynumbers = pd.read_csv(f'{alpaca_input_dir}/{tumour_id}/copynumbers.csv')\n",
    "        patient_output_path =  f'{alpaca_output_dir}/patient_outputs/{tumour_id}/'\n",
    "        simulations_path = f'{simulations_input_path}/{tumour_id}/sim'\n",
    "        true_props_path =  f'{simulations_path}/{tumour_id}_cloneprops.tsv'\n",
    "        conipher_props_path = f'{alpaca_input_dir}/{tumour_id}/cp_table.csv'\n",
    "        common_segments = set.intersection(set(COMPARATOR_output['segment']), set(ALPACA_output['segment']), set(TRUE_copynumbers['segment']))\n",
    "        TRUE_copynumbers = TRUE_copynumbers[TRUE_copynumbers['segment'].isin(common_segments)]\n",
    "        ALPACA_output = ALPACA_output[ALPACA_output['segment'].isin(common_segments)]\n",
    "        COMPARATOR_output = COMPARATOR_output[COMPARATOR_output['segment'].isin(common_segments)]\n",
    "        alpaca_score = compare_copynumber_profiles(TRUE_copynumbers,ALPACA_output,metric='hamming')['closest_clone_distance'].mean()\n",
    "        comparator_score = compare_copynumber_profiles(TRUE_copynumbers,COMPARATOR_output,metric='hamming')['closest_clone_distance'].mean()\n",
    "        results_dict[tumour_id] = {'alpaca_score':alpaca_score, f'{comparator_name}':comparator_score}\n",
    "        results_df = pd.DataFrame(results_dict).T.reset_index()\n",
    "        results_df.to_csv(processed_output_name,index=False)\n",
    "        all_tumour_results.append(results_df)\n",
    "matching_distance_results = pd.concat(all_tumour_results)"
   ]
  },
  {
   "cell_type": "code",
   "execution_count": 14,
   "metadata": {},
   "outputs": [],
   "source": [
    "# TVD\n",
    "verbose=False\n",
    "all_results=[]\n",
    "for tumour_id in tumour_ids:\n",
    "    results_tumour_path = f'{processed_files_path}/{tumour_id}_distance_metrics.csv'\n",
    "    if os.path.exists(results_tumour_path):\n",
    "        results_tumour = pd.read_csv(results_tumour_path)\n",
    "        all_results.append(results_tumour)\n",
    "        continue\n",
    "    results_tumour = []\n",
    "    TRUE_copynumbers = pd.read_csv(f'{alpaca_input_dir}/{tumour_id}/copynumbers.csv')\n",
    "    TRUE_proportions = get_proportions_whole_tumour(pd.read_csv(f'{alpaca_input_dir}/{tumour_id}/true_proportions.csv'))\n",
    "    TRUE_proportions['clone'] = 'clone'+TRUE_proportions['clone'].astype(str) if 'clone' not in str(TRUE_proportions.clone.iloc[0]) else TRUE_proportions['clone']\n",
    "    ALPACA_output = pd.read_csv(f'{alpaca_output_dir}/patient_outputs/{tumour_id}/final_{tumour_id}.csv').drop_duplicates()\n",
    "    ALPACA_output = ALPACA_output[ALPACA_output.clone!='diploid']\n",
    "    CONIPHER_proportions = get_proportions_whole_tumour(pd.read_csv(f'{alpaca_input_dir}/{tumour_id}/cp_table.csv'))\n",
    "    HATCHET_output_raw = pd.read_csv(f'{hatchet_output}/{tumour_id}/results/best.seg.ucn', sep='\\t')\n",
    "    HATCHET_output = cast_HATCHET_to_ALPACA(HATCHET_output_raw)\n",
    "    HATCHET_proportions = get_HATCHET_proportions(HATCHET_output_raw)\n",
    "    segments = TRUE_copynumbers['segment'].unique()\n",
    "    for seg_ind,segment in enumerate(segments):\n",
    "        print(f'{tumour_id} segment {segment} {seg_ind+1}/{len(segments)}') if verbose else None\n",
    "        true_copynumbers_seg = TRUE_copynumbers.query('segment == @segment')\n",
    "        alpaca_segment = ALPACA_output.query('segment == @segment')\n",
    "        hatchet_segment = HATCHET_output.query('segment == @segment')\n",
    "        #calculate scores for alpaca\n",
    "        comparison_df_A,comparison_df_B = get_comparison_dfs(true_copynumbers_seg,TRUE_proportions,alpaca_segment,CONIPHER_proportions)\n",
    "        output_df_alpaca = get_distance_metrics(comparison_df_A,comparison_df_B,tumour_id,segment)\n",
    "        output_df_alpaca['model'] = 'ALPACA'\n",
    "        #calculate scores for hatchet\n",
    "        comparison_df_A,comparison_df_B = get_comparison_dfs(true_copynumbers_seg,TRUE_proportions,hatchet_segment,HATCHET_proportions)\n",
    "        output_df_hatchet = get_distance_metrics(comparison_df_A,comparison_df_B,tumour_id,segment)\n",
    "        output_df_hatchet['model'] = 'HATCHET'\n",
    "        output_df = pd.concat([output_df_alpaca,output_df_hatchet])\n",
    "        results_tumour.append(output_df)\n",
    "    results_tumour = pd.concat(results_tumour)\n",
    "    results_tumour.to_csv(results_tumour_path,index=False)\n",
    "    all_results.append(results_tumour)\n",
    "distance_results = pd.concat(all_results)"
   ]
  },
  {
   "cell_type": "code",
   "execution_count": 6,
   "metadata": {},
   "outputs": [
    {
     "name": "stdout",
     "output_type": "stream",
     "text": [
      "Test: wilcoxon\n"
     ]
    },
    {
     "data": {
      "application/vnd.plotly.v1+json": {
       "config": {
        "plotlyServerURL": "https://plot.ly"
       },
       "data": [
        {
         "boxpoints": "outliers",
         "jitter": 0,
         "line": {
          "color": "#FF7F00",
          "width": 2
         },
         "marker": {
          "size": 2.5
         },
         "name": "HATCHet2<br>+<br>MEDICC2",
         "orientation": "v",
         "pointpos": 0,
         "type": "box",
         "y": [
          0.2578240138708279,
          0.3572947012046295,
          0.1289562289562289,
          0.2034600389863547,
          0.8538338658146964,
          0.827356557377049,
          0.1612830528846154,
          0.1771929824561403,
          0.7527520844189682,
          0.198813720552851,
          0.0742635658914728,
          0.456029559959691,
          0.8365240240240239,
          0.1713874496257915,
          0.8781249999999999,
          0.0335429769392033,
          0.8648420544972271,
          0.3611111111111111,
          0.3004444444444443,
          0.2224025974025973,
          0.2436974789915966,
          0.1841947565543071,
          0.0311544342507645,
          0.1527189265536723,
          0.8679588607594935,
          0.2384009337613072,
          0.9341768682623788,
          0.2384165542060278,
          0.2170212765957446,
          0.0739324410452517,
          0.2934510433386838,
          0.2875041486890143,
          0.1544956188631059,
          0.1453886427708417,
          0.1115158764680295,
          0.2921748302458963,
          0.6645996518711924,
          0.2567821067821068,
          0.1405357142857143,
          0.8377219430485762,
          0.0201780977643046,
          0.2368627450980392,
          0.2964670148140252,
          0.1471153846153846,
          0.9060721062618596,
          0.8805086665911406,
          0.2075064020486555,
          0.9181726907630524,
          0.1342592592592592,
          0.0995762711864406,
          0.1265932599265932,
          0.2603906125272736,
          0.0407546082949308,
          0.1958435708435708,
          0.257380174291939,
          0.1261941240086517,
          0.1663241338813858,
          0.0323430047694753,
          0.0381270903010033,
          0.1384817477876106,
          0.1936090225563909,
          0.2378487201610584,
          0.2186468646864686,
          0.1452777777777777,
          0.7186948853615519,
          0.0552091452325279,
          0.4021666666666667,
          0.1329823369565217,
          0.1894038865546218,
          0.3896403018719984,
          0.1542318491776975,
          0.8337542087542087,
          0.3412162162162162,
          0.8508230452674898,
          0.250718708536046,
          0.2219985506079394,
          0.3112311484918794,
          0.8563274624918464,
          0.0689573459715639,
          0.282731622444541,
          0.1106666666666666,
          0.2468354430379747,
          0.8333686440677965,
          0.8485725308641975,
          0.0511904761904761,
          0.3051575931232091,
          0.3274999999999999,
          0.6189451022604953,
          0.4701714285714285,
          0.3397075365579303,
          0.1929015084294587,
          0.1247888513513513,
          0.854235880398671,
          0.0503057065217391,
          0.2871452420701167,
          0.1545159386068476,
          0.8927711878975418,
          0.1463039014373716,
          0.7447916666666666,
          0.0518987341772151,
          0.9280060717770788,
          0.280904117187303,
          0.0595510515418982,
          0.0379903222485328,
          0.0704851104707012,
          0.844361334867664,
          0.8035176324650012,
          0.5876189096528078,
          0.8635921700803735,
          0.7337831146323348,
          0.8325175702811247,
          0.206366775878863,
          0.1888293586851434,
          0.2871855852950661,
          0.178775939059627,
          0.2554144620811287,
          0.1347179661786403,
          0.1523087525844245,
          0.0485654512851165,
          0.1105254061527825,
          0.214193060209707,
          0.1962986908032972,
          0.1533362052460272,
          0.8061531841652325,
          0.1964555052790347,
          0.0808767951625094,
          0.1399451867077766,
          0.0994082840236686,
          0.2325834542815674,
          0.8124999999999999,
          0.8531417112299464,
          0.1671103581800581,
          0.8324324324324324,
          0.2262933814991614,
          0.1990282293822051,
          0.1801075268817204,
          0.8362598770851624,
          0.2349206349206349,
          0.5122209821428572,
          0.2893972403776325,
          0.7318609022556392,
          0.3716798277099785,
          0.2359353023909986,
          0.4212800432082095,
          0.3268398268398267,
          0.8560414026193492,
          0.1789805269186712,
          0.1567489114658926,
          0.216988727858293
         ]
        },
        {
         "boxpoints": "outliers",
         "jitter": 0,
         "line": {
          "color": "#1F78B4",
          "width": 2
         },
         "marker": {
          "size": 2.5
         },
         "name": "ALPACA",
         "orientation": "v",
         "pointpos": 0,
         "type": "box",
         "y": [
          0.1521022973558734,
          0.1648689079600031,
          0.0905723905723905,
          0.1030701754385964,
          0.0936501597444089,
          0.0925546448087431,
          0.1062950721153846,
          0.0807017543859649,
          0.0816994528400208,
          0.1126965474791561,
          0.0960465116279069,
          0.1501847497480685,
          0.1829954954954955,
          0.1292458261370178,
          0.0572916666666666,
          0.0329140461215932,
          0.142512659754039,
          0.1244388327721661,
          0.1817777777777777,
          0.308306277056277,
          0.3113134142545907,
          0.0623970037453183,
          0.0362194189602446,
          0.1903248587570621,
          0.132753164556962,
          0.1132185585059819,
          0.0484195139777087,
          0.2500562303193883,
          0.1582446808510637,
          0.0577198852772466,
          0.3104333868378811,
          0.1378194490540989,
          0.0925652767381444,
          0.0159081755940394,
          0.0545889517181383,
          0.3316302986353747,
          0.1087902523933855,
          0.0844155844155844,
          0.0182857142857142,
          0.0497822445561139,
          0.029840848806366,
          0.1140450254175744,
          0.1054033891079612,
          0.0414335664335664,
          0.0187136033501275,
          0.3290189192251047,
          0.0552176696542893,
          0.0700301204819277,
          0.0206552706552706,
          0.0762711864406779,
          0.1786786786786787,
          0.0363471874833697,
          0.0506912442396313,
          0.2266584766584767,
          0.2893518518518518,
          0.0583093006488824,
          0.1088764924642787,
          0.0255862480127186,
          0.0740802675585284,
          0.021225110619469,
          0.1254027926960257,
          0.0786118301217524,
          0.1753300330033003,
          0.1063888888888889,
          0.0600111389585073,
          0.0274963193903178,
          0.0604333333333333,
          0.0203804347826086,
          0.1593356092436975,
          0.0686562775654219,
          0.0240673886883273,
          0.2660533910533911,
          0.0202702702702702,
          0.1036288814066591,
          0.2993697478991596,
          0.1865689669055479,
          0.3432787122969836,
          0.0712654924983691,
          0.1220379146919431,
          0.0291431056981296,
          0.0363809523809523,
          0.120675105485232,
          0.0460805084745762,
          0.1705246913580247,
          0.0894345238095238,
          0.3549426934097421,
          0.0744444444444444,
          0.0778614998205956,
          0.0797142857142857,
          0.4071428571428571,
          0.0645962732919254,
          0.0557432432432432,
          0.0873477297895902,
          0.0527513586956521,
          0.3053422370617695,
          0.1266233766233766,
          0.3429602888086642,
          0.0597682604869463,
          0.0979979314420804,
          0.0493670886075949,
          0.2899815678195815,
          0.2520232962710839,
          0.0699030184156042,
          0.0247863687841037,
          0.0453890489913544,
          0.0798810893747602,
          0.1443824206982101,
          0.0286228209957023,
          0.0520482240082966,
          0.307625649913345,
          0.053746234939759,
          0.0351102452846896,
          0.0225386722526587,
          0.0917244437278297,
          0.0998686629892303,
          0.0583068783068783,
          0.1052850603412401,
          0.1089179875947622,
          0.0298117154811715,
          0.1523505012098167,
          0.024808128850935,
          0.1161305964118312,
          0.0965560980279532,
          0.1130952380952381,
          0.0917232277526395,
          0.0978835978835978,
          0.1008907159986296,
          0.0888313609467455,
          0.1816944847605225,
          0.2478146853146853,
          0.3167780748663102,
          0.1022910616327847,
          0.0378378378378378,
          0.2051563239151937,
          0.088216819391073,
          0.090800477897252,
          0.0708223587942639,
          0.0785714285714285,
          0.1237165178571428,
          0.1328976034858388,
          0.1387687969924812,
          0.0461234745154343,
          0.0315283638068448,
          0.2710736468500444,
          0.3419505023278608,
          0.1029256442754541,
          0.0834765177548682,
          0.1929426705370101,
          0.3383152173913042
         ]
        }
       ],
       "layout": {
        "annotations": [
         {
          "align": "left",
          "font": {
           "size": 24
          },
          "showarrow": false,
          "text": "P = 2.17×10<sup>-19</sup>",
          "x": 0.5,
          "xref": "paper",
          "y": 1.1,
          "yref": "paper"
         }
        ],
        "font": {
         "family": "Arial",
         "size": 25
        },
        "height": 600,
        "paper_bgcolor": "white",
        "plot_bgcolor": "white",
        "showlegend": false,
        "template": {
         "data": {
          "bar": [
           {
            "error_x": {
             "color": "#2a3f5f"
            },
            "error_y": {
             "color": "#2a3f5f"
            },
            "marker": {
             "line": {
              "color": "#E5ECF6",
              "width": 0.5
             },
             "pattern": {
              "fillmode": "overlay",
              "size": 10,
              "solidity": 0.2
             }
            },
            "type": "bar"
           }
          ],
          "barpolar": [
           {
            "marker": {
             "line": {
              "color": "#E5ECF6",
              "width": 0.5
             },
             "pattern": {
              "fillmode": "overlay",
              "size": 10,
              "solidity": 0.2
             }
            },
            "type": "barpolar"
           }
          ],
          "carpet": [
           {
            "aaxis": {
             "endlinecolor": "#2a3f5f",
             "gridcolor": "white",
             "linecolor": "white",
             "minorgridcolor": "white",
             "startlinecolor": "#2a3f5f"
            },
            "baxis": {
             "endlinecolor": "#2a3f5f",
             "gridcolor": "white",
             "linecolor": "white",
             "minorgridcolor": "white",
             "startlinecolor": "#2a3f5f"
            },
            "type": "carpet"
           }
          ],
          "choropleth": [
           {
            "colorbar": {
             "outlinewidth": 0,
             "ticks": ""
            },
            "type": "choropleth"
           }
          ],
          "contour": [
           {
            "colorbar": {
             "outlinewidth": 0,
             "ticks": ""
            },
            "colorscale": [
             [
              0,
              "#0d0887"
             ],
             [
              0.1111111111111111,
              "#46039f"
             ],
             [
              0.2222222222222222,
              "#7201a8"
             ],
             [
              0.3333333333333333,
              "#9c179e"
             ],
             [
              0.4444444444444444,
              "#bd3786"
             ],
             [
              0.5555555555555556,
              "#d8576b"
             ],
             [
              0.6666666666666666,
              "#ed7953"
             ],
             [
              0.7777777777777778,
              "#fb9f3a"
             ],
             [
              0.8888888888888888,
              "#fdca26"
             ],
             [
              1,
              "#f0f921"
             ]
            ],
            "type": "contour"
           }
          ],
          "contourcarpet": [
           {
            "colorbar": {
             "outlinewidth": 0,
             "ticks": ""
            },
            "type": "contourcarpet"
           }
          ],
          "heatmap": [
           {
            "colorbar": {
             "outlinewidth": 0,
             "ticks": ""
            },
            "colorscale": [
             [
              0,
              "#0d0887"
             ],
             [
              0.1111111111111111,
              "#46039f"
             ],
             [
              0.2222222222222222,
              "#7201a8"
             ],
             [
              0.3333333333333333,
              "#9c179e"
             ],
             [
              0.4444444444444444,
              "#bd3786"
             ],
             [
              0.5555555555555556,
              "#d8576b"
             ],
             [
              0.6666666666666666,
              "#ed7953"
             ],
             [
              0.7777777777777778,
              "#fb9f3a"
             ],
             [
              0.8888888888888888,
              "#fdca26"
             ],
             [
              1,
              "#f0f921"
             ]
            ],
            "type": "heatmap"
           }
          ],
          "heatmapgl": [
           {
            "colorbar": {
             "outlinewidth": 0,
             "ticks": ""
            },
            "colorscale": [
             [
              0,
              "#0d0887"
             ],
             [
              0.1111111111111111,
              "#46039f"
             ],
             [
              0.2222222222222222,
              "#7201a8"
             ],
             [
              0.3333333333333333,
              "#9c179e"
             ],
             [
              0.4444444444444444,
              "#bd3786"
             ],
             [
              0.5555555555555556,
              "#d8576b"
             ],
             [
              0.6666666666666666,
              "#ed7953"
             ],
             [
              0.7777777777777778,
              "#fb9f3a"
             ],
             [
              0.8888888888888888,
              "#fdca26"
             ],
             [
              1,
              "#f0f921"
             ]
            ],
            "type": "heatmapgl"
           }
          ],
          "histogram": [
           {
            "marker": {
             "pattern": {
              "fillmode": "overlay",
              "size": 10,
              "solidity": 0.2
             }
            },
            "type": "histogram"
           }
          ],
          "histogram2d": [
           {
            "colorbar": {
             "outlinewidth": 0,
             "ticks": ""
            },
            "colorscale": [
             [
              0,
              "#0d0887"
             ],
             [
              0.1111111111111111,
              "#46039f"
             ],
             [
              0.2222222222222222,
              "#7201a8"
             ],
             [
              0.3333333333333333,
              "#9c179e"
             ],
             [
              0.4444444444444444,
              "#bd3786"
             ],
             [
              0.5555555555555556,
              "#d8576b"
             ],
             [
              0.6666666666666666,
              "#ed7953"
             ],
             [
              0.7777777777777778,
              "#fb9f3a"
             ],
             [
              0.8888888888888888,
              "#fdca26"
             ],
             [
              1,
              "#f0f921"
             ]
            ],
            "type": "histogram2d"
           }
          ],
          "histogram2dcontour": [
           {
            "colorbar": {
             "outlinewidth": 0,
             "ticks": ""
            },
            "colorscale": [
             [
              0,
              "#0d0887"
             ],
             [
              0.1111111111111111,
              "#46039f"
             ],
             [
              0.2222222222222222,
              "#7201a8"
             ],
             [
              0.3333333333333333,
              "#9c179e"
             ],
             [
              0.4444444444444444,
              "#bd3786"
             ],
             [
              0.5555555555555556,
              "#d8576b"
             ],
             [
              0.6666666666666666,
              "#ed7953"
             ],
             [
              0.7777777777777778,
              "#fb9f3a"
             ],
             [
              0.8888888888888888,
              "#fdca26"
             ],
             [
              1,
              "#f0f921"
             ]
            ],
            "type": "histogram2dcontour"
           }
          ],
          "mesh3d": [
           {
            "colorbar": {
             "outlinewidth": 0,
             "ticks": ""
            },
            "type": "mesh3d"
           }
          ],
          "parcoords": [
           {
            "line": {
             "colorbar": {
              "outlinewidth": 0,
              "ticks": ""
             }
            },
            "type": "parcoords"
           }
          ],
          "pie": [
           {
            "automargin": true,
            "type": "pie"
           }
          ],
          "scatter": [
           {
            "fillpattern": {
             "fillmode": "overlay",
             "size": 10,
             "solidity": 0.2
            },
            "type": "scatter"
           }
          ],
          "scatter3d": [
           {
            "line": {
             "colorbar": {
              "outlinewidth": 0,
              "ticks": ""
             }
            },
            "marker": {
             "colorbar": {
              "outlinewidth": 0,
              "ticks": ""
             }
            },
            "type": "scatter3d"
           }
          ],
          "scattercarpet": [
           {
            "marker": {
             "colorbar": {
              "outlinewidth": 0,
              "ticks": ""
             }
            },
            "type": "scattercarpet"
           }
          ],
          "scattergeo": [
           {
            "marker": {
             "colorbar": {
              "outlinewidth": 0,
              "ticks": ""
             }
            },
            "type": "scattergeo"
           }
          ],
          "scattergl": [
           {
            "marker": {
             "colorbar": {
              "outlinewidth": 0,
              "ticks": ""
             }
            },
            "type": "scattergl"
           }
          ],
          "scattermapbox": [
           {
            "marker": {
             "colorbar": {
              "outlinewidth": 0,
              "ticks": ""
             }
            },
            "type": "scattermapbox"
           }
          ],
          "scatterpolar": [
           {
            "marker": {
             "colorbar": {
              "outlinewidth": 0,
              "ticks": ""
             }
            },
            "type": "scatterpolar"
           }
          ],
          "scatterpolargl": [
           {
            "marker": {
             "colorbar": {
              "outlinewidth": 0,
              "ticks": ""
             }
            },
            "type": "scatterpolargl"
           }
          ],
          "scatterternary": [
           {
            "marker": {
             "colorbar": {
              "outlinewidth": 0,
              "ticks": ""
             }
            },
            "type": "scatterternary"
           }
          ],
          "surface": [
           {
            "colorbar": {
             "outlinewidth": 0,
             "ticks": ""
            },
            "colorscale": [
             [
              0,
              "#0d0887"
             ],
             [
              0.1111111111111111,
              "#46039f"
             ],
             [
              0.2222222222222222,
              "#7201a8"
             ],
             [
              0.3333333333333333,
              "#9c179e"
             ],
             [
              0.4444444444444444,
              "#bd3786"
             ],
             [
              0.5555555555555556,
              "#d8576b"
             ],
             [
              0.6666666666666666,
              "#ed7953"
             ],
             [
              0.7777777777777778,
              "#fb9f3a"
             ],
             [
              0.8888888888888888,
              "#fdca26"
             ],
             [
              1,
              "#f0f921"
             ]
            ],
            "type": "surface"
           }
          ],
          "table": [
           {
            "cells": {
             "fill": {
              "color": "#EBF0F8"
             },
             "line": {
              "color": "white"
             }
            },
            "header": {
             "fill": {
              "color": "#C8D4E3"
             },
             "line": {
              "color": "white"
             }
            },
            "type": "table"
           }
          ]
         },
         "layout": {
          "annotationdefaults": {
           "arrowcolor": "#2a3f5f",
           "arrowhead": 0,
           "arrowwidth": 1
          },
          "autotypenumbers": "strict",
          "coloraxis": {
           "colorbar": {
            "outlinewidth": 0,
            "ticks": ""
           }
          },
          "colorscale": {
           "diverging": [
            [
             0,
             "#8e0152"
            ],
            [
             0.1,
             "#c51b7d"
            ],
            [
             0.2,
             "#de77ae"
            ],
            [
             0.3,
             "#f1b6da"
            ],
            [
             0.4,
             "#fde0ef"
            ],
            [
             0.5,
             "#f7f7f7"
            ],
            [
             0.6,
             "#e6f5d0"
            ],
            [
             0.7,
             "#b8e186"
            ],
            [
             0.8,
             "#7fbc41"
            ],
            [
             0.9,
             "#4d9221"
            ],
            [
             1,
             "#276419"
            ]
           ],
           "sequential": [
            [
             0,
             "#0d0887"
            ],
            [
             0.1111111111111111,
             "#46039f"
            ],
            [
             0.2222222222222222,
             "#7201a8"
            ],
            [
             0.3333333333333333,
             "#9c179e"
            ],
            [
             0.4444444444444444,
             "#bd3786"
            ],
            [
             0.5555555555555556,
             "#d8576b"
            ],
            [
             0.6666666666666666,
             "#ed7953"
            ],
            [
             0.7777777777777778,
             "#fb9f3a"
            ],
            [
             0.8888888888888888,
             "#fdca26"
            ],
            [
             1,
             "#f0f921"
            ]
           ],
           "sequentialminus": [
            [
             0,
             "#0d0887"
            ],
            [
             0.1111111111111111,
             "#46039f"
            ],
            [
             0.2222222222222222,
             "#7201a8"
            ],
            [
             0.3333333333333333,
             "#9c179e"
            ],
            [
             0.4444444444444444,
             "#bd3786"
            ],
            [
             0.5555555555555556,
             "#d8576b"
            ],
            [
             0.6666666666666666,
             "#ed7953"
            ],
            [
             0.7777777777777778,
             "#fb9f3a"
            ],
            [
             0.8888888888888888,
             "#fdca26"
            ],
            [
             1,
             "#f0f921"
            ]
           ]
          },
          "colorway": [
           "#636efa",
           "#EF553B",
           "#00cc96",
           "#ab63fa",
           "#FFA15A",
           "#19d3f3",
           "#FF6692",
           "#B6E880",
           "#FF97FF",
           "#FECB52"
          ],
          "font": {
           "color": "#2a3f5f"
          },
          "geo": {
           "bgcolor": "white",
           "lakecolor": "white",
           "landcolor": "#E5ECF6",
           "showlakes": true,
           "showland": true,
           "subunitcolor": "white"
          },
          "hoverlabel": {
           "align": "left"
          },
          "hovermode": "closest",
          "mapbox": {
           "style": "light"
          },
          "paper_bgcolor": "white",
          "plot_bgcolor": "#E5ECF6",
          "polar": {
           "angularaxis": {
            "gridcolor": "white",
            "linecolor": "white",
            "ticks": ""
           },
           "bgcolor": "#E5ECF6",
           "radialaxis": {
            "gridcolor": "white",
            "linecolor": "white",
            "ticks": ""
           }
          },
          "scene": {
           "xaxis": {
            "backgroundcolor": "#E5ECF6",
            "gridcolor": "white",
            "gridwidth": 2,
            "linecolor": "white",
            "showbackground": true,
            "ticks": "",
            "zerolinecolor": "white"
           },
           "yaxis": {
            "backgroundcolor": "#E5ECF6",
            "gridcolor": "white",
            "gridwidth": 2,
            "linecolor": "white",
            "showbackground": true,
            "ticks": "",
            "zerolinecolor": "white"
           },
           "zaxis": {
            "backgroundcolor": "#E5ECF6",
            "gridcolor": "white",
            "gridwidth": 2,
            "linecolor": "white",
            "showbackground": true,
            "ticks": "",
            "zerolinecolor": "white"
           }
          },
          "shapedefaults": {
           "line": {
            "color": "#2a3f5f"
           }
          },
          "ternary": {
           "aaxis": {
            "gridcolor": "white",
            "linecolor": "white",
            "ticks": ""
           },
           "baxis": {
            "gridcolor": "white",
            "linecolor": "white",
            "ticks": ""
           },
           "bgcolor": "#E5ECF6",
           "caxis": {
            "gridcolor": "white",
            "linecolor": "white",
            "ticks": ""
           }
          },
          "title": {
           "x": 0.05
          },
          "xaxis": {
           "automargin": true,
           "gridcolor": "white",
           "linecolor": "white",
           "ticks": "",
           "title": {
            "standoff": 15
           },
           "zerolinecolor": "white",
           "zerolinewidth": 2
          },
          "yaxis": {
           "automargin": true,
           "gridcolor": "white",
           "linecolor": "white",
           "ticks": "",
           "title": {
            "standoff": 15
           },
           "zerolinecolor": "white",
           "zerolinewidth": 2
          }
         }
        },
        "title": {
         "text": ""
        },
        "width": 400,
        "xaxis": {
         "showgrid": true
        },
        "yaxis": {
         "gridcolor": "black",
         "gridwidth": 1,
         "showgrid": true,
         "title": {
          "font": {
           "family": "Arial",
           "size": 20
          },
          "text": "Mean Hamming distance<br>to matching true CN profile"
         },
         "zeroline": true,
         "zerolinecolor": "black",
         "zerolinewidth": 1
        }
       }
      }
     },
     "metadata": {},
     "output_type": "display_data"
    }
   ],
   "source": [
    "from plotting_functions import make_error_comparison_plot\n",
    "palette_path = f'../../_assets/publication_palette.json'\n",
    "matching_distance_results.rename(columns={'alpaca_score':'alpaca','MEDICC2':'hatchet'},inplace=True)\n",
    "w=400\n",
    "h=600\n",
    "lables_font_size=25\n",
    "annotation_font_size=12\n",
    "scale=1\n",
    "fig_H, results = make_error_comparison_plot(\n",
    "    cohort_results=matching_distance_results,\n",
    "    palette_path=palette_path,\n",
    "    y_axis_title='Mean Hamming distance<br>to matching true CN profile',\n",
    "    w=w,\n",
    "    h=h,\n",
    "    font_size=lables_font_size)\n",
    "fig_H.update_traces(name=\"HATCHet2<br>+<br>MEDICC2\", selector=dict(name=\"HATCHet\"))\n",
    "fig_H.write_image(f'../../figures/Fig1d_hamming_comparison_boxplot_alpaca_vs_hatchet.pdf', width=w, height=h,scale=scale)\n",
    "fig_H.show()"
   ]
  },
  {
   "cell_type": "code",
   "execution_count": null,
   "metadata": {},
   "outputs": [
    {
     "name": "stdout",
     "output_type": "stream",
     "text": [
      "Test: wilcoxon\n"
     ]
    },
    {
     "data": {
      "application/vnd.plotly.v1+json": {
       "config": {
        "plotlyServerURL": "https://plot.ly"
       },
       "data": [
        {
         "boxpoints": "outliers",
         "jitter": 0,
         "line": {
          "color": "#FF7F00",
          "width": 2
         },
         "marker": {
          "size": 2.5
         },
         "name": "HATCHet2<br>+<br>MEDICC2",
         "orientation": "v",
         "pointpos": 0,
         "type": "box",
         "y": [
          0.9075378557101889,
          0.227913603737016,
          0.8727306391619568,
          0.3518721492729897,
          0.1475333406792055,
          0.24500904240129018,
          0.8462045168161761,
          0.14976079781082827,
          0.37266518729694936,
          0.27005188840035843,
          0.31060126756611744,
          0.7879962085104717,
          0.3555947355882171,
          0.05471841020311136,
          0.03851295551393122,
          0.38573604627838354,
          0.1324045851528507,
          0.19436783025887844,
          0.8737658828028736,
          0.01579387970117385,
          0.17330555552126656,
          0.792019811693583,
          0.8940096824400013,
          0.8133341636696303,
          0.31478345969669824,
          0.8914851902047496,
          0.8889766711161249,
          0.8554420443950743,
          0.9499096207664853,
          0.20383171345403311,
          0.3146588106863909,
          0.2346780107601227,
          0.2162945821818449,
          0.7664474532896558,
          0.29425258786419084,
          0.8390765720143512,
          0.14277074116309316,
          0.8296752050541596,
          0.9198368284892857,
          0.8846089425649291,
          0.46815024684386497,
          0.30392265442169436,
          0.060596501496284795,
          0.9543735570684866,
          0.286662393434025,
          0.36528810952382085,
          0.3215001373811832,
          0.3090924825753468,
          0.13213516059043062,
          0.8642931694182385,
          0.1113558204945804,
          0.2958200783003624,
          0.17920258343086792,
          0.26588967623451204,
          0.18044932677174236,
          0.3003368185917649,
          0.8113635499650598,
          0.02759598798248586,
          0.7853668970551325,
          0.16501954242393543,
          0.810248160815934,
          0.846753566596441,
          0.21048329796593918,
          0.7346741206809683,
          0.8587129945963847,
          0.4035320396943843,
          0.03982565990997742,
          0.3970004017696239,
          0.22997286780011142,
          0.8106861136271536,
          0.8582799010996957,
          0.8842056581954213,
          0.963716157608301,
          0.21060502249594074,
          0.7812707039373751,
          0.33564413648787383,
          0.3095737565336218,
          0.9274292938450633,
          0.2361238271497072,
          0.06356520575202643,
          0.2045138831029315,
          0.9041696580282573,
          0.18100338695400647,
          0.8994287511990682,
          0.840457505306744,
          0.19002826381462962,
          0.23808843901729787,
          0.4172665473166095,
          0.18994723370037078,
          0.8426483717649689,
          0.34198153520018687,
          0.1515159679475109,
          0.29605768668346655,
          0.31061163503935435,
          0.2795865161785449,
          0.5379124802288799,
          0.8491104979722132,
          0.19193278409285225,
          0.8387577986777547,
          0.259007442759884,
          0.9501026720144019,
          0.3174464796659568,
          0.7346688882794519,
          0.8408833930490357,
          0.9581548640070034,
          0.24128046508496023,
          0.9042606846779971,
          0.3098722417896394,
          0.16273248585989122,
          0.19566273547112265,
          0.16338386709216307,
          0.21518408491705976,
          0.19207132988533304,
          0.9575615709420642,
          0.8596864974892203,
          0.04091409212068771,
          0.8221467800064391,
          0.8393229245475697,
          0.8376359303489548,
          0.8747351840501804,
          0.8041972713322258,
          0.8059901189733044,
          0.8100328672109562,
          0.16914958738121832,
          0.36317809848102034,
          0.8326356526883042,
          0.7611037137118876,
          0.23900688260146993,
          0.16132805734543854,
          0.06501513591662066,
          0.119915447187685,
          0.8696483501906185,
          0.06500382824388812,
          0.07488046867614907,
          0.8125577677992705,
          0.8294878805047652,
          0.28817060590637866,
          0.31406088579730845,
          0.2921275038208916,
          0.8204873660487103,
          0.9426290109068626,
          0.8546594708536097,
          0.13883785135858687,
          0.3252740402796384,
          0.20266258143487173,
          0.22224603126365675,
          0.9078818862218223,
          0.9055654869206015,
          0.022262465745273876,
          0.11217716323566425
         ]
        },
        {
         "boxpoints": "outliers",
         "jitter": 0,
         "line": {
          "color": "#1F78B4",
          "width": 2
         },
         "marker": {
          "size": 2.5
         },
         "name": "ALPACA",
         "orientation": "v",
         "pointpos": 0,
         "type": "box",
         "y": [
          0.33913531733049523,
          0.20190736336328066,
          0.10961396559162137,
          0.03228848314128367,
          0.1083405837683463,
          0.1720171623394682,
          0.05868639411453334,
          0.10746295935272311,
          0.040973173117886216,
          0.15652839154797968,
          0.19182374447779316,
          0.16694167509814373,
          0.4156460592651699,
          0.12805783902475337,
          0.07635391629055173,
          0.17550672438800013,
          0.08781076838763882,
          0.12996343602994295,
          0.08370158189689719,
          0.03930486187022683,
          0.07642573316411641,
          0.09802658620061806,
          0.38857699286902203,
          0.13800588393733426,
          0.05790482348960911,
          0.1081879568716512,
          0.06667914575450071,
          0.20097578784510106,
          0.37033506937249916,
          0.2571795164580525,
          0.2568806101443527,
          0.17246995542261861,
          0.13940978932058185,
          0.07444593809800508,
          0.34897714036109495,
          0.25937851799371237,
          0.18022680927640158,
          0.22746952692937542,
          0.2939482578065499,
          0.14464208608691612,
          0.07793089602982255,
          0.376972720944678,
          0.14183862188782406,
          0.2189478001417003,
          0.366611225533735,
          0.4512073165024629,
          0.37583047777583434,
          0.3580903783043516,
          0.1617090705803847,
          0.3446932603686636,
          0.08632446235034678,
          0.2578281734244354,
          0.22089425867877974,
          0.35093038043672087,
          0.09896531051801043,
          0.3102267289575082,
          0.03388542853518019,
          0.06203864655974016,
          0.09263083380108178,
          0.10156953007865163,
          0.02726935578605251,
          0.08550707057619097,
          0.2661576570300306,
          0.1399767634864474,
          0.10786480069012858,
          0.06913319447679216,
          0.14591033081903154,
          0.0766395712710393,
          0.2664657483056928,
          0.18631185578679496,
          0.026774482351564148,
          0.08316460816383715,
          0.23060070053065526,
          0.23934632545501697,
          0.11883874936362211,
          0.3696960729237874,
          0.3264005813821665,
          0.047524217242183746,
          0.29765306122448976,
          0.1310587494400523,
          0.11388079710793028,
          0.08020339259933115,
          0.21500573801330472,
          0.31491496906644056,
          0.09991334712754532,
          0.10266270904216061,
          0.11464634475146697,
          0.15477595888513304,
          0.1322821044956678,
          0.15670665967439043,
          0.3609960109700542,
          0.08643535524768897,
          0.02448590772762941,
          0.3613559098323404,
          0.3075156056053889,
          0.38345720044333204,
          0.12680306202348698,
          0.07569331442234817,
          0.038376123997704854,
          0.0822381279760155,
          0.04794960989758126,
          0.2687996395987308,
          0.0677296636761568,
          0.07560417505216802,
          0.31470396424817815,
          0.20874853148339653,
          0.10087275794423127,
          0.3233589002550124,
          0.10713101188492577,
          0.1198295526314808,
          0.10984000746375697,
          0.22186948195285902,
          0.20491784886510322,
          0.022109563964404312,
          0.01828471558967203,
          0.04026413943095445,
          0.037042087363621995,
          0.14494331329188032,
          0.10529880156282212,
          0.02339419872957249,
          0.03700629381782617,
          0.1308916729894743,
          0.06394504860438915,
          0.22213490498008337,
          0.20026497694129686,
          0.3286180924153745,
          0.14495908402700677,
          0.3301501641456331,
          0.18783668627845734,
          0.03456178059412945,
          0.057720707969638595,
          0.08550736304426534,
          0.04431441279093257,
          0.0803545264398363,
          0.14737685862461203,
          0.023690825977796207,
          0.148657774036809,
          0.3484751432293412,
          0.3113203087268765,
          0.019662855298995963,
          0.07344852241502121,
          0.11328045305041143,
          0.10758890376829917,
          0.19894557111782948,
          0.09097216436066105,
          0.055476093396934656,
          0.08125628728393212,
          0.3515938726099978,
          0.05685335849514354,
          0.09693871288686678
         ]
        }
       ],
       "layout": {
        "annotations": [
         {
          "align": "left",
          "font": {
           "size": 24
          },
          "showarrow": false,
          "text": "P = 2.12×10<sup>-16</sup>",
          "x": 0.5,
          "xref": "paper",
          "y": 1.1,
          "yref": "paper"
         }
        ],
        "font": {
         "family": "Arial",
         "size": 25
        },
        "height": 600,
        "paper_bgcolor": "white",
        "plot_bgcolor": "white",
        "showlegend": false,
        "template": {
         "data": {
          "bar": [
           {
            "error_x": {
             "color": "#2a3f5f"
            },
            "error_y": {
             "color": "#2a3f5f"
            },
            "marker": {
             "line": {
              "color": "#E5ECF6",
              "width": 0.5
             },
             "pattern": {
              "fillmode": "overlay",
              "size": 10,
              "solidity": 0.2
             }
            },
            "type": "bar"
           }
          ],
          "barpolar": [
           {
            "marker": {
             "line": {
              "color": "#E5ECF6",
              "width": 0.5
             },
             "pattern": {
              "fillmode": "overlay",
              "size": 10,
              "solidity": 0.2
             }
            },
            "type": "barpolar"
           }
          ],
          "carpet": [
           {
            "aaxis": {
             "endlinecolor": "#2a3f5f",
             "gridcolor": "white",
             "linecolor": "white",
             "minorgridcolor": "white",
             "startlinecolor": "#2a3f5f"
            },
            "baxis": {
             "endlinecolor": "#2a3f5f",
             "gridcolor": "white",
             "linecolor": "white",
             "minorgridcolor": "white",
             "startlinecolor": "#2a3f5f"
            },
            "type": "carpet"
           }
          ],
          "choropleth": [
           {
            "colorbar": {
             "outlinewidth": 0,
             "ticks": ""
            },
            "type": "choropleth"
           }
          ],
          "contour": [
           {
            "colorbar": {
             "outlinewidth": 0,
             "ticks": ""
            },
            "colorscale": [
             [
              0,
              "#0d0887"
             ],
             [
              0.1111111111111111,
              "#46039f"
             ],
             [
              0.2222222222222222,
              "#7201a8"
             ],
             [
              0.3333333333333333,
              "#9c179e"
             ],
             [
              0.4444444444444444,
              "#bd3786"
             ],
             [
              0.5555555555555556,
              "#d8576b"
             ],
             [
              0.6666666666666666,
              "#ed7953"
             ],
             [
              0.7777777777777778,
              "#fb9f3a"
             ],
             [
              0.8888888888888888,
              "#fdca26"
             ],
             [
              1,
              "#f0f921"
             ]
            ],
            "type": "contour"
           }
          ],
          "contourcarpet": [
           {
            "colorbar": {
             "outlinewidth": 0,
             "ticks": ""
            },
            "type": "contourcarpet"
           }
          ],
          "heatmap": [
           {
            "colorbar": {
             "outlinewidth": 0,
             "ticks": ""
            },
            "colorscale": [
             [
              0,
              "#0d0887"
             ],
             [
              0.1111111111111111,
              "#46039f"
             ],
             [
              0.2222222222222222,
              "#7201a8"
             ],
             [
              0.3333333333333333,
              "#9c179e"
             ],
             [
              0.4444444444444444,
              "#bd3786"
             ],
             [
              0.5555555555555556,
              "#d8576b"
             ],
             [
              0.6666666666666666,
              "#ed7953"
             ],
             [
              0.7777777777777778,
              "#fb9f3a"
             ],
             [
              0.8888888888888888,
              "#fdca26"
             ],
             [
              1,
              "#f0f921"
             ]
            ],
            "type": "heatmap"
           }
          ],
          "heatmapgl": [
           {
            "colorbar": {
             "outlinewidth": 0,
             "ticks": ""
            },
            "colorscale": [
             [
              0,
              "#0d0887"
             ],
             [
              0.1111111111111111,
              "#46039f"
             ],
             [
              0.2222222222222222,
              "#7201a8"
             ],
             [
              0.3333333333333333,
              "#9c179e"
             ],
             [
              0.4444444444444444,
              "#bd3786"
             ],
             [
              0.5555555555555556,
              "#d8576b"
             ],
             [
              0.6666666666666666,
              "#ed7953"
             ],
             [
              0.7777777777777778,
              "#fb9f3a"
             ],
             [
              0.8888888888888888,
              "#fdca26"
             ],
             [
              1,
              "#f0f921"
             ]
            ],
            "type": "heatmapgl"
           }
          ],
          "histogram": [
           {
            "marker": {
             "pattern": {
              "fillmode": "overlay",
              "size": 10,
              "solidity": 0.2
             }
            },
            "type": "histogram"
           }
          ],
          "histogram2d": [
           {
            "colorbar": {
             "outlinewidth": 0,
             "ticks": ""
            },
            "colorscale": [
             [
              0,
              "#0d0887"
             ],
             [
              0.1111111111111111,
              "#46039f"
             ],
             [
              0.2222222222222222,
              "#7201a8"
             ],
             [
              0.3333333333333333,
              "#9c179e"
             ],
             [
              0.4444444444444444,
              "#bd3786"
             ],
             [
              0.5555555555555556,
              "#d8576b"
             ],
             [
              0.6666666666666666,
              "#ed7953"
             ],
             [
              0.7777777777777778,
              "#fb9f3a"
             ],
             [
              0.8888888888888888,
              "#fdca26"
             ],
             [
              1,
              "#f0f921"
             ]
            ],
            "type": "histogram2d"
           }
          ],
          "histogram2dcontour": [
           {
            "colorbar": {
             "outlinewidth": 0,
             "ticks": ""
            },
            "colorscale": [
             [
              0,
              "#0d0887"
             ],
             [
              0.1111111111111111,
              "#46039f"
             ],
             [
              0.2222222222222222,
              "#7201a8"
             ],
             [
              0.3333333333333333,
              "#9c179e"
             ],
             [
              0.4444444444444444,
              "#bd3786"
             ],
             [
              0.5555555555555556,
              "#d8576b"
             ],
             [
              0.6666666666666666,
              "#ed7953"
             ],
             [
              0.7777777777777778,
              "#fb9f3a"
             ],
             [
              0.8888888888888888,
              "#fdca26"
             ],
             [
              1,
              "#f0f921"
             ]
            ],
            "type": "histogram2dcontour"
           }
          ],
          "mesh3d": [
           {
            "colorbar": {
             "outlinewidth": 0,
             "ticks": ""
            },
            "type": "mesh3d"
           }
          ],
          "parcoords": [
           {
            "line": {
             "colorbar": {
              "outlinewidth": 0,
              "ticks": ""
             }
            },
            "type": "parcoords"
           }
          ],
          "pie": [
           {
            "automargin": true,
            "type": "pie"
           }
          ],
          "scatter": [
           {
            "fillpattern": {
             "fillmode": "overlay",
             "size": 10,
             "solidity": 0.2
            },
            "type": "scatter"
           }
          ],
          "scatter3d": [
           {
            "line": {
             "colorbar": {
              "outlinewidth": 0,
              "ticks": ""
             }
            },
            "marker": {
             "colorbar": {
              "outlinewidth": 0,
              "ticks": ""
             }
            },
            "type": "scatter3d"
           }
          ],
          "scattercarpet": [
           {
            "marker": {
             "colorbar": {
              "outlinewidth": 0,
              "ticks": ""
             }
            },
            "type": "scattercarpet"
           }
          ],
          "scattergeo": [
           {
            "marker": {
             "colorbar": {
              "outlinewidth": 0,
              "ticks": ""
             }
            },
            "type": "scattergeo"
           }
          ],
          "scattergl": [
           {
            "marker": {
             "colorbar": {
              "outlinewidth": 0,
              "ticks": ""
             }
            },
            "type": "scattergl"
           }
          ],
          "scattermapbox": [
           {
            "marker": {
             "colorbar": {
              "outlinewidth": 0,
              "ticks": ""
             }
            },
            "type": "scattermapbox"
           }
          ],
          "scatterpolar": [
           {
            "marker": {
             "colorbar": {
              "outlinewidth": 0,
              "ticks": ""
             }
            },
            "type": "scatterpolar"
           }
          ],
          "scatterpolargl": [
           {
            "marker": {
             "colorbar": {
              "outlinewidth": 0,
              "ticks": ""
             }
            },
            "type": "scatterpolargl"
           }
          ],
          "scatterternary": [
           {
            "marker": {
             "colorbar": {
              "outlinewidth": 0,
              "ticks": ""
             }
            },
            "type": "scatterternary"
           }
          ],
          "surface": [
           {
            "colorbar": {
             "outlinewidth": 0,
             "ticks": ""
            },
            "colorscale": [
             [
              0,
              "#0d0887"
             ],
             [
              0.1111111111111111,
              "#46039f"
             ],
             [
              0.2222222222222222,
              "#7201a8"
             ],
             [
              0.3333333333333333,
              "#9c179e"
             ],
             [
              0.4444444444444444,
              "#bd3786"
             ],
             [
              0.5555555555555556,
              "#d8576b"
             ],
             [
              0.6666666666666666,
              "#ed7953"
             ],
             [
              0.7777777777777778,
              "#fb9f3a"
             ],
             [
              0.8888888888888888,
              "#fdca26"
             ],
             [
              1,
              "#f0f921"
             ]
            ],
            "type": "surface"
           }
          ],
          "table": [
           {
            "cells": {
             "fill": {
              "color": "#EBF0F8"
             },
             "line": {
              "color": "white"
             }
            },
            "header": {
             "fill": {
              "color": "#C8D4E3"
             },
             "line": {
              "color": "white"
             }
            },
            "type": "table"
           }
          ]
         },
         "layout": {
          "annotationdefaults": {
           "arrowcolor": "#2a3f5f",
           "arrowhead": 0,
           "arrowwidth": 1
          },
          "autotypenumbers": "strict",
          "coloraxis": {
           "colorbar": {
            "outlinewidth": 0,
            "ticks": ""
           }
          },
          "colorscale": {
           "diverging": [
            [
             0,
             "#8e0152"
            ],
            [
             0.1,
             "#c51b7d"
            ],
            [
             0.2,
             "#de77ae"
            ],
            [
             0.3,
             "#f1b6da"
            ],
            [
             0.4,
             "#fde0ef"
            ],
            [
             0.5,
             "#f7f7f7"
            ],
            [
             0.6,
             "#e6f5d0"
            ],
            [
             0.7,
             "#b8e186"
            ],
            [
             0.8,
             "#7fbc41"
            ],
            [
             0.9,
             "#4d9221"
            ],
            [
             1,
             "#276419"
            ]
           ],
           "sequential": [
            [
             0,
             "#0d0887"
            ],
            [
             0.1111111111111111,
             "#46039f"
            ],
            [
             0.2222222222222222,
             "#7201a8"
            ],
            [
             0.3333333333333333,
             "#9c179e"
            ],
            [
             0.4444444444444444,
             "#bd3786"
            ],
            [
             0.5555555555555556,
             "#d8576b"
            ],
            [
             0.6666666666666666,
             "#ed7953"
            ],
            [
             0.7777777777777778,
             "#fb9f3a"
            ],
            [
             0.8888888888888888,
             "#fdca26"
            ],
            [
             1,
             "#f0f921"
            ]
           ],
           "sequentialminus": [
            [
             0,
             "#0d0887"
            ],
            [
             0.1111111111111111,
             "#46039f"
            ],
            [
             0.2222222222222222,
             "#7201a8"
            ],
            [
             0.3333333333333333,
             "#9c179e"
            ],
            [
             0.4444444444444444,
             "#bd3786"
            ],
            [
             0.5555555555555556,
             "#d8576b"
            ],
            [
             0.6666666666666666,
             "#ed7953"
            ],
            [
             0.7777777777777778,
             "#fb9f3a"
            ],
            [
             0.8888888888888888,
             "#fdca26"
            ],
            [
             1,
             "#f0f921"
            ]
           ]
          },
          "colorway": [
           "#636efa",
           "#EF553B",
           "#00cc96",
           "#ab63fa",
           "#FFA15A",
           "#19d3f3",
           "#FF6692",
           "#B6E880",
           "#FF97FF",
           "#FECB52"
          ],
          "font": {
           "color": "#2a3f5f"
          },
          "geo": {
           "bgcolor": "white",
           "lakecolor": "white",
           "landcolor": "#E5ECF6",
           "showlakes": true,
           "showland": true,
           "subunitcolor": "white"
          },
          "hoverlabel": {
           "align": "left"
          },
          "hovermode": "closest",
          "mapbox": {
           "style": "light"
          },
          "paper_bgcolor": "white",
          "plot_bgcolor": "#E5ECF6",
          "polar": {
           "angularaxis": {
            "gridcolor": "white",
            "linecolor": "white",
            "ticks": ""
           },
           "bgcolor": "#E5ECF6",
           "radialaxis": {
            "gridcolor": "white",
            "linecolor": "white",
            "ticks": ""
           }
          },
          "scene": {
           "xaxis": {
            "backgroundcolor": "#E5ECF6",
            "gridcolor": "white",
            "gridwidth": 2,
            "linecolor": "white",
            "showbackground": true,
            "ticks": "",
            "zerolinecolor": "white"
           },
           "yaxis": {
            "backgroundcolor": "#E5ECF6",
            "gridcolor": "white",
            "gridwidth": 2,
            "linecolor": "white",
            "showbackground": true,
            "ticks": "",
            "zerolinecolor": "white"
           },
           "zaxis": {
            "backgroundcolor": "#E5ECF6",
            "gridcolor": "white",
            "gridwidth": 2,
            "linecolor": "white",
            "showbackground": true,
            "ticks": "",
            "zerolinecolor": "white"
           }
          },
          "shapedefaults": {
           "line": {
            "color": "#2a3f5f"
           }
          },
          "ternary": {
           "aaxis": {
            "gridcolor": "white",
            "linecolor": "white",
            "ticks": ""
           },
           "baxis": {
            "gridcolor": "white",
            "linecolor": "white",
            "ticks": ""
           },
           "bgcolor": "#E5ECF6",
           "caxis": {
            "gridcolor": "white",
            "linecolor": "white",
            "ticks": ""
           }
          },
          "title": {
           "x": 0.05
          },
          "xaxis": {
           "automargin": true,
           "gridcolor": "white",
           "linecolor": "white",
           "ticks": "",
           "title": {
            "standoff": 15
           },
           "zerolinecolor": "white",
           "zerolinewidth": 2
          },
          "yaxis": {
           "automargin": true,
           "gridcolor": "white",
           "linecolor": "white",
           "ticks": "",
           "title": {
            "standoff": 15
           },
           "zerolinecolor": "white",
           "zerolinewidth": 2
          }
         }
        },
        "title": {
         "text": ""
        },
        "width": 400,
        "xaxis": {
         "showgrid": true
        },
        "yaxis": {
         "gridcolor": "black",
         "gridwidth": 1,
         "showgrid": true,
         "title": {
          "font": {
           "family": "Arial",
           "size": 20
          },
          "text": "Mean Total Variation Distance<br>to true CN solution"
         },
         "zeroline": true,
         "zerolinecolor": "black",
         "zerolinewidth": 1
        }
       }
      }
     },
     "metadata": {},
     "output_type": "display_data"
    }
   ],
   "source": [
    "distance_results_transformed = distance_results.groupby(['tumour_id','model']).apply(lambda x: x['total_var_dist_mean'].mean()).reset_index().rename(columns={0:'total_var_dist_mean'})\n",
    "distance_results_transformed_wide = distance_results_transformed.pivot(index='tumour_id',columns='model',values='total_var_dist_mean').reset_index()\n",
    "distance_results_transformed_wide.rename(columns={'ALPACA':'alpaca','HATCHET':'hatchet'},inplace=True)\n",
    "\n",
    "fig_T, results = make_error_comparison_plot(\n",
    "    cohort_results=distance_results_transformed_wide,\n",
    "    palette_path=palette_path,\n",
    "    y_axis_title='Mean Total Variation Distance<br>to true CN solution',\n",
    "    w=w,\n",
    "    h=h,\n",
    "    font_size=lables_font_size)\n",
    "fig_T.update_traces(name=\"HATCHet2<br>+<br>MEDICC2\", selector=dict(name=\"HATCHet\"))\n",
    "fig_T.write_image(f'../../figures/Fig1d_TVD_comparison_boxplot_alpaca_vs_hatchet.pdf', width=w, height=h,scale=scale)\n",
    "fig_T.show()"
   ]
  },
  {
   "cell_type": "code",
   "execution_count": 19,
   "metadata": {},
   "outputs": [],
   "source": [
    "all_mrca_results = []\n",
    "for tumour_id in tumour_ids:\n",
    "    try:\n",
    "        processed_output_name = f'{processed_files_path}/{tumour_id}_MRCA_comparison.csv'\n",
    "        if os.path.exists(processed_output_name):\n",
    "            results_df = pd.read_csv(processed_output_name)\n",
    "            all_mrca_results.append(results_df)\n",
    "            continue   \n",
    "        results_dict = {}\n",
    "        tumour_dir = f'{hatchet_output}/{tumour_id}'\n",
    "        medicc_dir = f'{tumour_dir}/medicc'\n",
    "        tree_path = f'{alpaca_input_dir}/{tumour_id}/tree_paths.json'\n",
    "        # read json:\n",
    "        with open(tree_path) as f:\n",
    "            tree = json.load(f)\n",
    "        ALPACA_mrca = tree[0][0]\n",
    "        ALPACA_input = pd.read_csv(f'{alpaca_input_dir}/{tumour_id}/ALPACA_input_table.csv')\n",
    "        ALPACA_output = pd.read_csv(f'{alpaca_output_dir}/patient_outputs/{tumour_id}/final_{tumour_id}.csv').drop_duplicates()\n",
    "        ALPACA_output = ALPACA_output[ALPACA_output.clone==ALPACA_mrca]\n",
    "        # Use medicc output:\n",
    "        comparator_name = 'MEDICC2'\n",
    "        if comparator_name == 'MEDICC2':\n",
    "            MEDICC_output_raw_path = f'{medicc_dir}/{tumour_id}_final_cn_profiles.tsv'\n",
    "            if not os.path.exists(MEDICC_output_raw_path):\n",
    "                continue\n",
    "            MEDICC_output_raw = pd.read_table(MEDICC_output_raw_path)\n",
    "            MEDICC_output = cast_MEDICC_to_ALPACA(MEDICC_output_raw)\n",
    "            # hatchet or meddic:\n",
    "            COMPARATOR_output = MEDICC_output\n",
    "        else:\n",
    "            HATCHET_output_raw = pd.read_csv(f'{hatchet_output}/{tumour_id}/results/best.seg.ucn', sep='\\t')\n",
    "            HATCHET_output = cast_HATCHET_to_ALPACA(HATCHET_output_raw)\n",
    "            COMPARATOR_output = HATCHET_output\n",
    "        medicc_mrca = 'internal1' if 'internal1' in COMPARATOR_output['clone'].unique() else 'internal_1'\n",
    "        COMPARATOR_output = COMPARATOR_output[COMPARATOR_output['clone']==medicc_mrca]\n",
    "        TRUE_copynumbers = pd.read_csv(f'{alpaca_input_dir}/{tumour_id}/copynumbers.csv')\n",
    "        TRUE_tree = json.load(open(f'{true_tree_simulations}/{tumour_id}/tree_paths.json'))\n",
    "        TRUE_mrca = TRUE_tree[0][0]\n",
    "        TRUE_copynumbers = TRUE_copynumbers[TRUE_copynumbers['clone']==TRUE_mrca]\n",
    "        patient_output_path =  f'{alpaca_output_dir}/patient_outputs/{tumour_id}/'\n",
    "        simulations_path = f'{simulations_input_path}/{tumour_id}/sim'\n",
    "        common_segments = set.intersection(set(COMPARATOR_output['segment']), set(ALPACA_output['segment']), set(TRUE_copynumbers['segment']))\n",
    "        TRUE_copynumbers = TRUE_copynumbers[TRUE_copynumbers['segment'].isin(common_segments)]\n",
    "        ALPACA_output = ALPACA_output[ALPACA_output['segment'].isin(common_segments)]\n",
    "        COMPARATOR_output = COMPARATOR_output[COMPARATOR_output['segment'].isin(common_segments)]\n",
    "        alpaca_score = compare_copynumber_profiles(TRUE_copynumbers,ALPACA_output,metric='hamming')['closest_clone_distance'].mean()\n",
    "        comparator_score = compare_copynumber_profiles(TRUE_copynumbers,COMPARATOR_output,metric='hamming')['closest_clone_distance'].mean()\n",
    "        results_dict[tumour_id] = {'alpaca_score':alpaca_score, f'{comparator_name}':comparator_score}\n",
    "        results_df = pd.DataFrame(results_dict).T.reset_index()\n",
    "        results_df.to_csv(processed_output_name,index=False)\n",
    "        all_mrca_results.append(results_df)\n",
    "    except:\n",
    "        continue\n",
    "\n",
    "mrca_distance_results = pd.concat(all_mrca_results)\n"
   ]
  },
  {
   "cell_type": "code",
   "execution_count": 20,
   "metadata": {},
   "outputs": [
    {
     "name": "stdout",
     "output_type": "stream",
     "text": [
      "Test: wilcoxon\n"
     ]
    },
    {
     "data": {
      "application/vnd.plotly.v1+json": {
       "config": {
        "plotlyServerURL": "https://plot.ly"
       },
       "data": [
        {
         "boxpoints": "outliers",
         "jitter": 0,
         "line": {
          "color": "#FF7F00",
          "width": 2
         },
         "marker": {
          "size": 2.5
         },
         "name": "HATCHet2<br>+<br>MEDICC2",
         "orientation": "v",
         "pointpos": 0,
         "type": "box",
         "y": [
          0.7581274382314694,
          0.31525076765609,
          0.1228956228956228,
          0.9941520467836256,
          0.9121405750798722,
          0.9241803278688524,
          0.794921875,
          0.0666666666666666,
          0.806930693069307,
          0.1936936936936936,
          0.1496124031007752,
          0.3574918566775244,
          0.8468468468468469,
          0.2288428324697754,
          0.95,
          0.1113207547169811,
          0.9694960212201592,
          0.3858024691358024,
          0.3066666666666666,
          0.8273809523809523,
          0.3389355742296919,
          0.1292134831460674,
          0.3019877675840978,
          0.788135593220339,
          0.970886075949367,
          0.8378076062639821,
          0.992874109263658,
          0.2061403508771929,
          0.9159574468085108,
          0.0544933078393881,
          0.1428571428571428,
          0.0671785028790787,
          0.483400114481969,
          0.0732984293193717,
          0.8110047846889952,
          0.3647570703408266,
          0.7532637075718016,
          0.2051948051948052,
          0.162,
          0.9204355108877722,
          0,
          0.2341176470588235,
          0.4144196951934349,
          0.9692307692307692,
          0.9924098671726757,
          0.9204712812960236,
          0.1778169014084507,
          0.9397590361445785,
          0.1092592592592592,
          0.1016949152542373,
          0.2585585585585586,
          0.1872705018359853,
          0.2419354838709677,
          0.1732186732186732,
          0.2651960784313725,
          0.3009417808219178,
          0.1844783715012722,
          0.0912162162162162,
          0.0195652173913043,
          0.0822784810126582,
          0.7913533834586466,
          0.1932700603968938,
          0.1732673267326732,
          0.1229166666666666,
          0.767636684303351,
          0.0335151987529228,
          0.398,
          0.1168478260869565,
          0.2131696428571428,
          0.388268156424581,
          0.1269554753309266,
          0.9854497354497356,
          0.3243243243243243,
          0.9609053497942388,
          0.3173374613003096,
          0.7134632418069088,
          0.1136890951276102,
          0.9691780821917808,
          0.0699052132701421,
          0.2548209366391185,
          0.0285714285714285,
          0.7857142857142857,
          0.971186440677966,
          0.9791666666666666,
          0.1260416666666666,
          0.25,
          0.3,
          0.7658772874058127,
          0.4608,
          0.2480314960629921,
          0.1836734693877551,
          0.1126126126126126,
          0.9554263565891472,
          0.0726902173913043,
          0.1936560934891485,
          0.1477272727272727,
          0.9753309265944644,
          0.095482546201232,
          0.7743794326241135,
          0.0079113924050632,
          0.8753117206982544,
          0.4213750850918992,
          0.0200501253132832,
          0.1217440543601359,
          0.0792507204610951,
          0.9177215189873418,
          0.8098086124401914,
          0.6140808344198174,
          0.8802177858439202,
          0.9558058925476604,
          0.8591867469879518,
          0.1425661914460285,
          0.1302570093457944,
          0.3177200902934537,
          0.0092198581560283,
          0.0076233183856502,
          0.1828396322778345,
          0.4117849758787043,
          0.0627615062761506,
          0.05893536121673,
          0.1307311028500619,
          0.8544176706827309,
          0.9819004524886876,
          0.3979591836734694,
          0.2733812949640288,
          0.2538461538461538,
          0.3525943396226415,
          0.998397435897436,
          0.9926470588235294,
          0.3097773475314617,
          0.9054054054054054,
          0.0845697329376854,
          0.1658291457286432,
          0.1344086021505376,
          0.9029850746268656,
          0.175,
          0.5142857142857142,
          0.2777777777777778,
          0.781578947368421,
          0.3768844221105528,
          0.1371308016877637,
          0.1987577639751552,
          0.279874213836478,
          0.9328263624841572,
          0.8797250859106529,
          0.1898584905660377,
          0.7943840579710145
         ]
        },
        {
         "boxpoints": "outliers",
         "jitter": 0,
         "line": {
          "color": "#1F78B4",
          "width": 2
         },
         "marker": {
          "size": 2.5
         },
         "name": "ALPACA",
         "orientation": "v",
         "pointpos": 0,
         "type": "box",
         "y": [
          0.1553966189856957,
          0.1724667349027635,
          0.0538720538720538,
          0.0935672514619883,
          0.0862619808306709,
          0.1024590163934426,
          0.10546875,
          0.075,
          0.0334158415841584,
          0.1036036036036036,
          0.1961240310077519,
          0.2228555917480998,
          0.1328828828828828,
          0.1312607944732297,
          0.0375,
          0.0981132075471698,
          0.2374005305039787,
          0.2098765432098765,
          0.0533333333333333,
          0.1636904761904762,
          0.2009803921568627,
          0.0191011235955056,
          0.0053516819571865,
          0.034957627118644,
          0.0873417721518987,
          0.0671140939597315,
          0.0546318289786223,
          0.0869883040935672,
          0.0882978723404255,
          0.0602294455066921,
          0.0995184590690208,
          0.0383877159309021,
          0.0475100171722953,
          0.0157068062827225,
          0.0586124401913875,
          0.130891950688905,
          0.0509138381201044,
          0.0545454545454545,
          0.003,
          0.0904522613065326,
          0.1477832512315271,
          0.3227450980392157,
          0.0679953106682297,
          0.0442307692307692,
          0.0379506641366223,
          0.0508100147275405,
          0.0422535211267605,
          0.0692771084337349,
          0.0879629629629629,
          0.0911016949152542,
          0.0468468468468468,
          0.0263157894736842,
          0.097926267281106,
          0.1044226044226044,
          0.1166666666666666,
          0.0530821917808219,
          0.1399491094147582,
          0.0160472972972972,
          0.058695652173913,
          0.1662830840046029,
          0.1353383458646616,
          0.0612597066436583,
          0.2623762376237624,
          0.1125,
          0.068342151675485,
          0.0997661730319563,
          0.1073333333333333,
          0.0190217391304347,
          0.2243303571428571,
          0.0949720670391061,
          0.0932611311672683,
          0.2149470899470899,
          0.0378378378378378,
          0.1090534979423868,
          0.0998452012383901,
          0.2595217006200177,
          0.1194895591647331,
          0.0102739726027397,
          0.1611374407582938,
          0.1446280991735537,
          0.1742857142857143,
          0.0985533453887884,
          0.0796610169491525,
          0.1944444444444444,
          0.0791666666666666,
          0.1726361031518624,
          0.0416666666666666,
          0.0640473627556512,
          0.0904,
          0.2015748031496063,
          0.0653061224489796,
          0.0484234234234234,
          0.0755813953488372,
          0.0638586956521739,
          0.0959933222036727,
          0.1753246753246753,
          0.2154031287605294,
          0.1478439425051334,
          0.1617907801418439,
          0.045886075949367,
          0.1047381546134663,
          0.5061266167460857,
          0.0288220551378446,
          0.0192525481313703,
          0.0043227665706051,
          0.0590717299578059,
          0.1423444976076555,
          0.0071707953063885,
          0.160617059891107,
          0.0476603119584055,
          0.0045180722891566,
          0.0947046843177189,
          0.0110981308411214,
          0.082392776523702,
          0.0113475177304964,
          0.0237668161434977,
          0.1072522982635342,
          0.111302549965541,
          0.0878661087866108,
          0.0893536121673003,
          0.0198265179677819,
          0.0783132530120482,
          0.0950226244343891,
          0.0816326530612244,
          0.1238437821171634,
          0.1153846153846153,
          0.160377358490566,
          0.110576923076923,
          0.0985294117647058,
          0.0745401742497579,
          0.0594594594594594,
          0.0811078140454995,
          0.0094221105527638,
          0.1881720430107527,
          0.0422885572139303,
          0.0785714285714285,
          0.0397321428571428,
          0.0784313725490196,
          0.1072368421052631,
          0.0628140703517587,
          0,
          0.1623779946761313,
          0.132973944294699,
          0.0956907477820025,
          0.0670103092783505,
          0.1143867924528301,
          0.1802536231884058
         ]
        }
       ],
       "layout": {
        "annotations": [
         {
          "align": "left",
          "font": {
           "size": 24
          },
          "showarrow": false,
          "text": "P = 6.20×10<sup>-21</sup>",
          "x": 0.5,
          "xref": "paper",
          "y": 1.1,
          "yref": "paper"
         }
        ],
        "font": {
         "family": "Arial",
         "size": 25
        },
        "height": 600,
        "paper_bgcolor": "white",
        "plot_bgcolor": "white",
        "showlegend": false,
        "template": {
         "data": {
          "bar": [
           {
            "error_x": {
             "color": "#2a3f5f"
            },
            "error_y": {
             "color": "#2a3f5f"
            },
            "marker": {
             "line": {
              "color": "#E5ECF6",
              "width": 0.5
             },
             "pattern": {
              "fillmode": "overlay",
              "size": 10,
              "solidity": 0.2
             }
            },
            "type": "bar"
           }
          ],
          "barpolar": [
           {
            "marker": {
             "line": {
              "color": "#E5ECF6",
              "width": 0.5
             },
             "pattern": {
              "fillmode": "overlay",
              "size": 10,
              "solidity": 0.2
             }
            },
            "type": "barpolar"
           }
          ],
          "carpet": [
           {
            "aaxis": {
             "endlinecolor": "#2a3f5f",
             "gridcolor": "white",
             "linecolor": "white",
             "minorgridcolor": "white",
             "startlinecolor": "#2a3f5f"
            },
            "baxis": {
             "endlinecolor": "#2a3f5f",
             "gridcolor": "white",
             "linecolor": "white",
             "minorgridcolor": "white",
             "startlinecolor": "#2a3f5f"
            },
            "type": "carpet"
           }
          ],
          "choropleth": [
           {
            "colorbar": {
             "outlinewidth": 0,
             "ticks": ""
            },
            "type": "choropleth"
           }
          ],
          "contour": [
           {
            "colorbar": {
             "outlinewidth": 0,
             "ticks": ""
            },
            "colorscale": [
             [
              0,
              "#0d0887"
             ],
             [
              0.1111111111111111,
              "#46039f"
             ],
             [
              0.2222222222222222,
              "#7201a8"
             ],
             [
              0.3333333333333333,
              "#9c179e"
             ],
             [
              0.4444444444444444,
              "#bd3786"
             ],
             [
              0.5555555555555556,
              "#d8576b"
             ],
             [
              0.6666666666666666,
              "#ed7953"
             ],
             [
              0.7777777777777778,
              "#fb9f3a"
             ],
             [
              0.8888888888888888,
              "#fdca26"
             ],
             [
              1,
              "#f0f921"
             ]
            ],
            "type": "contour"
           }
          ],
          "contourcarpet": [
           {
            "colorbar": {
             "outlinewidth": 0,
             "ticks": ""
            },
            "type": "contourcarpet"
           }
          ],
          "heatmap": [
           {
            "colorbar": {
             "outlinewidth": 0,
             "ticks": ""
            },
            "colorscale": [
             [
              0,
              "#0d0887"
             ],
             [
              0.1111111111111111,
              "#46039f"
             ],
             [
              0.2222222222222222,
              "#7201a8"
             ],
             [
              0.3333333333333333,
              "#9c179e"
             ],
             [
              0.4444444444444444,
              "#bd3786"
             ],
             [
              0.5555555555555556,
              "#d8576b"
             ],
             [
              0.6666666666666666,
              "#ed7953"
             ],
             [
              0.7777777777777778,
              "#fb9f3a"
             ],
             [
              0.8888888888888888,
              "#fdca26"
             ],
             [
              1,
              "#f0f921"
             ]
            ],
            "type": "heatmap"
           }
          ],
          "heatmapgl": [
           {
            "colorbar": {
             "outlinewidth": 0,
             "ticks": ""
            },
            "colorscale": [
             [
              0,
              "#0d0887"
             ],
             [
              0.1111111111111111,
              "#46039f"
             ],
             [
              0.2222222222222222,
              "#7201a8"
             ],
             [
              0.3333333333333333,
              "#9c179e"
             ],
             [
              0.4444444444444444,
              "#bd3786"
             ],
             [
              0.5555555555555556,
              "#d8576b"
             ],
             [
              0.6666666666666666,
              "#ed7953"
             ],
             [
              0.7777777777777778,
              "#fb9f3a"
             ],
             [
              0.8888888888888888,
              "#fdca26"
             ],
             [
              1,
              "#f0f921"
             ]
            ],
            "type": "heatmapgl"
           }
          ],
          "histogram": [
           {
            "marker": {
             "pattern": {
              "fillmode": "overlay",
              "size": 10,
              "solidity": 0.2
             }
            },
            "type": "histogram"
           }
          ],
          "histogram2d": [
           {
            "colorbar": {
             "outlinewidth": 0,
             "ticks": ""
            },
            "colorscale": [
             [
              0,
              "#0d0887"
             ],
             [
              0.1111111111111111,
              "#46039f"
             ],
             [
              0.2222222222222222,
              "#7201a8"
             ],
             [
              0.3333333333333333,
              "#9c179e"
             ],
             [
              0.4444444444444444,
              "#bd3786"
             ],
             [
              0.5555555555555556,
              "#d8576b"
             ],
             [
              0.6666666666666666,
              "#ed7953"
             ],
             [
              0.7777777777777778,
              "#fb9f3a"
             ],
             [
              0.8888888888888888,
              "#fdca26"
             ],
             [
              1,
              "#f0f921"
             ]
            ],
            "type": "histogram2d"
           }
          ],
          "histogram2dcontour": [
           {
            "colorbar": {
             "outlinewidth": 0,
             "ticks": ""
            },
            "colorscale": [
             [
              0,
              "#0d0887"
             ],
             [
              0.1111111111111111,
              "#46039f"
             ],
             [
              0.2222222222222222,
              "#7201a8"
             ],
             [
              0.3333333333333333,
              "#9c179e"
             ],
             [
              0.4444444444444444,
              "#bd3786"
             ],
             [
              0.5555555555555556,
              "#d8576b"
             ],
             [
              0.6666666666666666,
              "#ed7953"
             ],
             [
              0.7777777777777778,
              "#fb9f3a"
             ],
             [
              0.8888888888888888,
              "#fdca26"
             ],
             [
              1,
              "#f0f921"
             ]
            ],
            "type": "histogram2dcontour"
           }
          ],
          "mesh3d": [
           {
            "colorbar": {
             "outlinewidth": 0,
             "ticks": ""
            },
            "type": "mesh3d"
           }
          ],
          "parcoords": [
           {
            "line": {
             "colorbar": {
              "outlinewidth": 0,
              "ticks": ""
             }
            },
            "type": "parcoords"
           }
          ],
          "pie": [
           {
            "automargin": true,
            "type": "pie"
           }
          ],
          "scatter": [
           {
            "fillpattern": {
             "fillmode": "overlay",
             "size": 10,
             "solidity": 0.2
            },
            "type": "scatter"
           }
          ],
          "scatter3d": [
           {
            "line": {
             "colorbar": {
              "outlinewidth": 0,
              "ticks": ""
             }
            },
            "marker": {
             "colorbar": {
              "outlinewidth": 0,
              "ticks": ""
             }
            },
            "type": "scatter3d"
           }
          ],
          "scattercarpet": [
           {
            "marker": {
             "colorbar": {
              "outlinewidth": 0,
              "ticks": ""
             }
            },
            "type": "scattercarpet"
           }
          ],
          "scattergeo": [
           {
            "marker": {
             "colorbar": {
              "outlinewidth": 0,
              "ticks": ""
             }
            },
            "type": "scattergeo"
           }
          ],
          "scattergl": [
           {
            "marker": {
             "colorbar": {
              "outlinewidth": 0,
              "ticks": ""
             }
            },
            "type": "scattergl"
           }
          ],
          "scattermapbox": [
           {
            "marker": {
             "colorbar": {
              "outlinewidth": 0,
              "ticks": ""
             }
            },
            "type": "scattermapbox"
           }
          ],
          "scatterpolar": [
           {
            "marker": {
             "colorbar": {
              "outlinewidth": 0,
              "ticks": ""
             }
            },
            "type": "scatterpolar"
           }
          ],
          "scatterpolargl": [
           {
            "marker": {
             "colorbar": {
              "outlinewidth": 0,
              "ticks": ""
             }
            },
            "type": "scatterpolargl"
           }
          ],
          "scatterternary": [
           {
            "marker": {
             "colorbar": {
              "outlinewidth": 0,
              "ticks": ""
             }
            },
            "type": "scatterternary"
           }
          ],
          "surface": [
           {
            "colorbar": {
             "outlinewidth": 0,
             "ticks": ""
            },
            "colorscale": [
             [
              0,
              "#0d0887"
             ],
             [
              0.1111111111111111,
              "#46039f"
             ],
             [
              0.2222222222222222,
              "#7201a8"
             ],
             [
              0.3333333333333333,
              "#9c179e"
             ],
             [
              0.4444444444444444,
              "#bd3786"
             ],
             [
              0.5555555555555556,
              "#d8576b"
             ],
             [
              0.6666666666666666,
              "#ed7953"
             ],
             [
              0.7777777777777778,
              "#fb9f3a"
             ],
             [
              0.8888888888888888,
              "#fdca26"
             ],
             [
              1,
              "#f0f921"
             ]
            ],
            "type": "surface"
           }
          ],
          "table": [
           {
            "cells": {
             "fill": {
              "color": "#EBF0F8"
             },
             "line": {
              "color": "white"
             }
            },
            "header": {
             "fill": {
              "color": "#C8D4E3"
             },
             "line": {
              "color": "white"
             }
            },
            "type": "table"
           }
          ]
         },
         "layout": {
          "annotationdefaults": {
           "arrowcolor": "#2a3f5f",
           "arrowhead": 0,
           "arrowwidth": 1
          },
          "autotypenumbers": "strict",
          "coloraxis": {
           "colorbar": {
            "outlinewidth": 0,
            "ticks": ""
           }
          },
          "colorscale": {
           "diverging": [
            [
             0,
             "#8e0152"
            ],
            [
             0.1,
             "#c51b7d"
            ],
            [
             0.2,
             "#de77ae"
            ],
            [
             0.3,
             "#f1b6da"
            ],
            [
             0.4,
             "#fde0ef"
            ],
            [
             0.5,
             "#f7f7f7"
            ],
            [
             0.6,
             "#e6f5d0"
            ],
            [
             0.7,
             "#b8e186"
            ],
            [
             0.8,
             "#7fbc41"
            ],
            [
             0.9,
             "#4d9221"
            ],
            [
             1,
             "#276419"
            ]
           ],
           "sequential": [
            [
             0,
             "#0d0887"
            ],
            [
             0.1111111111111111,
             "#46039f"
            ],
            [
             0.2222222222222222,
             "#7201a8"
            ],
            [
             0.3333333333333333,
             "#9c179e"
            ],
            [
             0.4444444444444444,
             "#bd3786"
            ],
            [
             0.5555555555555556,
             "#d8576b"
            ],
            [
             0.6666666666666666,
             "#ed7953"
            ],
            [
             0.7777777777777778,
             "#fb9f3a"
            ],
            [
             0.8888888888888888,
             "#fdca26"
            ],
            [
             1,
             "#f0f921"
            ]
           ],
           "sequentialminus": [
            [
             0,
             "#0d0887"
            ],
            [
             0.1111111111111111,
             "#46039f"
            ],
            [
             0.2222222222222222,
             "#7201a8"
            ],
            [
             0.3333333333333333,
             "#9c179e"
            ],
            [
             0.4444444444444444,
             "#bd3786"
            ],
            [
             0.5555555555555556,
             "#d8576b"
            ],
            [
             0.6666666666666666,
             "#ed7953"
            ],
            [
             0.7777777777777778,
             "#fb9f3a"
            ],
            [
             0.8888888888888888,
             "#fdca26"
            ],
            [
             1,
             "#f0f921"
            ]
           ]
          },
          "colorway": [
           "#636efa",
           "#EF553B",
           "#00cc96",
           "#ab63fa",
           "#FFA15A",
           "#19d3f3",
           "#FF6692",
           "#B6E880",
           "#FF97FF",
           "#FECB52"
          ],
          "font": {
           "color": "#2a3f5f"
          },
          "geo": {
           "bgcolor": "white",
           "lakecolor": "white",
           "landcolor": "#E5ECF6",
           "showlakes": true,
           "showland": true,
           "subunitcolor": "white"
          },
          "hoverlabel": {
           "align": "left"
          },
          "hovermode": "closest",
          "mapbox": {
           "style": "light"
          },
          "paper_bgcolor": "white",
          "plot_bgcolor": "#E5ECF6",
          "polar": {
           "angularaxis": {
            "gridcolor": "white",
            "linecolor": "white",
            "ticks": ""
           },
           "bgcolor": "#E5ECF6",
           "radialaxis": {
            "gridcolor": "white",
            "linecolor": "white",
            "ticks": ""
           }
          },
          "scene": {
           "xaxis": {
            "backgroundcolor": "#E5ECF6",
            "gridcolor": "white",
            "gridwidth": 2,
            "linecolor": "white",
            "showbackground": true,
            "ticks": "",
            "zerolinecolor": "white"
           },
           "yaxis": {
            "backgroundcolor": "#E5ECF6",
            "gridcolor": "white",
            "gridwidth": 2,
            "linecolor": "white",
            "showbackground": true,
            "ticks": "",
            "zerolinecolor": "white"
           },
           "zaxis": {
            "backgroundcolor": "#E5ECF6",
            "gridcolor": "white",
            "gridwidth": 2,
            "linecolor": "white",
            "showbackground": true,
            "ticks": "",
            "zerolinecolor": "white"
           }
          },
          "shapedefaults": {
           "line": {
            "color": "#2a3f5f"
           }
          },
          "ternary": {
           "aaxis": {
            "gridcolor": "white",
            "linecolor": "white",
            "ticks": ""
           },
           "baxis": {
            "gridcolor": "white",
            "linecolor": "white",
            "ticks": ""
           },
           "bgcolor": "#E5ECF6",
           "caxis": {
            "gridcolor": "white",
            "linecolor": "white",
            "ticks": ""
           }
          },
          "title": {
           "x": 0.05
          },
          "xaxis": {
           "automargin": true,
           "gridcolor": "white",
           "linecolor": "white",
           "ticks": "",
           "title": {
            "standoff": 15
           },
           "zerolinecolor": "white",
           "zerolinewidth": 2
          },
          "yaxis": {
           "automargin": true,
           "gridcolor": "white",
           "linecolor": "white",
           "ticks": "",
           "title": {
            "standoff": 15
           },
           "zerolinecolor": "white",
           "zerolinewidth": 2
          }
         }
        },
        "title": {
         "text": ""
        },
        "width": 400,
        "xaxis": {
         "showgrid": true
        },
        "yaxis": {
         "gridcolor": "black",
         "gridwidth": 1,
         "showgrid": true,
         "title": {
          "font": {
           "family": "Arial",
           "size": 20
          },
          "text": "Mean Hamming distance<br>to true CN profile - MRCA clones"
         },
         "zeroline": true,
         "zerolinecolor": "black",
         "zerolinewidth": 1
        }
       }
      }
     },
     "metadata": {},
     "output_type": "display_data"
    }
   ],
   "source": [
    "mrca_distance_results.rename(columns={'alpaca_score':'alpaca','MEDICC2':'hatchet'},inplace=True)\n",
    "fig_M, results = make_error_comparison_plot(\n",
    "    cohort_results=mrca_distance_results,\n",
    "    palette_path=palette_path,\n",
    "    y_axis_title='Mean Hamming distance<br>to true CN profile - MRCA clones',\n",
    "    w=w,\n",
    "    h=h,\n",
    "    font_size=lables_font_size)\n",
    "# rename traces:\n",
    "fig_M.update_traces(name=\"HATCHet2<br>+<br>MEDICC2\", selector=dict(name=\"HATCHet\"))\n",
    "fig_M.write_image(f'../../figures/Fig1d_hamming_comparison_boxplot_alpaca_vs_hatchet_MRCA.pdf', width=w, height=h,scale=scale)\n",
    "fig_M.show()\n"
   ]
  },
  {
   "cell_type": "code",
   "execution_count": null,
   "metadata": {},
   "outputs": [
    {
     "name": "stdout",
     "output_type": "stream",
     "text": [
      "Test: wilcoxon\n",
      "Test: wilcoxon\n"
     ]
    }
   ],
   "source": [
    "# HATCHET2+MEDICC2 vs ALPACA on exome\n",
    "\n",
    "from functions import set_mount_point,compare_copynumber_profiles,cast_MEDICC_to_ALPACA,get_proportions_whole_tumour\n",
    "from metrics_functions import get_distance_metrics,get_comparison_dfs\n",
    "from consensus_segmentation import add_abs_coordinates,find_consensus_segmentation,convert_absolute_to_relative\n",
    "import warnings\n",
    "warnings.filterwarnings(\"ignore\")\n",
    "import matplotlib as mpl\n",
    "mpl.rcParams['pdf.fonttype'] = 42\n",
    "from plotting_functions import get_colourmap\n",
    "from plotting_functions import make_error_comparison_plot\n",
    "palette_path = f'../../_assets/publication_palette.json'\n",
    "\n",
    "def make_sample_heatmap(df,title,figsize=(20,8),max_val=8,segment=None,yticklabels=True,metric='jaccard',method=\"ward\", ):\n",
    "    df.index = df.index.str.pad(20, side='right', fillchar=' ')\n",
    "    loss_gain_cmap = get_colourmap(max_val,testing=False)\n",
    "    plot_out = sns.clustermap(df, metric=metric, method=method, figsize=figsize, yticklabels=yticklabels, xticklabels=False, cmap=loss_gain_cmap, col_cluster=False,row_cluster=True,vmin=0, vmax=12,cbar_pos=None)\n",
    "    plot_out.fig.suptitle(title, fontsize=16)\n",
    "    ax = plot_out.ax_heatmap\n",
    "\n",
    "    columns = df.columns\n",
    "    chrom_starts = [0]\n",
    "    current_chrom = columns[0][0]\n",
    "    for i, col in enumerate(columns):\n",
    "        if col[0] != current_chrom:\n",
    "            chrom_starts.append(i)\n",
    "            current_chrom = col[0]\n",
    "    for pos in chrom_starts:\n",
    "        ax.axvline(x=pos, color='black', linestyle='--')\n",
    "        # add annotation for chromosome:\n",
    "        ax.text(pos+10, -1, f'chr{columns[pos][0]}', fontsize=14, ha='center', va='center', color='black', rotation=45)\n",
    "    return plot_out\n",
    "\n",
    "\n",
    "\n",
    "cohort='sprinter_tx_bulk'\n",
    "run_name='default'\n",
    "overwrite = False\n",
    "mount_point_working, mount_point_nemo = set_mount_point()\n",
    "sprinter_output = f'../../_assets/benchmarking/exome/sprinter_output/'\n",
    "alpaca_input_dir = f'../../_assets/benchmarking/exome/alpaca/input'\n",
    "alpaca_output_dir = f'../../_assets/benchmarking/exome/alpaca/output'\n",
    "single_cell_copynumbers = f'../../_assets/benchmarking/exome/ref/copynumbers_all_samples.csv'\n",
    "single_cell_clone_proportions = f'../../_assets/benchmarking/exome/ref/clone_proportions_true.csv'\n",
    "processed_files_path = f'/Users/piotrpawlik/Documents/GitHub/ALPACA-paper/_assets/benchmarking/SC/data'\n",
    "chr_table_path = f'../../_assets/chr_len.csv'\n",
    "medicc_dir = f'{sprinter_output}/medicc'\n",
    "tumour_id = 'CRUK0516-tumour1'\n",
    "\n",
    "all_tumour_results = []\n",
    "cases_missing_medicc = []\n",
    "results_dict = {}\n",
    "ALPACA_input = pd.read_csv(f'{alpaca_input_dir}/{tumour_id}/ALPACA_input_table.csv')\n",
    "ALPACA_output = pd.read_csv(f'{alpaca_output_dir}/patient_outputs/{tumour_id}/final_{tumour_id}.csv').drop_duplicates()\n",
    "ALPACA_output = ALPACA_output[ALPACA_output.clone!='diploid'][['clone', 'pred_CN_A', 'pred_CN_B', 'tumour_id', 'segment']]\n",
    "ALPACA_output['chr'] = 'chr' + ALPACA_output['segment'].str.split('_').str[0].astype(str)\n",
    "ALPACA_output['start'] = ALPACA_output['segment'].str.split('_').str[1].astype(int)\n",
    "ALPACA_output['end'] = ALPACA_output['segment'].str.split('_').str[2].astype(int)\n",
    "ALPACA_cp_table = pd.read_csv(f'{alpaca_input_dir}/{tumour_id}/cp_table.csv')\n",
    "# Use medicc output instead:\n",
    "comparator_name = 'MEDICC2'\n",
    "MEDICC_output_raw_path = f'{medicc_dir}/{tumour_id}_final_cn_profiles.tsv'\n",
    "MEDICC_output_raw = pd.read_table(MEDICC_output_raw_path)\n",
    "COMPARATOR_output = cast_MEDICC_to_ALPACA(MEDICC_output_raw)\n",
    "COMPARATOR_output = COMPARATOR_output[COMPARATOR_output['clone']!='diploid']\n",
    "COMPARATOR_output['chr'] = 'chr'+COMPARATOR_output['segment'].str.split('_').str[0].astype(str)\n",
    "COMPARATOR_output.rename(columns={'bin_start':'start','bin_end':'end'}, inplace=True)\n",
    "TRUE_copynumbers = pd.read_csv(single_cell_copynumbers)\n",
    "TRUE_copynumbers.rename(columns={'chrom':'chr','CLONE':'clone','cn':'pred_CN_total'}, inplace=True)\n",
    "TRUE_copynumbers['chr'] = 'chr'+TRUE_copynumbers['segment'].str.split('_').str[0].astype(str)\n",
    "# convert positions to absolute positions:\n",
    "ALPACA_output_abs = add_abs_coordinates(ALPACA_output,chr_table_path)\n",
    "COMPARATOR_output_abs = add_abs_coordinates(COMPARATOR_output,chr_table_path)\n",
    "TRUE_copynumbers_abs = add_abs_coordinates(TRUE_copynumbers,chr_table_path)\n",
    "list_of_dfs = [ALPACA_output_abs,COMPARATOR_output_abs,TRUE_copynumbers_abs]\n",
    "consensus_segmentation = find_consensus_segmentation(list_of_dfs)\n",
    "ALPACA_output = convert_absolute_to_relative(consensus_segmentation[0],chr_table_path)\n",
    "COMPARATOR_output = convert_absolute_to_relative(consensus_segmentation[1],chr_table_path)\n",
    "TRUE_copynumbers = convert_absolute_to_relative(consensus_segmentation[2],chr_table_path)\n",
    "# use total cn:\n",
    "COMPARATOR_output['pred_CN_total'] = COMPARATOR_output['pred_CN_A'] + COMPARATOR_output['pred_CN_B']\n",
    "ALPACA_output['pred_CN_total'] = ALPACA_output['pred_CN_A'] + ALPACA_output['pred_CN_B']\n",
    "# remove segments not overlapping between WES and WGS:\n",
    "common_segments = set.intersection(set(COMPARATOR_output['segment']), set(ALPACA_output['segment']), set(TRUE_copynumbers['segment']))\n",
    "TRUE_copynumbers = TRUE_copynumbers[TRUE_copynumbers['segment'].isin(common_segments)]\n",
    "ALPACA_output = ALPACA_output[ALPACA_output['segment'].isin(common_segments)]\n",
    "COMPARATOR_output = COMPARATOR_output[COMPARATOR_output['segment'].isin(common_segments)]\n",
    "alpaca_df = compare_copynumber_profiles(TRUE_copynumbers,ALPACA_output,metric='hamming',copy_number_columns=['pred_CN_total'])\n",
    "comparator_df = compare_copynumber_profiles(TRUE_copynumbers,COMPARATOR_output,metric='hamming',copy_number_columns=['pred_CN_total'])\n",
    "alpaca_score = alpaca_df['closest_clone_distance']\n",
    "comparator_score = comparator_df['closest_clone_distance']\n",
    "matching_distance_results = pd.DataFrame({'alpaca_score':alpaca_score,'comparator_score':comparator_score})\n",
    "matching_distance_results[['alpaca_score','comparator_score']] = matching_distance_results[[ 'alpaca_score','comparator_score']].astype(float)\n",
    "# matching_distance_results.to_csv(processed_output_name, index=False)\n",
    "clone_index  = [x for x in TRUE_copynumbers.clone.unique()]\n",
    "matching_distance_results['clone_index'] = clone_index\n",
    "verbose = False\n",
    "all_results=[]\n",
    "TRUE_proportions = get_proportions_whole_tumour(pd.read_csv(single_cell_clone_proportions))\n",
    "# get H2/M2 proportions:\n",
    "medicc_proportions_path = f'{medicc_dir}/{tumour_id}_cloneprops.tsv'\n",
    "M2_props = pd.read_csv(medicc_proportions_path,sep='\\t')\n",
    "M2_props.rename(columns={'CLONE':'clone'}, inplace=True)\n",
    "M2_props = M2_props.pivot(index='clone',columns='SAMPLE',values='PROPORTION').reset_index()\n",
    "M2_props = M2_props.fillna(0)\n",
    "M2_proportions = get_proportions_whole_tumour(M2_props)\n",
    "# normalise to account for normal contamination:\n",
    "M2_proportions['proportion'] = M2_proportions['proportion']/M2_proportions['proportion'].sum()\n",
    "\n",
    "CONIPHER_proportions = get_proportions_whole_tumour(pd.read_csv(f'{alpaca_input_dir}/{tumour_id}/cp_table.csv'))\n",
    "results_tumour = []\n",
    "for segment in TRUE_copynumbers.consensus_segment.unique():\n",
    "    true_copynumbers_seg = TRUE_copynumbers.query('consensus_segment == @segment')\n",
    "    alpaca_segment = ALPACA_output.query('consensus_segment == @segment')\n",
    "    hatchet_segment = COMPARATOR_output.query('consensus_segment == @segment')\n",
    "    #calculate scores for alpaca\n",
    "    comparison_df_alpaca = get_comparison_dfs(true_copynumbers_seg,TRUE_proportions,alpaca_segment,CONIPHER_proportions,copy_number_columns=['pred_CN_total'])\n",
    "    output_df_alpaca = get_distance_metrics(comparison_df_alpaca,comparison_df_alpaca,tumour_id,segment)\n",
    "    output_df_alpaca['model'] = 'ALPACA'\n",
    "    #calculate scores for hatchet\n",
    "    comparison_df_hatchet = get_comparison_dfs(true_copynumbers_seg,TRUE_proportions,hatchet_segment,M2_proportions,copy_number_columns=['pred_CN_total'])\n",
    "    output_df_hatchet = get_distance_metrics(comparison_df_hatchet,comparison_df_hatchet,tumour_id,segment)\n",
    "    output_df_hatchet['model'] = 'HATCHET'\n",
    "    output_df = pd.concat([output_df_alpaca,output_df_hatchet])\n",
    "    results_tumour.append(output_df)\n",
    "distance_results = pd.concat(results_tumour)\n",
    "\n",
    "matching_distance_results.rename(columns={'alpaca_score':'alpaca','comparator_score':'hatchet'},inplace=True)\n",
    "matching_distance_results[['alpaca','hatchet']] = matching_distance_results[['alpaca','hatchet']].astype(float)\n",
    "h=600\n",
    "w=400\n",
    "lables_font_size=25\n",
    "annotation_font_size=12\n",
    "scale=1\n",
    "fig_H, results = make_error_comparison_plot(\n",
    "    cohort_results=matching_distance_results,\n",
    "    palette_path=palette_path,\n",
    "    y_axis_title='Mean Hamming distance<br>to matching true CN profile',\n",
    "    w=w,\n",
    "    h=h,\n",
    "    font_size=lables_font_size,orientation='v')\n",
    "# rename traces:\n",
    "fig_H.update_traces(name=\"HATCHet2<br>+<br>MEDDIC2\", selector=dict(name=\"HATCHet\"))\n",
    "fig_H.write_image(f'../../figures/Fig1e_matching_comparison_boxplot_alpaca_vs_hatchet.pdf', width=w, height=h,scale=scale)\n",
    "\n",
    "distance_results.reset_index(inplace=True,drop=True)\n",
    "distance_results_transformed_wide = distance_results.pivot(index='segment',columns='model',values='total_var_dist_mean').reset_index()\n",
    "distance_results_transformed_wide.rename(columns={'ALPACA':'alpaca','HATCHET':'hatchet'},inplace=True)\n",
    "distance_results_transformed_wide\n",
    "fig_T, results = make_error_comparison_plot(cohort_results=distance_results_transformed_wide,palette_path=palette_path,\n",
    "                                            y_axis_title='Mean Total Variation Distance<br>to true CN solution',\n",
    "                                            w=w,\n",
    "                                            h=h,\n",
    "                                            font_size=lables_font_size,\n",
    "                                            orientation='v')\n",
    "fig_T.update_traces(name=\"HATCHet2<br>+<br>MEDDIC2\", selector=dict(name=\"HATCHet\"))\n",
    "distance_results_transformed_wide = distance_results_transformed_wide[['alpaca','hatchet']].drop_duplicates()\n",
    "fig_T.write_image(f'../../figures/Fig1e_matching_comparison_boxplot.pdf', width=w, height=h,scale=scale)"
   ]
  },
  {
   "cell_type": "code",
   "execution_count": 40,
   "metadata": {},
   "outputs": [],
   "source": [
    "TRUE_copynumbers_plot = TRUE_copynumbers.copy()\n",
    "TRUE_copynumbers_plot['chrom'] = TRUE_copynumbers_plot.chr.str.replace('chr','').astype(int)\n",
    "TRUE_copynumbers_plot = TRUE_copynumbers_plot.sort_values(['chrom','start'])\n",
    "TRUE_copynumbers_plot_pivot = TRUE_copynumbers_plot[['clone','chrom','start','pred_CN_total']].pivot_table(index='clone', columns=['chrom', 'start'], values='pred_CN_total')\n",
    "\n",
    "ALPACA_output_plot = ALPACA_output.copy()\n",
    "ALPACA_output_plot['chrom'] = ALPACA_output_plot.chr.str.replace('chr','').astype(int)\n",
    "ALPACA_output_plot = ALPACA_output_plot.sort_values(['chrom','start'])\n",
    "ALPACA_output_plot_pivot = ALPACA_output_plot[['clone','chrom','start','pred_CN_total']].pivot_table(index='clone', columns=['chrom', 'start'], values='pred_CN_total')\n",
    "\n",
    "COMPARATOR_output_plot = COMPARATOR_output.copy()\n",
    "COMPARATOR_output_plot['chrom'] = COMPARATOR_output_plot.chr.str.replace('chr','').astype(int)\n",
    "COMPARATOR_output_plot = COMPARATOR_output_plot.sort_values(['chrom','start'])\n",
    "COMPARATOR_output_plot_pivot = COMPARATOR_output_plot[['clone','chrom','start','pred_CN_total']].pivot_table(index='clone', columns=['chrom', 'start'], values='pred_CN_total')\n",
    "\n",
    "max_cn = int(max([TRUE_copynumbers_plot_pivot.max().max(),ALPACA_output_plot_pivot.max().max(),COMPARATOR_output_plot_pivot.max().max()]))\n",
    "min_cn = int(min([TRUE_copynumbers_plot_pivot.min().min(),ALPACA_output_plot_pivot.min().min(),COMPARATOR_output_plot_pivot.min().min()]))"
   ]
  },
  {
   "cell_type": "code",
   "execution_count": 41,
   "metadata": {},
   "outputs": [
    {
     "data": {
      "image/png": "[encoded data removed]",
      "text/plain": [
       "<Figure size 2000x400 with 3 Axes>"
      ]
     },
     "metadata": {},
     "output_type": "display_data"
    }
   ],
   "source": [
    "single_cell_clustermap = make_sample_heatmap(df=TRUE_copynumbers_plot_pivot,title='single cell WGS',figsize=(20,4),max_val=max_cn,segment=None,yticklabels=False,metric='euclidean')"
   ]
  },
  {
   "cell_type": "code",
   "execution_count": 42,
   "metadata": {},
   "outputs": [
    {
     "data": {
      "image/png": "[encoded data removed]",
      "text/plain": [
       "<Figure size 2000x400 with 3 Axes>"
      ]
     },
     "metadata": {},
     "output_type": "display_data"
    }
   ],
   "source": [
    "alpaca_clustermap = make_sample_heatmap(df=ALPACA_output_plot_pivot,title='ALPACA exome',figsize=(20,4),max_val=max_cn,segment=None,yticklabels=False,metric='euclidean')"
   ]
  },
  {
   "cell_type": "code",
   "execution_count": 43,
   "metadata": {},
   "outputs": [
    {
     "data": {
      "image/png": "[encoded data removed]",
      "text/plain": [
       "<Figure size 2000x400 with 3 Axes>"
      ]
     },
     "metadata": {},
     "output_type": "display_data"
    }
   ],
   "source": [
    "hatchet_clustermap = make_sample_heatmap(df=COMPARATOR_output_plot_pivot,title='HATCHET exome',figsize=(20,4),max_val=max_cn,segment=None,yticklabels=False,metric='euclidean')"
   ]
  },
  {
   "cell_type": "code",
   "execution_count": null,
   "metadata": {},
   "outputs": [],
   "source": [
    "heatmap_dir = '../../figures'\n",
    "hatchet_clustermap.savefig(f'{heatmap_dir}/Fig1f_clustermap_hatchet.pdf', bbox_inches='tight', format=\"pdf\")\n",
    "single_cell_clustermap.savefig(f'{heatmap_dir}/Fig1f_clustermap_single_cell.pdf', bbox_inches='tight', format=\"pdf\")\n",
    "alpaca_clustermap.savefig(f'{heatmap_dir}/Fig1f_clustermap_alpaca.pdf', bbox_inches='tight', format=\"pdf\")"
   ]
  },
  {
   "cell_type": "code",
   "execution_count": null,
   "metadata": {
    "ExecuteTime": {
     "end_time": "2024-04-21T15:59:55.555252Z",
     "start_time": "2024-04-21T15:59:55.172491Z"
    }
   },
   "outputs": [],
   "source": [
    "#Figure 1: Single cell example case\n",
    "fig_attr = {'font_size' : 15,\n",
    "            'wgd_annotation_font_size' : 12,\n",
    "            'pred_true_font_size' : 7,\n",
    "            'chromosome_labels_font_size' : 7,\n",
    "            'region_number_font_size' : 6,\n",
    "            'colorbar_font_size' : 7,\n",
    "            'annotation_font_size' : 11,\n",
    "            'width_mm' : 260,\n",
    "            'height_mm' : 66,\n",
    "            'legend_y_offset':-0.4,\n",
    "            'cbar_y_offset':-0.05,\n",
    "            'bottom_margin':45,\n",
    "            'clone_prop_annotation_legend_x':0.85,\n",
    "            'clone_prop_annotation_legend_y':-0.34,\n",
    "            'seg_solved_legend_x':1,\n",
    "            'seg_solved_legend_y':-0.2,\n",
    "            'incorrectly_legend_x':0.99,\n",
    "            'incorrectly_legend_y':-0.3,\n",
    "            'correctly_legend_x':1,\n",
    "            'correctly_legend_y':-0.5,}\n",
    "\n",
    "import SC_make_example_case_heatmaps\n",
    "selected_tumours = ['S0noise0.1']\n",
    "input_data_directory = f'{output_directory}/output/single_cell/single_cell_default'\n",
    "cohort_results_file = f'{output_directory}/output/single_cell/single_cell_default/cohort_outputs/combined.csv'\n",
    "chr_table_file = f'{output_directory}/_assets/chr_len.csv'\n",
    "wgd_calls = f'{output_directory}/output/single_cell/single_cell_default/cohort_outputs/wgd_calls.csv'\n",
    "wgd_calls = pd.read_csv(wgd_calls)\n",
    "cohort_results = pd.read_csv(cohort_results_file)\n",
    "\n",
    "for tumour_id in selected_tumours:\n",
    "    tumour_input_directory = f'{input_data_directory}/patient_outputs'\n",
    "    true = SC_make_example_case_heatmaps.true_unify_format(pd.read_csv(f'{tumour_input_directory}/copynumbers.csv'))\n",
    "    tumour_wgd_calls = wgd_calls[wgd_calls.tumour_id == tumour_id]  \n",
    "    wgd_clones = list(wgd_calls[wgd_calls.GD > 0].clones)\n",
    "    alpaca_output = cohort_results[cohort_results.tumour_id==tumour_id]\n",
    "    alpaca_output = alpaca_output[alpaca_output.clone.isin(['trunk', 'JII', 'JIII', 'JIV'])]\n",
    "    heatmap_A = SC_make_example_case_heatmaps.plot_heatmap_with_tree_compare_with_true_solution_publication(alpaca_output=alpaca_output,input_data_directory=tumour_input_directory, chr_table_file=chr_table_file,wgd_clones=wgd_clones, max_cpn_cap=8, allele='A', true_solution_df=true, plot_comparison=True, sort_alleles=False,figure_attributes=fig_attr,clones_to_skip=['trunk'])\n",
    "    heatmap_A.fig.write_image(f'{output_directory}/figures/Fig1g_single_cell_{tumour_id}_A_example_heatmap.pdf')\n",
    "    heatmap_B = SC_make_example_case_heatmaps.plot_heatmap_with_tree_compare_with_true_solution_publication(alpaca_output=alpaca_output,input_data_directory=tumour_input_directory, chr_table_file=chr_table_file,wgd_clones=wgd_clones, max_cpn_cap=8, allele='B', true_solution_df=true, plot_comparison=True, sort_alleles=False,figure_attributes=fig_attr,clones_to_skip=['trunk'])\n",
    "    heatmap_B.fig.write_image(f'{output_directory}/figures/Fig1g_single_cell_{tumour_id}_B_example_heatmap.pdf')"
   ]
  },
  {
   "cell_type": "code",
   "execution_count": null,
   "metadata": {},
   "outputs": [
    {
     "data": {
      "application/vnd.plotly.v1+json": {
       "config": {
        "plotlyServerURL": "https://plot.ly"
       },
       "data": [
        {
         "arrangement": "snap",
         "link": {
          "color": [
           "rgba(31, 120, 180, 0.5)",
           "rgba(31, 120, 180, 0.5)",
           "rgba(31, 120, 180, 0.5)",
           "rgba(31, 120, 180, 0.5)",
           "rgba(31, 120, 180, 0.5)",
           "rgba(168, 168, 168, 0.5)",
           "rgba(168, 168, 168, 0.5)",
           "rgba(168, 168, 168, 0.5)",
           "rgba(168, 168, 168, 0.5)",
           "rgba(168, 168, 168, 0.5)",
           "rgba(178, 223, 138, 0.5)",
           "rgba(178, 223, 138, 0.5)",
           "rgba(178, 223, 138, 0.5)",
           "rgba(178, 223, 138, 0.5)",
           "rgba(178, 223, 138, 0.5)",
           "rgba(251, 154, 153, 0.5)",
           "rgba(251, 154, 153, 0.5)",
           "rgba(251, 154, 153, 0.5)",
           "rgba(251, 154, 153, 0.5)",
           "rgba(251, 154, 153, 0.5)",
           "rgba(227, 26, 28, 0.5)",
           "rgba(227, 26, 28, 0.5)",
           "rgba(227, 26, 28, 0.5)",
           "rgba(227, 26, 28, 0.5)",
           "rgba(227, 26, 28, 0.5)"
          ],
          "source": [
           0,
           0,
           0,
           0,
           0,
           1,
           1,
           1,
           1,
           1,
           2,
           2,
           2,
           2,
           2,
           3,
           3,
           3,
           3,
           3,
           4,
           4,
           4,
           4,
           4
          ],
          "target": [
           5,
           6,
           7,
           8,
           9,
           5,
           6,
           7,
           8,
           9,
           5,
           6,
           7,
           8,
           9,
           5,
           6,
           7,
           8,
           9,
           5,
           6,
           7,
           8,
           9
          ],
          "value": [
           35,
           0,
           0,
           0,
           0,
           0,
           91,
           3,
           1,
           0,
           0,
           6,
           360,
           0,
           0,
           0,
           2,
           2,
           18,
           0,
           0,
           0,
           0,
           0,
           4
          ]
         },
         "node": {
          "color": "white",
          "label": [
           "",
           "",
           "",
           "",
           "",
           "",
           "",
           "",
           "",
           ""
          ],
          "line": {
           "color": "black",
           "width": 1
          },
          "pad": 20,
          "thickness": 60,
          "x": [
           0,
           0,
           0,
           0,
           0,
           1,
           1,
           1,
           1,
           1
          ],
          "y": [
           0,
           0.2,
           0.4,
           0.6000000000000001,
           0.8,
           0,
           0.2,
           0.4,
           0.6000000000000001,
           0.8
          ]
         },
         "type": "sankey"
        }
       ],
       "layout": {
        "font": {
         "family": "helvetica",
         "size": 28
        },
        "height": 1000,
        "template": {
         "data": {
          "bar": [
           {
            "error_x": {
             "color": "#2a3f5f"
            },
            "error_y": {
             "color": "#2a3f5f"
            },
            "marker": {
             "line": {
              "color": "#E5ECF6",
              "width": 0.5
             },
             "pattern": {
              "fillmode": "overlay",
              "size": 10,
              "solidity": 0.2
             }
            },
            "type": "bar"
           }
          ],
          "barpolar": [
           {
            "marker": {
             "line": {
              "color": "#E5ECF6",
              "width": 0.5
             },
             "pattern": {
              "fillmode": "overlay",
              "size": 10,
              "solidity": 0.2
             }
            },
            "type": "barpolar"
           }
          ],
          "carpet": [
           {
            "aaxis": {
             "endlinecolor": "#2a3f5f",
             "gridcolor": "white",
             "linecolor": "white",
             "minorgridcolor": "white",
             "startlinecolor": "#2a3f5f"
            },
            "baxis": {
             "endlinecolor": "#2a3f5f",
             "gridcolor": "white",
             "linecolor": "white",
             "minorgridcolor": "white",
             "startlinecolor": "#2a3f5f"
            },
            "type": "carpet"
           }
          ],
          "choropleth": [
           {
            "colorbar": {
             "outlinewidth": 0,
             "ticks": ""
            },
            "type": "choropleth"
           }
          ],
          "contour": [
           {
            "colorbar": {
             "outlinewidth": 0,
             "ticks": ""
            },
            "colorscale": [
             [
              0,
              "#0d0887"
             ],
             [
              0.1111111111111111,
              "#46039f"
             ],
             [
              0.2222222222222222,
              "#7201a8"
             ],
             [
              0.3333333333333333,
              "#9c179e"
             ],
             [
              0.4444444444444444,
              "#bd3786"
             ],
             [
              0.5555555555555556,
              "#d8576b"
             ],
             [
              0.6666666666666666,
              "#ed7953"
             ],
             [
              0.7777777777777778,
              "#fb9f3a"
             ],
             [
              0.8888888888888888,
              "#fdca26"
             ],
             [
              1,
              "#f0f921"
             ]
            ],
            "type": "contour"
           }
          ],
          "contourcarpet": [
           {
            "colorbar": {
             "outlinewidth": 0,
             "ticks": ""
            },
            "type": "contourcarpet"
           }
          ],
          "heatmap": [
           {
            "colorbar": {
             "outlinewidth": 0,
             "ticks": ""
            },
            "colorscale": [
             [
              0,
              "#0d0887"
             ],
             [
              0.1111111111111111,
              "#46039f"
             ],
             [
              0.2222222222222222,
              "#7201a8"
             ],
             [
              0.3333333333333333,
              "#9c179e"
             ],
             [
              0.4444444444444444,
              "#bd3786"
             ],
             [
              0.5555555555555556,
              "#d8576b"
             ],
             [
              0.6666666666666666,
              "#ed7953"
             ],
             [
              0.7777777777777778,
              "#fb9f3a"
             ],
             [
              0.8888888888888888,
              "#fdca26"
             ],
             [
              1,
              "#f0f921"
             ]
            ],
            "type": "heatmap"
           }
          ],
          "heatmapgl": [
           {
            "colorbar": {
             "outlinewidth": 0,
             "ticks": ""
            },
            "colorscale": [
             [
              0,
              "#0d0887"
             ],
             [
              0.1111111111111111,
              "#46039f"
             ],
             [
              0.2222222222222222,
              "#7201a8"
             ],
             [
              0.3333333333333333,
              "#9c179e"
             ],
             [
              0.4444444444444444,
              "#bd3786"
             ],
             [
              0.5555555555555556,
              "#d8576b"
             ],
             [
              0.6666666666666666,
              "#ed7953"
             ],
             [
              0.7777777777777778,
              "#fb9f3a"
             ],
             [
              0.8888888888888888,
              "#fdca26"
             ],
             [
              1,
              "#f0f921"
             ]
            ],
            "type": "heatmapgl"
           }
          ],
          "histogram": [
           {
            "marker": {
             "pattern": {
              "fillmode": "overlay",
              "size": 10,
              "solidity": 0.2
             }
            },
            "type": "histogram"
           }
          ],
          "histogram2d": [
           {
            "colorbar": {
             "outlinewidth": 0,
             "ticks": ""
            },
            "colorscale": [
             [
              0,
              "#0d0887"
             ],
             [
              0.1111111111111111,
              "#46039f"
             ],
             [
              0.2222222222222222,
              "#7201a8"
             ],
             [
              0.3333333333333333,
              "#9c179e"
             ],
             [
              0.4444444444444444,
              "#bd3786"
             ],
             [
              0.5555555555555556,
              "#d8576b"
             ],
             [
              0.6666666666666666,
              "#ed7953"
             ],
             [
              0.7777777777777778,
              "#fb9f3a"
             ],
             [
              0.8888888888888888,
              "#fdca26"
             ],
             [
              1,
              "#f0f921"
             ]
            ],
            "type": "histogram2d"
           }
          ],
          "histogram2dcontour": [
           {
            "colorbar": {
             "outlinewidth": 0,
             "ticks": ""
            },
            "colorscale": [
             [
              0,
              "#0d0887"
             ],
             [
              0.1111111111111111,
              "#46039f"
             ],
             [
              0.2222222222222222,
              "#7201a8"
             ],
             [
              0.3333333333333333,
              "#9c179e"
             ],
             [
              0.4444444444444444,
              "#bd3786"
             ],
             [
              0.5555555555555556,
              "#d8576b"
             ],
             [
              0.6666666666666666,
              "#ed7953"
             ],
             [
              0.7777777777777778,
              "#fb9f3a"
             ],
             [
              0.8888888888888888,
              "#fdca26"
             ],
             [
              1,
              "#f0f921"
             ]
            ],
            "type": "histogram2dcontour"
           }
          ],
          "mesh3d": [
           {
            "colorbar": {
             "outlinewidth": 0,
             "ticks": ""
            },
            "type": "mesh3d"
           }
          ],
          "parcoords": [
           {
            "line": {
             "colorbar": {
              "outlinewidth": 0,
              "ticks": ""
             }
            },
            "type": "parcoords"
           }
          ],
          "pie": [
           {
            "automargin": true,
            "type": "pie"
           }
          ],
          "scatter": [
           {
            "fillpattern": {
             "fillmode": "overlay",
             "size": 10,
             "solidity": 0.2
            },
            "type": "scatter"
           }
          ],
          "scatter3d": [
           {
            "line": {
             "colorbar": {
              "outlinewidth": 0,
              "ticks": ""
             }
            },
            "marker": {
             "colorbar": {
              "outlinewidth": 0,
              "ticks": ""
             }
            },
            "type": "scatter3d"
           }
          ],
          "scattercarpet": [
           {
            "marker": {
             "colorbar": {
              "outlinewidth": 0,
              "ticks": ""
             }
            },
            "type": "scattercarpet"
           }
          ],
          "scattergeo": [
           {
            "marker": {
             "colorbar": {
              "outlinewidth": 0,
              "ticks": ""
             }
            },
            "type": "scattergeo"
           }
          ],
          "scattergl": [
           {
            "marker": {
             "colorbar": {
              "outlinewidth": 0,
              "ticks": ""
             }
            },
            "type": "scattergl"
           }
          ],
          "scattermapbox": [
           {
            "marker": {
             "colorbar": {
              "outlinewidth": 0,
              "ticks": ""
             }
            },
            "type": "scattermapbox"
           }
          ],
          "scatterpolar": [
           {
            "marker": {
             "colorbar": {
              "outlinewidth": 0,
              "ticks": ""
             }
            },
            "type": "scatterpolar"
           }
          ],
          "scatterpolargl": [
           {
            "marker": {
             "colorbar": {
              "outlinewidth": 0,
              "ticks": ""
             }
            },
            "type": "scatterpolargl"
           }
          ],
          "scatterternary": [
           {
            "marker": {
             "colorbar": {
              "outlinewidth": 0,
              "ticks": ""
             }
            },
            "type": "scatterternary"
           }
          ],
          "surface": [
           {
            "colorbar": {
             "outlinewidth": 0,
             "ticks": ""
            },
            "colorscale": [
             [
              0,
              "#0d0887"
             ],
             [
              0.1111111111111111,
              "#46039f"
             ],
             [
              0.2222222222222222,
              "#7201a8"
             ],
             [
              0.3333333333333333,
              "#9c179e"
             ],
             [
              0.4444444444444444,
              "#bd3786"
             ],
             [
              0.5555555555555556,
              "#d8576b"
             ],
             [
              0.6666666666666666,
              "#ed7953"
             ],
             [
              0.7777777777777778,
              "#fb9f3a"
             ],
             [
              0.8888888888888888,
              "#fdca26"
             ],
             [
              1,
              "#f0f921"
             ]
            ],
            "type": "surface"
           }
          ],
          "table": [
           {
            "cells": {
             "fill": {
              "color": "#EBF0F8"
             },
             "line": {
              "color": "white"
             }
            },
            "header": {
             "fill": {
              "color": "#C8D4E3"
             },
             "line": {
              "color": "white"
             }
            },
            "type": "table"
           }
          ]
         },
         "layout": {
          "annotationdefaults": {
           "arrowcolor": "#2a3f5f",
           "arrowhead": 0,
           "arrowwidth": 1
          },
          "autotypenumbers": "strict",
          "coloraxis": {
           "colorbar": {
            "outlinewidth": 0,
            "ticks": ""
           }
          },
          "colorscale": {
           "diverging": [
            [
             0,
             "#8e0152"
            ],
            [
             0.1,
             "#c51b7d"
            ],
            [
             0.2,
             "#de77ae"
            ],
            [
             0.3,
             "#f1b6da"
            ],
            [
             0.4,
             "#fde0ef"
            ],
            [
             0.5,
             "#f7f7f7"
            ],
            [
             0.6,
             "#e6f5d0"
            ],
            [
             0.7,
             "#b8e186"
            ],
            [
             0.8,
             "#7fbc41"
            ],
            [
             0.9,
             "#4d9221"
            ],
            [
             1,
             "#276419"
            ]
           ],
           "sequential": [
            [
             0,
             "#0d0887"
            ],
            [
             0.1111111111111111,
             "#46039f"
            ],
            [
             0.2222222222222222,
             "#7201a8"
            ],
            [
             0.3333333333333333,
             "#9c179e"
            ],
            [
             0.4444444444444444,
             "#bd3786"
            ],
            [
             0.5555555555555556,
             "#d8576b"
            ],
            [
             0.6666666666666666,
             "#ed7953"
            ],
            [
             0.7777777777777778,
             "#fb9f3a"
            ],
            [
             0.8888888888888888,
             "#fdca26"
            ],
            [
             1,
             "#f0f921"
            ]
           ],
           "sequentialminus": [
            [
             0,
             "#0d0887"
            ],
            [
             0.1111111111111111,
             "#46039f"
            ],
            [
             0.2222222222222222,
             "#7201a8"
            ],
            [
             0.3333333333333333,
             "#9c179e"
            ],
            [
             0.4444444444444444,
             "#bd3786"
            ],
            [
             0.5555555555555556,
             "#d8576b"
            ],
            [
             0.6666666666666666,
             "#ed7953"
            ],
            [
             0.7777777777777778,
             "#fb9f3a"
            ],
            [
             0.8888888888888888,
             "#fdca26"
            ],
            [
             1,
             "#f0f921"
            ]
           ]
          },
          "colorway": [
           "#636efa",
           "#EF553B",
           "#00cc96",
           "#ab63fa",
           "#FFA15A",
           "#19d3f3",
           "#FF6692",
           "#B6E880",
           "#FF97FF",
           "#FECB52"
          ],
          "font": {
           "color": "#2a3f5f"
          },
          "geo": {
           "bgcolor": "white",
           "lakecolor": "white",
           "landcolor": "#E5ECF6",
           "showlakes": true,
           "showland": true,
           "subunitcolor": "white"
          },
          "hoverlabel": {
           "align": "left"
          },
          "hovermode": "closest",
          "mapbox": {
           "style": "light"
          },
          "paper_bgcolor": "white",
          "plot_bgcolor": "#E5ECF6",
          "polar": {
           "angularaxis": {
            "gridcolor": "white",
            "linecolor": "white",
            "ticks": ""
           },
           "bgcolor": "#E5ECF6",
           "radialaxis": {
            "gridcolor": "white",
            "linecolor": "white",
            "ticks": ""
           }
          },
          "scene": {
           "xaxis": {
            "backgroundcolor": "#E5ECF6",
            "gridcolor": "white",
            "gridwidth": 2,
            "linecolor": "white",
            "showbackground": true,
            "ticks": "",
            "zerolinecolor": "white"
           },
           "yaxis": {
            "backgroundcolor": "#E5ECF6",
            "gridcolor": "white",
            "gridwidth": 2,
            "linecolor": "white",
            "showbackground": true,
            "ticks": "",
            "zerolinecolor": "white"
           },
           "zaxis": {
            "backgroundcolor": "#E5ECF6",
            "gridcolor": "white",
            "gridwidth": 2,
            "linecolor": "white",
            "showbackground": true,
            "ticks": "",
            "zerolinecolor": "white"
           }
          },
          "shapedefaults": {
           "line": {
            "color": "#2a3f5f"
           }
          },
          "ternary": {
           "aaxis": {
            "gridcolor": "white",
            "linecolor": "white",
            "ticks": ""
           },
           "baxis": {
            "gridcolor": "white",
            "linecolor": "white",
            "ticks": ""
           },
           "bgcolor": "#E5ECF6",
           "caxis": {
            "gridcolor": "white",
            "linecolor": "white",
            "ticks": ""
           }
          },
          "title": {
           "x": 0.05
          },
          "xaxis": {
           "automargin": true,
           "gridcolor": "white",
           "linecolor": "white",
           "ticks": "",
           "title": {
            "standoff": 15
           },
           "zerolinecolor": "white",
           "zerolinewidth": 2
          },
          "yaxis": {
           "automargin": true,
           "gridcolor": "white",
           "linecolor": "white",
           "ticks": "",
           "title": {
            "standoff": 15
           },
           "zerolinecolor": "white",
           "zerolinewidth": 2
          }
         }
        },
        "title": {
         "text": ""
        },
        "width": 600
       }
      },
      "text/html": [
       "<div>                            <div id=\"a8fc2609-50d2-45ee-8622-0549a964b81f\" class=\"plotly-graph-div\" style=\"height:1000px; width:600px;\"></div>            <script type=\"text/javascript\">                require([\"plotly\"], function(Plotly) {                    window.PLOTLYENV=window.PLOTLYENV || {};                                    if (document.getElementById(\"a8fc2609-50d2-45ee-8622-0549a964b81f\")) {                    Plotly.newPlot(                        \"a8fc2609-50d2-45ee-8622-0549a964b81f\",                        [{\"arrangement\":\"snap\",\"link\":{\"color\":[\"rgba(31, 120, 180, 0.5)\",\"rgba(31, 120, 180, 0.5)\",\"rgba(31, 120, 180, 0.5)\",\"rgba(31, 120, 180, 0.5)\",\"rgba(31, 120, 180, 0.5)\",\"rgba(168, 168, 168, 0.5)\",\"rgba(168, 168, 168, 0.5)\",\"rgba(168, 168, 168, 0.5)\",\"rgba(168, 168, 168, 0.5)\",\"rgba(168, 168, 168, 0.5)\",\"rgba(178, 223, 138, 0.5)\",\"rgba(178, 223, 138, 0.5)\",\"rgba(178, 223, 138, 0.5)\",\"rgba(178, 223, 138, 0.5)\",\"rgba(178, 223, 138, 0.5)\",\"rgba(251, 154, 153, 0.5)\",\"rgba(251, 154, 153, 0.5)\",\"rgba(251, 154, 153, 0.5)\",\"rgba(251, 154, 153, 0.5)\",\"rgba(251, 154, 153, 0.5)\",\"rgba(227, 26, 28, 0.5)\",\"rgba(227, 26, 28, 0.5)\",\"rgba(227, 26, 28, 0.5)\",\"rgba(227, 26, 28, 0.5)\",\"rgba(227, 26, 28, 0.5)\"],\"source\":[0,0,0,0,0,1,1,1,1,1,2,2,2,2,2,3,3,3,3,3,4,4,4,4,4],\"target\":[5,6,7,8,9,5,6,7,8,9,5,6,7,8,9,5,6,7,8,9,5,6,7,8,9],\"value\":[35,0,0,0,0,0,91,3,1,0,0,6,360,0,0,0,2,2,18,0,0,0,0,0,4]},\"node\":{\"color\":\"white\",\"label\":[\"\",\"\",\"\",\"\",\"\",\"\",\"\",\"\",\"\",\"\"],\"line\":{\"color\":\"black\",\"width\":1},\"pad\":20,\"thickness\":60,\"x\":[0,0,0,0,0,1,1,1,1,1],\"y\":[0.0,0.2,0.4,0.6000000000000001,0.8,0.0,0.2,0.4,0.6000000000000001,0.8]},\"type\":\"sankey\"}],                        {\"template\":{\"data\":{\"histogram2dcontour\":[{\"type\":\"histogram2dcontour\",\"colorbar\":{\"outlinewidth\":0,\"ticks\":\"\"},\"colorscale\":[[0.0,\"#0d0887\"],[0.1111111111111111,\"#46039f\"],[0.2222222222222222,\"#7201a8\"],[0.3333333333333333,\"#9c179e\"],[0.4444444444444444,\"#bd3786\"],[0.5555555555555556,\"#d8576b\"],[0.6666666666666666,\"#ed7953\"],[0.7777777777777778,\"#fb9f3a\"],[0.8888888888888888,\"#fdca26\"],[1.0,\"#f0f921\"]]}],\"choropleth\":[{\"type\":\"choropleth\",\"colorbar\":{\"outlinewidth\":0,\"ticks\":\"\"}}],\"histogram2d\":[{\"type\":\"histogram2d\",\"colorbar\":{\"outlinewidth\":0,\"ticks\":\"\"},\"colorscale\":[[0.0,\"#0d0887\"],[0.1111111111111111,\"#46039f\"],[0.2222222222222222,\"#7201a8\"],[0.3333333333333333,\"#9c179e\"],[0.4444444444444444,\"#bd3786\"],[0.5555555555555556,\"#d8576b\"],[0.6666666666666666,\"#ed7953\"],[0.7777777777777778,\"#fb9f3a\"],[0.8888888888888888,\"#fdca26\"],[1.0,\"#f0f921\"]]}],\"heatmap\":[{\"type\":\"heatmap\",\"colorbar\":{\"outlinewidth\":0,\"ticks\":\"\"},\"colorscale\":[[0.0,\"#0d0887\"],[0.1111111111111111,\"#46039f\"],[0.2222222222222222,\"#7201a8\"],[0.3333333333333333,\"#9c179e\"],[0.4444444444444444,\"#bd3786\"],[0.5555555555555556,\"#d8576b\"],[0.6666666666666666,\"#ed7953\"],[0.7777777777777778,\"#fb9f3a\"],[0.8888888888888888,\"#fdca26\"],[1.0,\"#f0f921\"]]}],\"heatmapgl\":[{\"type\":\"heatmapgl\",\"colorbar\":{\"outlinewidth\":0,\"ticks\":\"\"},\"colorscale\":[[0.0,\"#0d0887\"],[0.1111111111111111,\"#46039f\"],[0.2222222222222222,\"#7201a8\"],[0.3333333333333333,\"#9c179e\"],[0.4444444444444444,\"#bd3786\"],[0.5555555555555556,\"#d8576b\"],[0.6666666666666666,\"#ed7953\"],[0.7777777777777778,\"#fb9f3a\"],[0.8888888888888888,\"#fdca26\"],[1.0,\"#f0f921\"]]}],\"contourcarpet\":[{\"type\":\"contourcarpet\",\"colorbar\":{\"outlinewidth\":0,\"ticks\":\"\"}}],\"contour\":[{\"type\":\"contour\",\"colorbar\":{\"outlinewidth\":0,\"ticks\":\"\"},\"colorscale\":[[0.0,\"#0d0887\"],[0.1111111111111111,\"#46039f\"],[0.2222222222222222,\"#7201a8\"],[0.3333333333333333,\"#9c179e\"],[0.4444444444444444,\"#bd3786\"],[0.5555555555555556,\"#d8576b\"],[0.6666666666666666,\"#ed7953\"],[0.7777777777777778,\"#fb9f3a\"],[0.8888888888888888,\"#fdca26\"],[1.0,\"#f0f921\"]]}],\"surface\":[{\"type\":\"surface\",\"colorbar\":{\"outlinewidth\":0,\"ticks\":\"\"},\"colorscale\":[[0.0,\"#0d0887\"],[0.1111111111111111,\"#46039f\"],[0.2222222222222222,\"#7201a8\"],[0.3333333333333333,\"#9c179e\"],[0.4444444444444444,\"#bd3786\"],[0.5555555555555556,\"#d8576b\"],[0.6666666666666666,\"#ed7953\"],[0.7777777777777778,\"#fb9f3a\"],[0.8888888888888888,\"#fdca26\"],[1.0,\"#f0f921\"]]}],\"mesh3d\":[{\"type\":\"mesh3d\",\"colorbar\":{\"outlinewidth\":0,\"ticks\":\"\"}}],\"scatter\":[{\"fillpattern\":{\"fillmode\":\"overlay\",\"size\":10,\"solidity\":0.2},\"type\":\"scatter\"}],\"parcoords\":[{\"type\":\"parcoords\",\"line\":{\"colorbar\":{\"outlinewidth\":0,\"ticks\":\"\"}}}],\"scatterpolargl\":[{\"type\":\"scatterpolargl\",\"marker\":{\"colorbar\":{\"outlinewidth\":0,\"ticks\":\"\"}}}],\"bar\":[{\"error_x\":{\"color\":\"#2a3f5f\"},\"error_y\":{\"color\":\"#2a3f5f\"},\"marker\":{\"line\":{\"color\":\"#E5ECF6\",\"width\":0.5},\"pattern\":{\"fillmode\":\"overlay\",\"size\":10,\"solidity\":0.2}},\"type\":\"bar\"}],\"scattergeo\":[{\"type\":\"scattergeo\",\"marker\":{\"colorbar\":{\"outlinewidth\":0,\"ticks\":\"\"}}}],\"scatterpolar\":[{\"type\":\"scatterpolar\",\"marker\":{\"colorbar\":{\"outlinewidth\":0,\"ticks\":\"\"}}}],\"histogram\":[{\"marker\":{\"pattern\":{\"fillmode\":\"overlay\",\"size\":10,\"solidity\":0.2}},\"type\":\"histogram\"}],\"scattergl\":[{\"type\":\"scattergl\",\"marker\":{\"colorbar\":{\"outlinewidth\":0,\"ticks\":\"\"}}}],\"scatter3d\":[{\"type\":\"scatter3d\",\"line\":{\"colorbar\":{\"outlinewidth\":0,\"ticks\":\"\"}},\"marker\":{\"colorbar\":{\"outlinewidth\":0,\"ticks\":\"\"}}}],\"scattermapbox\":[{\"type\":\"scattermapbox\",\"marker\":{\"colorbar\":{\"outlinewidth\":0,\"ticks\":\"\"}}}],\"scatterternary\":[{\"type\":\"scatterternary\",\"marker\":{\"colorbar\":{\"outlinewidth\":0,\"ticks\":\"\"}}}],\"scattercarpet\":[{\"type\":\"scattercarpet\",\"marker\":{\"colorbar\":{\"outlinewidth\":0,\"ticks\":\"\"}}}],\"carpet\":[{\"aaxis\":{\"endlinecolor\":\"#2a3f5f\",\"gridcolor\":\"white\",\"linecolor\":\"white\",\"minorgridcolor\":\"white\",\"startlinecolor\":\"#2a3f5f\"},\"baxis\":{\"endlinecolor\":\"#2a3f5f\",\"gridcolor\":\"white\",\"linecolor\":\"white\",\"minorgridcolor\":\"white\",\"startlinecolor\":\"#2a3f5f\"},\"type\":\"carpet\"}],\"table\":[{\"cells\":{\"fill\":{\"color\":\"#EBF0F8\"},\"line\":{\"color\":\"white\"}},\"header\":{\"fill\":{\"color\":\"#C8D4E3\"},\"line\":{\"color\":\"white\"}},\"type\":\"table\"}],\"barpolar\":[{\"marker\":{\"line\":{\"color\":\"#E5ECF6\",\"width\":0.5},\"pattern\":{\"fillmode\":\"overlay\",\"size\":10,\"solidity\":0.2}},\"type\":\"barpolar\"}],\"pie\":[{\"automargin\":true,\"type\":\"pie\"}]},\"layout\":{\"autotypenumbers\":\"strict\",\"colorway\":[\"#636efa\",\"#EF553B\",\"#00cc96\",\"#ab63fa\",\"#FFA15A\",\"#19d3f3\",\"#FF6692\",\"#B6E880\",\"#FF97FF\",\"#FECB52\"],\"font\":{\"color\":\"#2a3f5f\"},\"hovermode\":\"closest\",\"hoverlabel\":{\"align\":\"left\"},\"paper_bgcolor\":\"white\",\"plot_bgcolor\":\"#E5ECF6\",\"polar\":{\"bgcolor\":\"#E5ECF6\",\"angularaxis\":{\"gridcolor\":\"white\",\"linecolor\":\"white\",\"ticks\":\"\"},\"radialaxis\":{\"gridcolor\":\"white\",\"linecolor\":\"white\",\"ticks\":\"\"}},\"ternary\":{\"bgcolor\":\"#E5ECF6\",\"aaxis\":{\"gridcolor\":\"white\",\"linecolor\":\"white\",\"ticks\":\"\"},\"baxis\":{\"gridcolor\":\"white\",\"linecolor\":\"white\",\"ticks\":\"\"},\"caxis\":{\"gridcolor\":\"white\",\"linecolor\":\"white\",\"ticks\":\"\"}},\"coloraxis\":{\"colorbar\":{\"outlinewidth\":0,\"ticks\":\"\"}},\"colorscale\":{\"sequential\":[[0.0,\"#0d0887\"],[0.1111111111111111,\"#46039f\"],[0.2222222222222222,\"#7201a8\"],[0.3333333333333333,\"#9c179e\"],[0.4444444444444444,\"#bd3786\"],[0.5555555555555556,\"#d8576b\"],[0.6666666666666666,\"#ed7953\"],[0.7777777777777778,\"#fb9f3a\"],[0.8888888888888888,\"#fdca26\"],[1.0,\"#f0f921\"]],\"sequentialminus\":[[0.0,\"#0d0887\"],[0.1111111111111111,\"#46039f\"],[0.2222222222222222,\"#7201a8\"],[0.3333333333333333,\"#9c179e\"],[0.4444444444444444,\"#bd3786\"],[0.5555555555555556,\"#d8576b\"],[0.6666666666666666,\"#ed7953\"],[0.7777777777777778,\"#fb9f3a\"],[0.8888888888888888,\"#fdca26\"],[1.0,\"#f0f921\"]],\"diverging\":[[0,\"#8e0152\"],[0.1,\"#c51b7d\"],[0.2,\"#de77ae\"],[0.3,\"#f1b6da\"],[0.4,\"#fde0ef\"],[0.5,\"#f7f7f7\"],[0.6,\"#e6f5d0\"],[0.7,\"#b8e186\"],[0.8,\"#7fbc41\"],[0.9,\"#4d9221\"],[1,\"#276419\"]]},\"xaxis\":{\"gridcolor\":\"white\",\"linecolor\":\"white\",\"ticks\":\"\",\"title\":{\"standoff\":15},\"zerolinecolor\":\"white\",\"automargin\":true,\"zerolinewidth\":2},\"yaxis\":{\"gridcolor\":\"white\",\"linecolor\":\"white\",\"ticks\":\"\",\"title\":{\"standoff\":15},\"zerolinecolor\":\"white\",\"automargin\":true,\"zerolinewidth\":2},\"scene\":{\"xaxis\":{\"backgroundcolor\":\"#E5ECF6\",\"gridcolor\":\"white\",\"linecolor\":\"white\",\"showbackground\":true,\"ticks\":\"\",\"zerolinecolor\":\"white\",\"gridwidth\":2},\"yaxis\":{\"backgroundcolor\":\"#E5ECF6\",\"gridcolor\":\"white\",\"linecolor\":\"white\",\"showbackground\":true,\"ticks\":\"\",\"zerolinecolor\":\"white\",\"gridwidth\":2},\"zaxis\":{\"backgroundcolor\":\"#E5ECF6\",\"gridcolor\":\"white\",\"linecolor\":\"white\",\"showbackground\":true,\"ticks\":\"\",\"zerolinecolor\":\"white\",\"gridwidth\":2}},\"shapedefaults\":{\"line\":{\"color\":\"#2a3f5f\"}},\"annotationdefaults\":{\"arrowcolor\":\"#2a3f5f\",\"arrowhead\":0,\"arrowwidth\":1},\"geo\":{\"bgcolor\":\"white\",\"landcolor\":\"#E5ECF6\",\"subunitcolor\":\"white\",\"showland\":true,\"showlakes\":true,\"lakecolor\":\"white\"},\"title\":{\"x\":0.05},\"mapbox\":{\"style\":\"light\"}}},\"title\":{\"text\":\"\"},\"font\":{\"size\":28,\"family\":\"helvetica\"},\"width\":600,\"height\":1000},                        {\"responsive\": true}                    ).then(function(){\n",
       "                            \n",
       "var gd = document.getElementById('a8fc2609-50d2-45ee-8622-0549a964b81f');\n",
       "var x = new MutationObserver(function (mutations, observer) {{\n",
       "        var display = window.getComputedStyle(gd).display;\n",
       "        if (!display || display === 'none') {{\n",
       "            console.log([gd, 'removed!']);\n",
       "            Plotly.purge(gd);\n",
       "            observer.disconnect();\n",
       "        }}\n",
       "}});\n",
       "\n",
       "// Listen for the removal of the full notebook cells\n",
       "var notebookContainer = gd.closest('#notebook-container');\n",
       "if (notebookContainer) {{\n",
       "    x.observe(notebookContainer, {childList: true});\n",
       "}}\n",
       "\n",
       "// Listen for the clearing of the current output cell\n",
       "var outputEl = gd.closest('.output');\n",
       "if (outputEl) {{\n",
       "    x.observe(outputEl, {childList: true});\n",
       "}}\n",
       "\n",
       "                        })                };                });            </script>        </div>"
      ]
     },
     "metadata": {},
     "output_type": "display_data"
    }
   ],
   "source": [
    "#Figure 1: Single cell Sankey plot\n",
    "from SC_sankey_plot import *\n",
    "scores_all_tumours = pd.read_csv(f'{output_directory}/output/single_cell/single_cell_default/cohort_outputs/scores/scores_all_tumours.csv')[['clone','allele','segment','tumour_id','cn_true','cn_alpaca','correct']].drop_duplicates()\n",
    "scores_all_tumours.cn_alpaca.clip(upper=5,inplace=True)\n",
    "sankey = plotFlowDiagramSC(scores_all_tumours,'',hide_labels=True)\n",
    "sankey.write_image(f'{output_directory}/figures/Fig1h_SC_sankey.pdf')\n",
    "sankey"
   ]
  },
  {
   "cell_type": "code",
   "execution_count": null,
   "metadata": {},
   "outputs": [],
   "source": [
    "# first submission figures\n",
    "# Figure 1: matching comparison\n",
    "#import MASCOTE_matching_comparison_boxplot\n",
    "#scores_matched_comparison_all_tumours = f'{output_directory}/output/mascote/mascote_default/cohort_outputs/scores/scores_matched_comparison_all_tumours.csv'\n",
    "#cohort_results = pd.read_csv(scores_matched_comparison_all_tumours)\n",
    "#fig, w, h, scale, results = MASCOTE_matching_comparison_boxplot.make_matching_comparison_plot(cohort_results)\n",
    "#fig.write_image(f'{output_directory}/figures/previous_Fig1b_matching_comparison_boxplot.pdf', width=w, height=h,scale=scale)\n",
    "#results.to_csv(f'{output_directory}/figures/previous_Fig1b_matching_comparison_p_vals.csv', index=False)\n",
    "#print(results)\n",
    "#fig.show()"
   ]
  },
  {
   "cell_type": "code",
   "execution_count": null,
   "metadata": {},
   "outputs": [],
   "source": [
    "# Figure 1: comparison with simple model\n",
    "#import SIMULATIONS_compare_models_hist_prec_recall\n",
    "#simulation_cohort = 'simulations'\n",
    "#simulation_run = 'simulations_default'\n",
    "#simple_run = 'simple_model_default'\n",
    "#alpaca_scores = pd.read_csv(f'{output_directory}/output/{simulation_cohort}/{simulation_run}/cohort_outputs/scores/subclonal_scores_summary_ALPACA.csv')\n",
    "#simple_scores = pd.read_csv(f'{output_directory}/output/{simulation_cohort}/{simple_run}/cohort_outputs/scores/subclonal_scores_summary_ALPACA.csv')\n",
    "#fig = SIMULATIONS_compare_models_hist_prec_recall.make_comparison_histogram(alpaca_scores,simple_scores)\n",
    "#fig.savefig(f'{output_directory}/figures/previous_Fig1c_histograms_alpaca_simple_comparison.png', bbox_inches='tight')\n",
    "#fig.show()"
   ]
  },
  {
   "cell_type": "code",
   "execution_count": null,
   "metadata": {},
   "outputs": [],
   "source": [
    "# Figure 1: barplot comparison\n",
    "#import SIMULATIONS_barplot_comp_with_simple_model\n",
    "#alpaca_scores_per_clone = pd.read_csv(f'{output_directory}/output/{simulation_cohort}/{simulation_run}/cohort_outputs/scores/all_scores_summary_ALPACA.csv')\n",
    "#simple_scores_per_clone = pd.read_csv(f'{output_directory}/output/{simulation_cohort}/{simple_run}/cohort_outputs/scores/all_scores_summary_ALPACA.csv')\n",
    "#fig = SIMULATIONS_barplot_comp_with_simple_model.make_barplot_comparison_plot_per_clone(alpaca_scores_per_clone,simple_scores_per_clone,font_size_points=4)\n",
    "#fig.write_image(f'{output_directory}/figures/previous_Fig1d_barplot_alpaca_simple_comparison.pdf')\n",
    "#fig.show()"
   ]
  }
 ],
 "metadata": {
  "kernelspec": {
   "display_name": "main_env",
   "language": "python",
   "name": "python3"
  },
  "language_info": {
   "codemirror_mode": {
    "name": "ipython",
    "version": 3
   },
   "file_extension": ".py",
   "mimetype": "text/x-python",
   "name": "python",
   "nbconvert_exporter": "python",
   "pygments_lexer": "ipython3",
   "version": "3.13.2"
  }
 },
 "nbformat": 4,
 "nbformat_minor": 2
}
