{
 "cells": [
  {
   "cell_type": "code",
   "execution_count": null,
   "metadata": {},
   "outputs": [],
   "source": [
    "from SIMULATIONS_sankey_plot import *\n",
    "scores_all_tumours = f'../../output/simulations/simulations_default/cohort_outputs/scores/scores_all_tumours.csv'\n",
    "scores_all_tumours = pd.read_csv(scores_all_tumours)\n",
    "scores_all_tumours = scores_all_tumours[['clone','allele','segment','tumour_id','cn_true','cn_alpaca','correct']].drop_duplicates()\n",
    "scores_all_tumours.cn_alpaca.clip(upper=5,inplace=True)\n",
    "plotFlowDiagram(scores_all_tumours,'',hide_labels=True)"
   ]
  }
 ],
 "metadata": {
  "kernelspec": {
   "display_name": "Python 3",
   "language": "python",
   "name": "python3"
  },
  "language_info": {
   "codemirror_mode": {
    "name": "ipython",
    "version": 3
   },
   "file_extension": ".py",
   "mimetype": "text/x-python",
   "name": "python",
   "nbconvert_exporter": "python",
   "pygments_lexer": "ipython3",
   "version": "3.9.13"
  }
 },
 "nbformat": 4,
 "nbformat_minor": 2
}
