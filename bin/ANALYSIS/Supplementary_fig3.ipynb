{
 "cells": [
  {
   "cell_type": "code",
   "execution_count": 3,
   "metadata": {},
   "outputs": [
    {
     "name": "stdout",
     "output_type": "stream",
     "text": [
      "Correlation Coefficient: 0.34772280226812347\n",
      "P-value: 0.030077413140332424\n",
      "Correlation Coefficient: 0.3541299574910943\n",
      "P-value: 0.026979433351861967\n",
      "Correlation Coefficient: 0.39074103414670125\n",
      "P-value: 0.01391533533577434\n"
     ]
    }
   ],
   "source": [
    "import CHARM_scores\n",
    "import pandas as pd\n",
    "import os,sys\n",
    "# set correct wd:\n",
    "cwd = os.getcwd()\n",
    "if not cwd.endswith('ANALYSIS'):\n",
    "    os.chdir('./bin/ANALYSIS')\n",
    "    sys.path.append(os.path.abspath('.'))\n",
    "output_directory = '../../'\n",
    "os.makedirs(f'{output_directory}/figures', exist_ok=True)\n",
    "\n",
    "output_directory = '../../figures'\n",
    "charm_table = pd.read_csv('../../_assets/charm_table.csv')\n",
    "regional_arm_level_events_loh = pd.read_csv('../../_assets/regional_arm_level_events_loh.csv')\n",
    "alpaca_unique = CHARM_scores.make_plotting_df(regional_arm_level_events_loh.copy(),charm_table.copy(),'alpaca_unique') # only ALPACA unique calls, i.e. not visible regionally\n",
    "region_unique = CHARM_scores.make_plotting_df(regional_arm_level_events_loh.copy(),charm_table.copy(),'regional_arm_level_loh') # all regional calls, regardless of the detection by ALPACA\n",
    "alpaca_all = CHARM_scores.make_plotting_df(regional_arm_level_events_loh.copy(),charm_table.copy(),'alpaca_arm_level_loh') # all ALAPCA calls including those that are also visible regionally\n",
    "\n",
    "alpaca_unique_correlation_coefficient, alpaca_unique_p_value = CHARM_scores.get_correlation_and_P(alpaca_unique)\n",
    "region_unique_correlation_coefficient, region_unique_p_value = CHARM_scores.get_correlation_and_P(region_unique)\n",
    "alpaca_all_correlation_coefficient, alpaca_all_p_value = CHARM_scores.get_correlation_and_P(alpaca_all)\n",
    "\n",
    "alpaca_all_fig = CHARM_scores.make_plot(alpaca_all,'Arm-level LOH fraction detected by ALPACA',alpaca_all_p_value,alpaca_all_correlation_coefficient,30)\n",
    "alpaca_all_fig.write_image(f'{output_directory}/Suppfig3a_correlation_with_charm_tsg_score_all_ALPACA_LOH_arm_level.png',width=2000, height=800, scale=2)\n",
    "\n",
    "alpaca_unique_fig = CHARM_scores.make_plot(alpaca_unique,'Arm-level LOH fraction detected uniquely by ALPACA',alpaca_unique_p_value,alpaca_unique_correlation_coefficient,30)\n",
    "alpaca_unique_fig.write_image(f'{output_directory}/Suppfig3b_correlation_with_charm_tsg_score_unique_ALPACA_LOH_arm_level.png',width=2000, height=800, scale=2)\n",
    "\n",
    "region_unique_fig = CHARM_scores.make_plot(region_unique,'Arm-level LOH fraction detected on sample level',region_unique_p_value,region_unique_correlation_coefficient,30)\n",
    "region_unique_fig.write_image(f'{output_directory}/Suppfig3c_correlation_with_charm_tsg_score_region_LOH_arm_level.png',width=2000, height=800, scale=2)"
   ]
  }
 ],
 "metadata": {
  "kernelspec": {
   "display_name": "Python 3",
   "language": "python",
   "name": "python3"
  },
  "language_info": {
   "codemirror_mode": {
    "name": "ipython",
    "version": 3
   },
   "file_extension": ".py",
   "mimetype": "text/x-python",
   "name": "python",
   "nbconvert_exporter": "python",
   "pygments_lexer": "ipython3",
   "version": "3.9.13"
  }
 },
 "nbformat": 4,
 "nbformat_minor": 2
}
