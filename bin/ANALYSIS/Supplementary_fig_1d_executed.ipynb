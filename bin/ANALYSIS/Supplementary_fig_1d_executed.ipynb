{
 "cells": [
  {
   "cell_type": "code",
   "execution_count": 1,
   "id": "d2cf313a",
   "metadata": {
    "execution": {
     "iopub.execute_input": "2025-05-23T13:53:15.528179Z",
     "iopub.status.busy": "2025-05-23T13:53:15.527785Z",
     "iopub.status.idle": "2025-05-23T13:53:20.511066Z",
     "shell.execute_reply": "2025-05-23T13:53:20.510274Z"
    },
    "papermill": {
     "duration": 4.988252,
     "end_time": "2025-05-23T13:53:20.512862",
     "exception": false,
     "start_time": "2025-05-23T13:53:15.524610",
     "status": "completed"
    },
    "tags": []
   },
   "outputs": [],
   "source": [
    "import pandas as pd\n",
    "import os\n",
    "import plotly.graph_objects as go\n",
    "if os.getcwd().endswith('ALPACA-paper'):\n",
    "    os.chdir('bin/ANALYSIS')\n",
    "output_dir = \"../../_assets/ancestral_concordance\"\n",
    "files = [x for x in os.listdir(output_dir) if x.endswith('.csv')]\n",
    "results_df = pd.concat([pd.read_csv(f'{output_dir}/{x}') for x in files])\n",
    "results_df = results_df[results_df.het=='clonal']\n",
    "fig = go.Figure()   \n",
    "scale = 0.2\n",
    "font_size = 45\n",
    "w = 600\n",
    "h = 800\n",
    "fonts = 'DejaVu Sans'\n",
    "y_axis_title='Clustering concordance'\n",
    "x_axis_title='% of genome removed'\n",
    "fig.update_layout(title='', font=dict(family=fonts, size=font_size), width=w, height=h, showlegend=False, plot_bgcolor='rgba(0,0,0,0)', paper_bgcolor='rgba(0,0,0,0)')\n",
    "\n",
    "fig.update_xaxes(showgrid=False, title=x_axis_title,title_font=dict(family=fonts, size=font_size*0.7))\n",
    "fig.update_yaxes(showgrid=True, gridwidth=1, gridcolor='black', zeroline=True, zerolinecolor='black', zerolinewidth=1,title=y_axis_title, title_font=dict(family=fonts, size=font_size*0.7),)\n",
    "jitter_value = 0\n",
    "point_size = 7\n",
    "line_width = 2\n",
    "\n",
    "for cohort in results_df.comparison_cohort.unique():\n",
    "    cohort_results = results_df[results_df.comparison_cohort==cohort]\n",
    "    y_name = str(int(float(cohort.replace('SCNA_', ''))*100))+'%'\n",
    "    trace = go.Box(y=cohort_results.concordance_scores, orientation='v', boxpoints='outliers', jitter=jitter_value, pointpos=0, line=dict(width=line_width), marker=dict(size=point_size),name=y_name)\n",
    "    fig.add_trace(trace)\n",
    "\n",
    "fig.update_layout(\n",
    "    paper_bgcolor='white',\n",
    "    plot_bgcolor='white'\n",
    ")\n",
    "fig.write_image(f'../../figures/Suppfig1d_ancestral_concordance_boxplot.pdf', format='pdf')"
   ]
  }
 ],
 "metadata": {
  "kernelspec": {
   "display_name": "main_env",
   "language": "python",
   "name": "python3"
  },
  "language_info": {
   "codemirror_mode": {
    "name": "ipython",
    "version": 3
   },
   "file_extension": ".py",
   "mimetype": "text/x-python",
   "name": "python",
   "nbconvert_exporter": "python",
   "pygments_lexer": "ipython3",
   "version": "3.13.2"
  },
  "papermill": {
   "default_parameters": {},
   "duration": 6.593478,
   "end_time": "2025-05-23T13:53:20.831721",
   "environment_variables": {},
   "exception": null,
   "input_path": "bin/ANALYSIS/Supplementary_fig_1d.ipynb",
   "output_path": "bin/ANALYSIS/Supplementary_fig_1d_executed.ipynb",
   "parameters": {},
   "start_time": "2025-05-23T13:53:14.238243",
   "version": "2.6.0"
  }
 },
 "nbformat": 4,
 "nbformat_minor": 5
}