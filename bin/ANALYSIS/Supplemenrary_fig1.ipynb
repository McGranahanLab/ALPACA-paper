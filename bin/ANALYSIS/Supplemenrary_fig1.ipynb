{
 "cells": [
  {
   "cell_type": "code",
   "execution_count": null,
   "metadata": {
    "ExecuteTime": {
     "end_time": "2024-04-21T15:01:07.948984Z",
     "start_time": "2024-04-21T15:01:07.930585Z"
    }
   },
   "outputs": [],
   "source": [
    "import pandas as pd\n",
    "import numpy as np\n",
    "import warnings\n",
    "warnings.filterwarnings('ignore')\n",
    "import plotly.io as pio   \n",
    "pio.kaleido.scope.mathjax = None\n",
    "import seaborn as sns\n",
    "import matplotlib.pyplot as plt\n",
    "import os,sys\n",
    "# set correct wd:\n",
    "cwd = os.getcwd()\n",
    "if not cwd.endswith('ANALYSIS'):\n",
    "    os.chdir('./bin/ANALYSIS')\n",
    "    sys.path.append(os.path.abspath('.'))\n",
    "output_directory = '../../output'\n",
    "os.makedirs(f'{output_directory}/figures', exist_ok=True)"
   ]
  },
  {
   "cell_type": "code",
   "execution_count": null,
   "metadata": {},
   "outputs": [],
   "source": [
    "# Supplementary figure 1: simulated cohort overview\n",
    "pivot_table = pd.read_csv(f'{output_directory}/simulations/simulations_default/cohort_outputs/simulated_cohort_overview.csv',index_col=0)\n",
    "mask = pivot_table == 0\n",
    "plt.figure(figsize=(8, 6))\n",
    "sns.heatmap(pivot_table, cmap='viridis', annot=False, cbar_kws={'label': 'Tumour count'}, mask=mask)\n",
    "plt.title('Number of clones and samples in simulated cohort')\n",
    "plt.xlabel('Number of clones')\n",
    "plt.ylabel('Number of samples')\n",
    "plt.show()\n",
    "plt.savefig(f'../../figures/Suppfig1a_simulated_cohort_overview.pdf')"
   ]
  },
  {
   "cell_type": "code",
   "execution_count": null,
   "metadata": {},
   "outputs": [],
   "source": [
    "# Supplementary figure 1: single cell clone proportions\n",
    "selected_tumours = ['S0noise0.1']\n",
    "input_data_directory = f'{output_directory}/single_cell/single_cell_default/patient_outputs'\n",
    "cp_table = pd.read_csv(f'{input_data_directory}/cp_table.csv',index_col='clone')\n",
    "cp_table = cp_table.round(3)\n",
    "plt.figure(figsize=(4, 4))\n",
    "plt.rcParams['font.family'] = 'Helvetica'\n",
    "sns.heatmap(cp_table, cmap='Blues', annot=True, cbar_kws={'label': 'Clone proportion'})\n",
    "plt.title('Clone proportions in single cell study')\n",
    "plt.xlabel('Samples')\n",
    "plt.ylabel('Clones')\n",
    "plt.show()\n",
    "plt.savefig(f'../../figures/Suppfig1b_single_cell_clone_proportions.pdf')"
   ]
  },
  {
   "cell_type": "code",
   "execution_count": null,
   "metadata": {},
   "outputs": [],
   "source": [
    "# Supplementary Figure 1: simulations example case:\n",
    "import SIMULATIONS_make_example_case_heatmaps\n",
    "tumour_id='LTXSIM127'\n",
    "input_data_directory = f'{output_directory}/simulations/simulations_default/patient_outputs'\n",
    "cohort_results_file = f'{output_directory}/simulations/simulations_default/cohort_outputs/combined.csv'\n",
    "chr_table_file = f'{output_directory}/../_assets/chr_len.csv'\n",
    "wgd_calls = f'{output_directory}/simulations/simulations_default/cohort_outputs/wgd_calls.csv'\n",
    "wgd_calls = pd.read_csv(wgd_calls)\n",
    "cohort_results = pd.read_csv(cohort_results_file)\n",
    "tumour_input_directory = f'{input_data_directory}/{tumour_id}'\n",
    "true = pd.read_csv(f'{tumour_input_directory}/copynumbers.csv')\n",
    "true = SIMULATIONS_make_example_case_heatmaps.true_unify_format(true)\n",
    "tumour_wgd_calls = wgd_calls[wgd_calls.tumour_id == tumour_id]\n",
    "wgd_clones = list(tumour_wgd_calls[tumour_wgd_calls.GD > 0].clones)\n",
    "alpaca_output = cohort_results[cohort_results.tumour_id==tumour_id]\n",
    "alpaca_output = alpaca_output[alpaca_output.clone!='diploid']\n",
    "heatmap_A = SIMULATIONS_make_example_case_heatmaps.plot_heatmap_with_tree_compare_with_true_solution_publication(alpaca_output=alpaca_output,input_data_directory=tumour_input_directory, chr_table_file=chr_table_file,wgd_clones=wgd_clones, max_cpn_cap=8, allele='A', true_solution_df=true, plot_comparison=True, sort_alleles=False)\n",
    "heatmap_A.fig.write_image(f'../../figures/Suppfig1c_ALPACA_simulations_{tumour_id}_A_example_heatmap.pdf')\n",
    "heatmap_B = SIMULATIONS_make_example_case_heatmaps.plot_heatmap_with_tree_compare_with_true_solution_publication(alpaca_output=alpaca_output,input_data_directory=tumour_input_directory, chr_table_file=chr_table_file,wgd_clones=wgd_clones, max_cpn_cap=8, allele='B', true_solution_df=true, plot_comparison=True, sort_alleles=False)\n",
    "heatmap_B.fig.write_image(f'../../figures/Suppfig1d_ALPACA_simulations_{tumour_id}_B_example_heatmap.pdf')"
   ]
  },
  {
   "cell_type": "code",
   "execution_count": null,
   "metadata": {},
   "outputs": [],
   "source": [
    "heatmap_A.fig.show()"
   ]
  }
 ],
 "metadata": {
  "kernelspec": {
   "display_name": "main",
   "language": "python",
   "name": "python3"
  },
  "language_info": {
   "codemirror_mode": {
    "name": "ipython",
    "version": 3
   },
   "file_extension": ".py",
   "mimetype": "text/x-python",
   "name": "python",
   "nbconvert_exporter": "python",
   "pygments_lexer": "ipython3",
   "version": "3.13.2"
  }
 },
 "nbformat": 4,
 "nbformat_minor": 2
}
